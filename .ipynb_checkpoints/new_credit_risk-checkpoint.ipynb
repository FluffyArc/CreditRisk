{
 "cells": [
  {
   "cell_type": "code",
   "execution_count": 2,
   "id": "53cb387a-e251-4695-bac8-ccd5d39b0609",
   "metadata": {
    "tags": []
   },
   "outputs": [],
   "source": [
    "import pandas as pd\n",
    "import numpy as np\n",
    "import matplotlib.pyplot as plt\n",
    "import seaborn as sns\n",
    "import warnings\n",
    "\n",
    "warnings.filterwarnings('ignore')\n",
    "pd.set_option('display.max_columns', None)\n",
    "\n",
    "df = pd.read_csv('loan_data_2007_2014.csv')"
   ]
  },
  {
   "cell_type": "code",
   "execution_count": 3,
   "id": "25d47e26-7281-4090-a63e-bdcef5f4ca96",
   "metadata": {},
   "outputs": [
    {
     "data": {
      "text/html": [
       "<div>\n",
       "<style scoped>\n",
       "    .dataframe tbody tr th:only-of-type {\n",
       "        vertical-align: middle;\n",
       "    }\n",
       "\n",
       "    .dataframe tbody tr th {\n",
       "        vertical-align: top;\n",
       "    }\n",
       "\n",
       "    .dataframe thead th {\n",
       "        text-align: right;\n",
       "    }\n",
       "</style>\n",
       "<table border=\"1\" class=\"dataframe\">\n",
       "  <thead>\n",
       "    <tr style=\"text-align: right;\">\n",
       "      <th></th>\n",
       "      <th>Unnamed: 0</th>\n",
       "      <th>id</th>\n",
       "      <th>member_id</th>\n",
       "      <th>loan_amnt</th>\n",
       "      <th>funded_amnt</th>\n",
       "      <th>funded_amnt_inv</th>\n",
       "      <th>term</th>\n",
       "      <th>int_rate</th>\n",
       "      <th>installment</th>\n",
       "      <th>grade</th>\n",
       "      <th>sub_grade</th>\n",
       "      <th>emp_title</th>\n",
       "      <th>emp_length</th>\n",
       "      <th>home_ownership</th>\n",
       "      <th>annual_inc</th>\n",
       "      <th>verification_status</th>\n",
       "      <th>issue_d</th>\n",
       "      <th>loan_status</th>\n",
       "      <th>pymnt_plan</th>\n",
       "      <th>url</th>\n",
       "      <th>desc</th>\n",
       "      <th>purpose</th>\n",
       "      <th>title</th>\n",
       "      <th>zip_code</th>\n",
       "      <th>addr_state</th>\n",
       "      <th>dti</th>\n",
       "      <th>delinq_2yrs</th>\n",
       "      <th>earliest_cr_line</th>\n",
       "      <th>inq_last_6mths</th>\n",
       "      <th>mths_since_last_delinq</th>\n",
       "      <th>mths_since_last_record</th>\n",
       "      <th>open_acc</th>\n",
       "      <th>pub_rec</th>\n",
       "      <th>revol_bal</th>\n",
       "      <th>revol_util</th>\n",
       "      <th>total_acc</th>\n",
       "      <th>initial_list_status</th>\n",
       "      <th>out_prncp</th>\n",
       "      <th>out_prncp_inv</th>\n",
       "      <th>total_pymnt</th>\n",
       "      <th>total_pymnt_inv</th>\n",
       "      <th>total_rec_prncp</th>\n",
       "      <th>total_rec_int</th>\n",
       "      <th>total_rec_late_fee</th>\n",
       "      <th>recoveries</th>\n",
       "      <th>collection_recovery_fee</th>\n",
       "      <th>last_pymnt_d</th>\n",
       "      <th>last_pymnt_amnt</th>\n",
       "      <th>next_pymnt_d</th>\n",
       "      <th>last_credit_pull_d</th>\n",
       "      <th>collections_12_mths_ex_med</th>\n",
       "      <th>mths_since_last_major_derog</th>\n",
       "      <th>policy_code</th>\n",
       "      <th>application_type</th>\n",
       "      <th>annual_inc_joint</th>\n",
       "      <th>dti_joint</th>\n",
       "      <th>verification_status_joint</th>\n",
       "      <th>acc_now_delinq</th>\n",
       "      <th>tot_coll_amt</th>\n",
       "      <th>tot_cur_bal</th>\n",
       "      <th>open_acc_6m</th>\n",
       "      <th>open_il_6m</th>\n",
       "      <th>open_il_12m</th>\n",
       "      <th>open_il_24m</th>\n",
       "      <th>mths_since_rcnt_il</th>\n",
       "      <th>total_bal_il</th>\n",
       "      <th>il_util</th>\n",
       "      <th>open_rv_12m</th>\n",
       "      <th>open_rv_24m</th>\n",
       "      <th>max_bal_bc</th>\n",
       "      <th>all_util</th>\n",
       "      <th>total_rev_hi_lim</th>\n",
       "      <th>inq_fi</th>\n",
       "      <th>total_cu_tl</th>\n",
       "      <th>inq_last_12m</th>\n",
       "    </tr>\n",
       "  </thead>\n",
       "  <tbody>\n",
       "    <tr>\n",
       "      <th>0</th>\n",
       "      <td>0</td>\n",
       "      <td>1077501</td>\n",
       "      <td>1296599</td>\n",
       "      <td>5000</td>\n",
       "      <td>5000</td>\n",
       "      <td>4975.0</td>\n",
       "      <td>36 months</td>\n",
       "      <td>10.65</td>\n",
       "      <td>162.87</td>\n",
       "      <td>B</td>\n",
       "      <td>B2</td>\n",
       "      <td>NaN</td>\n",
       "      <td>10+ years</td>\n",
       "      <td>RENT</td>\n",
       "      <td>24000.0</td>\n",
       "      <td>Verified</td>\n",
       "      <td>Dec-11</td>\n",
       "      <td>Fully Paid</td>\n",
       "      <td>n</td>\n",
       "      <td>https://www.lendingclub.com/browse/loanDetail....</td>\n",
       "      <td>Borrower added on 12/22/11 &gt; I need to upgra...</td>\n",
       "      <td>credit_card</td>\n",
       "      <td>Computer</td>\n",
       "      <td>860xx</td>\n",
       "      <td>AZ</td>\n",
       "      <td>27.65</td>\n",
       "      <td>0.0</td>\n",
       "      <td>Jan-85</td>\n",
       "      <td>1.0</td>\n",
       "      <td>NaN</td>\n",
       "      <td>NaN</td>\n",
       "      <td>3.0</td>\n",
       "      <td>0.0</td>\n",
       "      <td>13648</td>\n",
       "      <td>83.7</td>\n",
       "      <td>9.0</td>\n",
       "      <td>f</td>\n",
       "      <td>0.0</td>\n",
       "      <td>0.0</td>\n",
       "      <td>5861.071414</td>\n",
       "      <td>5831.78</td>\n",
       "      <td>5000.00</td>\n",
       "      <td>861.07</td>\n",
       "      <td>0.0</td>\n",
       "      <td>0.00</td>\n",
       "      <td>0.00</td>\n",
       "      <td>Jan-15</td>\n",
       "      <td>171.62</td>\n",
       "      <td>NaN</td>\n",
       "      <td>Jan-16</td>\n",
       "      <td>0.0</td>\n",
       "      <td>NaN</td>\n",
       "      <td>1</td>\n",
       "      <td>INDIVIDUAL</td>\n",
       "      <td>NaN</td>\n",
       "      <td>NaN</td>\n",
       "      <td>NaN</td>\n",
       "      <td>0.0</td>\n",
       "      <td>NaN</td>\n",
       "      <td>NaN</td>\n",
       "      <td>NaN</td>\n",
       "      <td>NaN</td>\n",
       "      <td>NaN</td>\n",
       "      <td>NaN</td>\n",
       "      <td>NaN</td>\n",
       "      <td>NaN</td>\n",
       "      <td>NaN</td>\n",
       "      <td>NaN</td>\n",
       "      <td>NaN</td>\n",
       "      <td>NaN</td>\n",
       "      <td>NaN</td>\n",
       "      <td>NaN</td>\n",
       "      <td>NaN</td>\n",
       "      <td>NaN</td>\n",
       "      <td>NaN</td>\n",
       "    </tr>\n",
       "    <tr>\n",
       "      <th>1</th>\n",
       "      <td>1</td>\n",
       "      <td>1077430</td>\n",
       "      <td>1314167</td>\n",
       "      <td>2500</td>\n",
       "      <td>2500</td>\n",
       "      <td>2500.0</td>\n",
       "      <td>60 months</td>\n",
       "      <td>15.27</td>\n",
       "      <td>59.83</td>\n",
       "      <td>C</td>\n",
       "      <td>C4</td>\n",
       "      <td>Ryder</td>\n",
       "      <td>&lt; 1 year</td>\n",
       "      <td>RENT</td>\n",
       "      <td>30000.0</td>\n",
       "      <td>Source Verified</td>\n",
       "      <td>Dec-11</td>\n",
       "      <td>Charged Off</td>\n",
       "      <td>n</td>\n",
       "      <td>https://www.lendingclub.com/browse/loanDetail....</td>\n",
       "      <td>Borrower added on 12/22/11 &gt; I plan to use t...</td>\n",
       "      <td>car</td>\n",
       "      <td>bike</td>\n",
       "      <td>309xx</td>\n",
       "      <td>GA</td>\n",
       "      <td>1.00</td>\n",
       "      <td>0.0</td>\n",
       "      <td>Apr-99</td>\n",
       "      <td>5.0</td>\n",
       "      <td>NaN</td>\n",
       "      <td>NaN</td>\n",
       "      <td>3.0</td>\n",
       "      <td>0.0</td>\n",
       "      <td>1687</td>\n",
       "      <td>9.4</td>\n",
       "      <td>4.0</td>\n",
       "      <td>f</td>\n",
       "      <td>0.0</td>\n",
       "      <td>0.0</td>\n",
       "      <td>1008.710000</td>\n",
       "      <td>1008.71</td>\n",
       "      <td>456.46</td>\n",
       "      <td>435.17</td>\n",
       "      <td>0.0</td>\n",
       "      <td>117.08</td>\n",
       "      <td>1.11</td>\n",
       "      <td>Apr-13</td>\n",
       "      <td>119.66</td>\n",
       "      <td>NaN</td>\n",
       "      <td>Sep-13</td>\n",
       "      <td>0.0</td>\n",
       "      <td>NaN</td>\n",
       "      <td>1</td>\n",
       "      <td>INDIVIDUAL</td>\n",
       "      <td>NaN</td>\n",
       "      <td>NaN</td>\n",
       "      <td>NaN</td>\n",
       "      <td>0.0</td>\n",
       "      <td>NaN</td>\n",
       "      <td>NaN</td>\n",
       "      <td>NaN</td>\n",
       "      <td>NaN</td>\n",
       "      <td>NaN</td>\n",
       "      <td>NaN</td>\n",
       "      <td>NaN</td>\n",
       "      <td>NaN</td>\n",
       "      <td>NaN</td>\n",
       "      <td>NaN</td>\n",
       "      <td>NaN</td>\n",
       "      <td>NaN</td>\n",
       "      <td>NaN</td>\n",
       "      <td>NaN</td>\n",
       "      <td>NaN</td>\n",
       "      <td>NaN</td>\n",
       "      <td>NaN</td>\n",
       "    </tr>\n",
       "  </tbody>\n",
       "</table>\n",
       "</div>"
      ],
      "text/plain": [
       "   Unnamed: 0       id  member_id  loan_amnt  funded_amnt  funded_amnt_inv  \\\n",
       "0           0  1077501    1296599       5000         5000           4975.0   \n",
       "1           1  1077430    1314167       2500         2500           2500.0   \n",
       "\n",
       "         term  int_rate  installment grade sub_grade emp_title emp_length  \\\n",
       "0   36 months     10.65       162.87     B        B2       NaN  10+ years   \n",
       "1   60 months     15.27        59.83     C        C4     Ryder   < 1 year   \n",
       "\n",
       "  home_ownership  annual_inc verification_status issue_d  loan_status  \\\n",
       "0           RENT     24000.0            Verified  Dec-11   Fully Paid   \n",
       "1           RENT     30000.0     Source Verified  Dec-11  Charged Off   \n",
       "\n",
       "  pymnt_plan                                                url  \\\n",
       "0          n  https://www.lendingclub.com/browse/loanDetail....   \n",
       "1          n  https://www.lendingclub.com/browse/loanDetail....   \n",
       "\n",
       "                                                desc      purpose     title  \\\n",
       "0    Borrower added on 12/22/11 > I need to upgra...  credit_card  Computer   \n",
       "1    Borrower added on 12/22/11 > I plan to use t...          car      bike   \n",
       "\n",
       "  zip_code addr_state    dti  delinq_2yrs earliest_cr_line  inq_last_6mths  \\\n",
       "0    860xx         AZ  27.65          0.0           Jan-85             1.0   \n",
       "1    309xx         GA   1.00          0.0           Apr-99             5.0   \n",
       "\n",
       "   mths_since_last_delinq  mths_since_last_record  open_acc  pub_rec  \\\n",
       "0                     NaN                     NaN       3.0      0.0   \n",
       "1                     NaN                     NaN       3.0      0.0   \n",
       "\n",
       "   revol_bal  revol_util  total_acc initial_list_status  out_prncp  \\\n",
       "0      13648        83.7        9.0                   f        0.0   \n",
       "1       1687         9.4        4.0                   f        0.0   \n",
       "\n",
       "   out_prncp_inv  total_pymnt  total_pymnt_inv  total_rec_prncp  \\\n",
       "0            0.0  5861.071414          5831.78          5000.00   \n",
       "1            0.0  1008.710000          1008.71           456.46   \n",
       "\n",
       "   total_rec_int  total_rec_late_fee  recoveries  collection_recovery_fee  \\\n",
       "0         861.07                 0.0        0.00                     0.00   \n",
       "1         435.17                 0.0      117.08                     1.11   \n",
       "\n",
       "  last_pymnt_d  last_pymnt_amnt next_pymnt_d last_credit_pull_d  \\\n",
       "0       Jan-15           171.62          NaN             Jan-16   \n",
       "1       Apr-13           119.66          NaN             Sep-13   \n",
       "\n",
       "   collections_12_mths_ex_med  mths_since_last_major_derog  policy_code  \\\n",
       "0                         0.0                          NaN            1   \n",
       "1                         0.0                          NaN            1   \n",
       "\n",
       "  application_type  annual_inc_joint  dti_joint  verification_status_joint  \\\n",
       "0       INDIVIDUAL               NaN        NaN                        NaN   \n",
       "1       INDIVIDUAL               NaN        NaN                        NaN   \n",
       "\n",
       "   acc_now_delinq  tot_coll_amt  tot_cur_bal  open_acc_6m  open_il_6m  \\\n",
       "0             0.0           NaN          NaN          NaN         NaN   \n",
       "1             0.0           NaN          NaN          NaN         NaN   \n",
       "\n",
       "   open_il_12m  open_il_24m  mths_since_rcnt_il  total_bal_il  il_util  \\\n",
       "0          NaN          NaN                 NaN           NaN      NaN   \n",
       "1          NaN          NaN                 NaN           NaN      NaN   \n",
       "\n",
       "   open_rv_12m  open_rv_24m  max_bal_bc  all_util  total_rev_hi_lim  inq_fi  \\\n",
       "0          NaN          NaN         NaN       NaN               NaN     NaN   \n",
       "1          NaN          NaN         NaN       NaN               NaN     NaN   \n",
       "\n",
       "   total_cu_tl  inq_last_12m  \n",
       "0          NaN           NaN  \n",
       "1          NaN           NaN  "
      ]
     },
     "execution_count": 3,
     "metadata": {},
     "output_type": "execute_result"
    }
   ],
   "source": [
    "df.head(2)"
   ]
  },
  {
   "cell_type": "markdown",
   "id": "e2b19dff",
   "metadata": {},
   "source": [
    "# Exploratory Data Analysis"
   ]
  },
  {
   "cell_type": "code",
   "execution_count": 4,
   "id": "217b8d17",
   "metadata": {
    "scrolled": true
   },
   "outputs": [
    {
     "name": "stdout",
     "output_type": "stream",
     "text": [
      "<class 'pandas.core.frame.DataFrame'>\n",
      "RangeIndex: 466285 entries, 0 to 466284\n",
      "Data columns (total 75 columns):\n",
      " #   Column                       Non-Null Count   Dtype  \n",
      "---  ------                       --------------   -----  \n",
      " 0   Unnamed: 0                   466285 non-null  int64  \n",
      " 1   id                           466285 non-null  int64  \n",
      " 2   member_id                    466285 non-null  int64  \n",
      " 3   loan_amnt                    466285 non-null  int64  \n",
      " 4   funded_amnt                  466285 non-null  int64  \n",
      " 5   funded_amnt_inv              466285 non-null  float64\n",
      " 6   term                         466285 non-null  object \n",
      " 7   int_rate                     466285 non-null  float64\n",
      " 8   installment                  466285 non-null  float64\n",
      " 9   grade                        466285 non-null  object \n",
      " 10  sub_grade                    466285 non-null  object \n",
      " 11  emp_title                    438697 non-null  object \n",
      " 12  emp_length                   445277 non-null  object \n",
      " 13  home_ownership               466285 non-null  object \n",
      " 14  annual_inc                   466281 non-null  float64\n",
      " 15  verification_status          466285 non-null  object \n",
      " 16  issue_d                      466285 non-null  object \n",
      " 17  loan_status                  466285 non-null  object \n",
      " 18  pymnt_plan                   466285 non-null  object \n",
      " 19  url                          466285 non-null  object \n",
      " 20  desc                         125983 non-null  object \n",
      " 21  purpose                      466285 non-null  object \n",
      " 22  title                        466265 non-null  object \n",
      " 23  zip_code                     466285 non-null  object \n",
      " 24  addr_state                   466285 non-null  object \n",
      " 25  dti                          466285 non-null  float64\n",
      " 26  delinq_2yrs                  466256 non-null  float64\n",
      " 27  earliest_cr_line             466256 non-null  object \n",
      " 28  inq_last_6mths               466256 non-null  float64\n",
      " 29  mths_since_last_delinq       215934 non-null  float64\n",
      " 30  mths_since_last_record       62638 non-null   float64\n",
      " 31  open_acc                     466256 non-null  float64\n",
      " 32  pub_rec                      466256 non-null  float64\n",
      " 33  revol_bal                    466285 non-null  int64  \n",
      " 34  revol_util                   465945 non-null  float64\n",
      " 35  total_acc                    466256 non-null  float64\n",
      " 36  initial_list_status          466285 non-null  object \n",
      " 37  out_prncp                    466285 non-null  float64\n",
      " 38  out_prncp_inv                466285 non-null  float64\n",
      " 39  total_pymnt                  466285 non-null  float64\n",
      " 40  total_pymnt_inv              466285 non-null  float64\n",
      " 41  total_rec_prncp              466285 non-null  float64\n",
      " 42  total_rec_int                466285 non-null  float64\n",
      " 43  total_rec_late_fee           466285 non-null  float64\n",
      " 44  recoveries                   466285 non-null  float64\n",
      " 45  collection_recovery_fee      466285 non-null  float64\n",
      " 46  last_pymnt_d                 465909 non-null  object \n",
      " 47  last_pymnt_amnt              466285 non-null  float64\n",
      " 48  next_pymnt_d                 239071 non-null  object \n",
      " 49  last_credit_pull_d           466243 non-null  object \n",
      " 50  collections_12_mths_ex_med   466140 non-null  float64\n",
      " 51  mths_since_last_major_derog  98974 non-null   float64\n",
      " 52  policy_code                  466285 non-null  int64  \n",
      " 53  application_type             466285 non-null  object \n",
      " 54  annual_inc_joint             0 non-null       float64\n",
      " 55  dti_joint                    0 non-null       float64\n",
      " 56  verification_status_joint    0 non-null       float64\n",
      " 57  acc_now_delinq               466256 non-null  float64\n",
      " 58  tot_coll_amt                 396009 non-null  float64\n",
      " 59  tot_cur_bal                  396009 non-null  float64\n",
      " 60  open_acc_6m                  0 non-null       float64\n",
      " 61  open_il_6m                   0 non-null       float64\n",
      " 62  open_il_12m                  0 non-null       float64\n",
      " 63  open_il_24m                  0 non-null       float64\n",
      " 64  mths_since_rcnt_il           0 non-null       float64\n",
      " 65  total_bal_il                 0 non-null       float64\n",
      " 66  il_util                      0 non-null       float64\n",
      " 67  open_rv_12m                  0 non-null       float64\n",
      " 68  open_rv_24m                  0 non-null       float64\n",
      " 69  max_bal_bc                   0 non-null       float64\n",
      " 70  all_util                     0 non-null       float64\n",
      " 71  total_rev_hi_lim             396009 non-null  float64\n",
      " 72  inq_fi                       0 non-null       float64\n",
      " 73  total_cu_tl                  0 non-null       float64\n",
      " 74  inq_last_12m                 0 non-null       float64\n",
      "dtypes: float64(46), int64(7), object(22)\n",
      "memory usage: 266.8+ MB\n"
     ]
    }
   ],
   "source": [
    "data = df.copy()\n",
    "data.info()"
   ]
  },
  {
   "cell_type": "markdown",
   "id": "5c3951fa",
   "metadata": {},
   "source": [
    "**term** and **emp_length** should be in integer type.<br>\n",
    "**earliest_cr_line, issue_d, last_pymnt_d, next_pymnt_d,** and **last_credit_pull_d** should be in date type"
   ]
  },
  {
   "cell_type": "markdown",
   "id": "6c2569d4",
   "metadata": {},
   "source": [
    "#### *cross table of home ownership, loan status, and average interest rate*"
   ]
  },
  {
   "cell_type": "code",
   "execution_count": 6,
   "id": "30a2b0d4",
   "metadata": {},
   "outputs": [
    {
     "data": {
      "text/html": [
       "<div>\n",
       "<style scoped>\n",
       "    .dataframe tbody tr th:only-of-type {\n",
       "        vertical-align: middle;\n",
       "    }\n",
       "\n",
       "    .dataframe tbody tr th {\n",
       "        vertical-align: top;\n",
       "    }\n",
       "\n",
       "    .dataframe thead th {\n",
       "        text-align: right;\n",
       "    }\n",
       "</style>\n",
       "<table border=\"1\" class=\"dataframe\">\n",
       "  <thead>\n",
       "    <tr style=\"text-align: right;\">\n",
       "      <th>loan_status</th>\n",
       "      <th>Charged Off</th>\n",
       "      <th>Current</th>\n",
       "      <th>Default</th>\n",
       "      <th>Does not meet the credit policy. Status:Charged Off</th>\n",
       "      <th>Does not meet the credit policy. Status:Fully Paid</th>\n",
       "      <th>Fully Paid</th>\n",
       "      <th>In Grace Period</th>\n",
       "      <th>Late (16-30 days)</th>\n",
       "      <th>Late (31-120 days)</th>\n",
       "    </tr>\n",
       "    <tr>\n",
       "      <th>home_ownership</th>\n",
       "      <th></th>\n",
       "      <th></th>\n",
       "      <th></th>\n",
       "      <th></th>\n",
       "      <th></th>\n",
       "      <th></th>\n",
       "      <th></th>\n",
       "      <th></th>\n",
       "      <th></th>\n",
       "    </tr>\n",
       "  </thead>\n",
       "  <tbody>\n",
       "    <tr>\n",
       "      <th>ANY</th>\n",
       "      <td>NaN</td>\n",
       "      <td>NaN</td>\n",
       "      <td>NaN</td>\n",
       "      <td>NaN</td>\n",
       "      <td>NaN</td>\n",
       "      <td>11.67</td>\n",
       "      <td>NaN</td>\n",
       "      <td>NaN</td>\n",
       "      <td>NaN</td>\n",
       "    </tr>\n",
       "    <tr>\n",
       "      <th>MORTGAGE</th>\n",
       "      <td>15.86</td>\n",
       "      <td>13.53</td>\n",
       "      <td>16.02</td>\n",
       "      <td>14.63</td>\n",
       "      <td>14.00</td>\n",
       "      <td>12.99</td>\n",
       "      <td>15.71</td>\n",
       "      <td>16.16</td>\n",
       "      <td>15.76</td>\n",
       "    </tr>\n",
       "    <tr>\n",
       "      <th>NONE</th>\n",
       "      <td>15.22</td>\n",
       "      <td>21.72</td>\n",
       "      <td>NaN</td>\n",
       "      <td>15.65</td>\n",
       "      <td>7.83</td>\n",
       "      <td>14.63</td>\n",
       "      <td>NaN</td>\n",
       "      <td>NaN</td>\n",
       "      <td>NaN</td>\n",
       "    </tr>\n",
       "    <tr>\n",
       "      <th>OTHER</th>\n",
       "      <td>14.10</td>\n",
       "      <td>22.30</td>\n",
       "      <td>NaN</td>\n",
       "      <td>14.79</td>\n",
       "      <td>14.58</td>\n",
       "      <td>12.69</td>\n",
       "      <td>NaN</td>\n",
       "      <td>NaN</td>\n",
       "      <td>NaN</td>\n",
       "    </tr>\n",
       "    <tr>\n",
       "      <th>OWN</th>\n",
       "      <td>16.10</td>\n",
       "      <td>13.86</td>\n",
       "      <td>16.41</td>\n",
       "      <td>14.92</td>\n",
       "      <td>14.21</td>\n",
       "      <td>13.38</td>\n",
       "      <td>15.26</td>\n",
       "      <td>15.59</td>\n",
       "      <td>15.79</td>\n",
       "    </tr>\n",
       "    <tr>\n",
       "      <th>RENT</th>\n",
       "      <td>16.12</td>\n",
       "      <td>14.08</td>\n",
       "      <td>16.19</td>\n",
       "      <td>14.51</td>\n",
       "      <td>13.93</td>\n",
       "      <td>13.56</td>\n",
       "      <td>16.08</td>\n",
       "      <td>15.82</td>\n",
       "      <td>16.17</td>\n",
       "    </tr>\n",
       "  </tbody>\n",
       "</table>\n",
       "</div>"
      ],
      "text/plain": [
       "loan_status     Charged Off  Current  Default  \\\n",
       "home_ownership                                  \n",
       "ANY                     NaN      NaN      NaN   \n",
       "MORTGAGE              15.86    13.53    16.02   \n",
       "NONE                  15.22    21.72      NaN   \n",
       "OTHER                 14.10    22.30      NaN   \n",
       "OWN                   16.10    13.86    16.41   \n",
       "RENT                  16.12    14.08    16.19   \n",
       "\n",
       "loan_status     Does not meet the credit policy. Status:Charged Off  \\\n",
       "home_ownership                                                        \n",
       "ANY                                                           NaN     \n",
       "MORTGAGE                                                    14.63     \n",
       "NONE                                                        15.65     \n",
       "OTHER                                                       14.79     \n",
       "OWN                                                         14.92     \n",
       "RENT                                                        14.51     \n",
       "\n",
       "loan_status     Does not meet the credit policy. Status:Fully Paid  \\\n",
       "home_ownership                                                       \n",
       "ANY                                                           NaN    \n",
       "MORTGAGE                                                    14.00    \n",
       "NONE                                                         7.83    \n",
       "OTHER                                                       14.58    \n",
       "OWN                                                         14.21    \n",
       "RENT                                                        13.93    \n",
       "\n",
       "loan_status     Fully Paid  In Grace Period  Late (16-30 days)  \\\n",
       "home_ownership                                                   \n",
       "ANY                  11.67              NaN                NaN   \n",
       "MORTGAGE             12.99            15.71              16.16   \n",
       "NONE                 14.63              NaN                NaN   \n",
       "OTHER                12.69              NaN                NaN   \n",
       "OWN                  13.38            15.26              15.59   \n",
       "RENT                 13.56            16.08              15.82   \n",
       "\n",
       "loan_status     Late (31-120 days)  \n",
       "home_ownership                      \n",
       "ANY                            NaN  \n",
       "MORTGAGE                     15.76  \n",
       "NONE                           NaN  \n",
       "OTHER                          NaN  \n",
       "OWN                          15.79  \n",
       "RENT                         16.17  "
      ]
     },
     "execution_count": 6,
     "metadata": {},
     "output_type": "execute_result"
    }
   ],
   "source": [
    "pd.crosstab(data['home_ownership'], data['loan_status'], values=data['int_rate'], aggfunc='mean').round(2)"
   ]
  },
  {
   "cell_type": "code",
   "execution_count": 8,
   "id": "f19b9014",
   "metadata": {},
   "outputs": [
    {
     "data": {
      "text/plain": [
       "Text(0, 0.5, 'Interest Rate')"
      ]
     },
     "execution_count": 8,
     "metadata": {},
     "output_type": "execute_result"
    },
    {
     "data": {
      "image/png": "[encoded data removed]",
      "text/plain": [
       "<Figure size 640x480 with 1 Axes>"
      ]
     },
     "metadata": {},
     "output_type": "display_data"
    }
   ],
   "source": [
    "plt.scatter(data['annual_inc'], data['int_rate'], c='blue', alpha=0.5)\n",
    "plt.xlabel('Annual Income')\n",
    "plt.ylabel('Interest Rate')"
   ]
  },
  {
   "cell_type": "markdown",
   "id": "77252eb3",
   "metadata": {},
   "source": [
    "#### *cross table of purpose and loan status*"
   ]
  },
  {
   "cell_type": "code",
   "execution_count": 12,
   "id": "88143d55",
   "metadata": {},
   "outputs": [
    {
     "data": {
      "text/html": [
       "<div>\n",
       "<style scoped>\n",
       "    .dataframe tbody tr th:only-of-type {\n",
       "        vertical-align: middle;\n",
       "    }\n",
       "\n",
       "    .dataframe tbody tr th {\n",
       "        vertical-align: top;\n",
       "    }\n",
       "\n",
       "    .dataframe thead th {\n",
       "        text-align: right;\n",
       "    }\n",
       "</style>\n",
       "<table border=\"1\" class=\"dataframe\">\n",
       "  <thead>\n",
       "    <tr style=\"text-align: right;\">\n",
       "      <th>loan_status</th>\n",
       "      <th>Charged Off</th>\n",
       "      <th>Current</th>\n",
       "      <th>Default</th>\n",
       "      <th>Does not meet the credit policy. Status:Charged Off</th>\n",
       "      <th>Does not meet the credit policy. Status:Fully Paid</th>\n",
       "      <th>Fully Paid</th>\n",
       "      <th>In Grace Period</th>\n",
       "      <th>Late (16-30 days)</th>\n",
       "      <th>Late (31-120 days)</th>\n",
       "      <th>All</th>\n",
       "    </tr>\n",
       "    <tr>\n",
       "      <th>purpose</th>\n",
       "      <th></th>\n",
       "      <th></th>\n",
       "      <th></th>\n",
       "      <th></th>\n",
       "      <th></th>\n",
       "      <th></th>\n",
       "      <th></th>\n",
       "      <th></th>\n",
       "      <th></th>\n",
       "      <th></th>\n",
       "    </tr>\n",
       "  </thead>\n",
       "  <tbody>\n",
       "    <tr>\n",
       "      <th>car</th>\n",
       "      <td>425</td>\n",
       "      <td>1876</td>\n",
       "      <td>5</td>\n",
       "      <td>13</td>\n",
       "      <td>51</td>\n",
       "      <td>2966</td>\n",
       "      <td>16</td>\n",
       "      <td>7</td>\n",
       "      <td>38</td>\n",
       "      <td>5397</td>\n",
       "    </tr>\n",
       "    <tr>\n",
       "      <th>credit_card</th>\n",
       "      <td>7380</td>\n",
       "      <td>55892</td>\n",
       "      <td>161</td>\n",
       "      <td>69</td>\n",
       "      <td>271</td>\n",
       "      <td>38169</td>\n",
       "      <td>625</td>\n",
       "      <td>219</td>\n",
       "      <td>1371</td>\n",
       "      <td>104157</td>\n",
       "    </tr>\n",
       "    <tr>\n",
       "      <th>debt_consolidation</th>\n",
       "      <td>25835</td>\n",
       "      <td>133134</td>\n",
       "      <td>544</td>\n",
       "      <td>292</td>\n",
       "      <td>808</td>\n",
       "      <td>106441</td>\n",
       "      <td>1976</td>\n",
       "      <td>767</td>\n",
       "      <td>4398</td>\n",
       "      <td>274195</td>\n",
       "    </tr>\n",
       "    <tr>\n",
       "      <th>educational</th>\n",
       "      <td>56</td>\n",
       "      <td>0</td>\n",
       "      <td>0</td>\n",
       "      <td>32</td>\n",
       "      <td>65</td>\n",
       "      <td>269</td>\n",
       "      <td>0</td>\n",
       "      <td>0</td>\n",
       "      <td>0</td>\n",
       "      <td>422</td>\n",
       "    </tr>\n",
       "    <tr>\n",
       "      <th>home_improvement</th>\n",
       "      <td>2126</td>\n",
       "      <td>12453</td>\n",
       "      <td>30</td>\n",
       "      <td>71</td>\n",
       "      <td>143</td>\n",
       "      <td>11076</td>\n",
       "      <td>193</td>\n",
       "      <td>67</td>\n",
       "      <td>378</td>\n",
       "      <td>26537</td>\n",
       "    </tr>\n",
       "    <tr>\n",
       "      <th>house</th>\n",
       "      <td>267</td>\n",
       "      <td>714</td>\n",
       "      <td>6</td>\n",
       "      <td>11</td>\n",
       "      <td>33</td>\n",
       "      <td>1182</td>\n",
       "      <td>18</td>\n",
       "      <td>4</td>\n",
       "      <td>34</td>\n",
       "      <td>2269</td>\n",
       "    </tr>\n",
       "    <tr>\n",
       "      <th>major_purchase</th>\n",
       "      <td>808</td>\n",
       "      <td>3790</td>\n",
       "      <td>9</td>\n",
       "      <td>23</td>\n",
       "      <td>100</td>\n",
       "      <td>4912</td>\n",
       "      <td>64</td>\n",
       "      <td>23</td>\n",
       "      <td>99</td>\n",
       "      <td>9828</td>\n",
       "    </tr>\n",
       "    <tr>\n",
       "      <th>medical</th>\n",
       "      <td>523</td>\n",
       "      <td>1856</td>\n",
       "      <td>8</td>\n",
       "      <td>22</td>\n",
       "      <td>36</td>\n",
       "      <td>2054</td>\n",
       "      <td>32</td>\n",
       "      <td>8</td>\n",
       "      <td>63</td>\n",
       "      <td>4602</td>\n",
       "    </tr>\n",
       "    <tr>\n",
       "      <th>moving</th>\n",
       "      <td>393</td>\n",
       "      <td>1079</td>\n",
       "      <td>6</td>\n",
       "      <td>15</td>\n",
       "      <td>31</td>\n",
       "      <td>1404</td>\n",
       "      <td>15</td>\n",
       "      <td>8</td>\n",
       "      <td>43</td>\n",
       "      <td>2994</td>\n",
       "    </tr>\n",
       "    <tr>\n",
       "      <th>other</th>\n",
       "      <td>2771</td>\n",
       "      <td>9843</td>\n",
       "      <td>45</td>\n",
       "      <td>121</td>\n",
       "      <td>303</td>\n",
       "      <td>10063</td>\n",
       "      <td>142</td>\n",
       "      <td>70</td>\n",
       "      <td>332</td>\n",
       "      <td>23690</td>\n",
       "    </tr>\n",
       "    <tr>\n",
       "      <th>renewable_energy</th>\n",
       "      <td>51</td>\n",
       "      <td>92</td>\n",
       "      <td>0</td>\n",
       "      <td>1</td>\n",
       "      <td>2</td>\n",
       "      <td>200</td>\n",
       "      <td>3</td>\n",
       "      <td>0</td>\n",
       "      <td>2</td>\n",
       "      <td>351</td>\n",
       "    </tr>\n",
       "    <tr>\n",
       "      <th>small_business</th>\n",
       "      <td>1322</td>\n",
       "      <td>2170</td>\n",
       "      <td>13</td>\n",
       "      <td>72</td>\n",
       "      <td>89</td>\n",
       "      <td>3164</td>\n",
       "      <td>44</td>\n",
       "      <td>33</td>\n",
       "      <td>106</td>\n",
       "      <td>7013</td>\n",
       "    </tr>\n",
       "    <tr>\n",
       "      <th>vacation</th>\n",
       "      <td>253</td>\n",
       "      <td>1004</td>\n",
       "      <td>5</td>\n",
       "      <td>6</td>\n",
       "      <td>13</td>\n",
       "      <td>1150</td>\n",
       "      <td>15</td>\n",
       "      <td>12</td>\n",
       "      <td>29</td>\n",
       "      <td>2487</td>\n",
       "    </tr>\n",
       "    <tr>\n",
       "      <th>wedding</th>\n",
       "      <td>265</td>\n",
       "      <td>323</td>\n",
       "      <td>0</td>\n",
       "      <td>13</td>\n",
       "      <td>43</td>\n",
       "      <td>1689</td>\n",
       "      <td>3</td>\n",
       "      <td>0</td>\n",
       "      <td>7</td>\n",
       "      <td>2343</td>\n",
       "    </tr>\n",
       "    <tr>\n",
       "      <th>All</th>\n",
       "      <td>42475</td>\n",
       "      <td>224226</td>\n",
       "      <td>832</td>\n",
       "      <td>761</td>\n",
       "      <td>1988</td>\n",
       "      <td>184739</td>\n",
       "      <td>3146</td>\n",
       "      <td>1218</td>\n",
       "      <td>6900</td>\n",
       "      <td>466285</td>\n",
       "    </tr>\n",
       "  </tbody>\n",
       "</table>\n",
       "</div>"
      ],
      "text/plain": [
       "loan_status         Charged Off  Current  Default  \\\n",
       "purpose                                             \n",
       "car                         425     1876        5   \n",
       "credit_card                7380    55892      161   \n",
       "debt_consolidation        25835   133134      544   \n",
       "educational                  56        0        0   \n",
       "home_improvement           2126    12453       30   \n",
       "house                       267      714        6   \n",
       "major_purchase              808     3790        9   \n",
       "medical                     523     1856        8   \n",
       "moving                      393     1079        6   \n",
       "other                      2771     9843       45   \n",
       "renewable_energy             51       92        0   \n",
       "small_business             1322     2170       13   \n",
       "vacation                    253     1004        5   \n",
       "wedding                     265      323        0   \n",
       "All                       42475   224226      832   \n",
       "\n",
       "loan_status         Does not meet the credit policy. Status:Charged Off  \\\n",
       "purpose                                                                   \n",
       "car                                                                13     \n",
       "credit_card                                                        69     \n",
       "debt_consolidation                                                292     \n",
       "educational                                                        32     \n",
       "home_improvement                                                   71     \n",
       "house                                                              11     \n",
       "major_purchase                                                     23     \n",
       "medical                                                            22     \n",
       "moving                                                             15     \n",
       "other                                                             121     \n",
       "renewable_energy                                                    1     \n",
       "small_business                                                     72     \n",
       "vacation                                                            6     \n",
       "wedding                                                            13     \n",
       "All                                                               761     \n",
       "\n",
       "loan_status         Does not meet the credit policy. Status:Fully Paid  \\\n",
       "purpose                                                                  \n",
       "car                                                                51    \n",
       "credit_card                                                       271    \n",
       "debt_consolidation                                                808    \n",
       "educational                                                        65    \n",
       "home_improvement                                                  143    \n",
       "house                                                              33    \n",
       "major_purchase                                                    100    \n",
       "medical                                                            36    \n",
       "moving                                                             31    \n",
       "other                                                             303    \n",
       "renewable_energy                                                    2    \n",
       "small_business                                                     89    \n",
       "vacation                                                           13    \n",
       "wedding                                                            43    \n",
       "All                                                              1988    \n",
       "\n",
       "loan_status         Fully Paid  In Grace Period  Late (16-30 days)  \\\n",
       "purpose                                                              \n",
       "car                       2966               16                  7   \n",
       "credit_card              38169              625                219   \n",
       "debt_consolidation      106441             1976                767   \n",
       "educational                269                0                  0   \n",
       "home_improvement         11076              193                 67   \n",
       "house                     1182               18                  4   \n",
       "major_purchase            4912               64                 23   \n",
       "medical                   2054               32                  8   \n",
       "moving                    1404               15                  8   \n",
       "other                    10063              142                 70   \n",
       "renewable_energy           200                3                  0   \n",
       "small_business            3164               44                 33   \n",
       "vacation                  1150               15                 12   \n",
       "wedding                   1689                3                  0   \n",
       "All                     184739             3146               1218   \n",
       "\n",
       "loan_status         Late (31-120 days)     All  \n",
       "purpose                                         \n",
       "car                                 38    5397  \n",
       "credit_card                       1371  104157  \n",
       "debt_consolidation                4398  274195  \n",
       "educational                          0     422  \n",
       "home_improvement                   378   26537  \n",
       "house                               34    2269  \n",
       "major_purchase                      99    9828  \n",
       "medical                             63    4602  \n",
       "moving                              43    2994  \n",
       "other                              332   23690  \n",
       "renewable_energy                     2     351  \n",
       "small_business                     106    7013  \n",
       "vacation                            29    2487  \n",
       "wedding                              7    2343  \n",
       "All                               6900  466285  "
      ]
     },
     "execution_count": 12,
     "metadata": {},
     "output_type": "execute_result"
    }
   ],
   "source": [
    "pd.crosstab(data['purpose'], data['loan_status'], margins=True)"
   ]
  },
  {
   "cell_type": "markdown",
   "id": "5802eb1f",
   "metadata": {},
   "source": [
    "#### *cross table of home ownership, loan status, and grade*"
   ]
  },
  {
   "cell_type": "code",
   "execution_count": 14,
   "id": "dbaf298e",
   "metadata": {},
   "outputs": [
    {
     "data": {
      "text/html": [
       "<div>\n",
       "<style scoped>\n",
       "    .dataframe tbody tr th:only-of-type {\n",
       "        vertical-align: middle;\n",
       "    }\n",
       "\n",
       "    .dataframe tbody tr th {\n",
       "        vertical-align: top;\n",
       "    }\n",
       "\n",
       "    .dataframe thead tr th {\n",
       "        text-align: left;\n",
       "    }\n",
       "\n",
       "    .dataframe thead tr:last-of-type th {\n",
       "        text-align: right;\n",
       "    }\n",
       "</style>\n",
       "<table border=\"1\" class=\"dataframe\">\n",
       "  <thead>\n",
       "    <tr>\n",
       "      <th>loan_status</th>\n",
       "      <th colspan=\"7\" halign=\"left\">Charged Off</th>\n",
       "      <th colspan=\"7\" halign=\"left\">Current</th>\n",
       "      <th colspan=\"7\" halign=\"left\">Default</th>\n",
       "      <th colspan=\"7\" halign=\"left\">Does not meet the credit policy. Status:Charged Off</th>\n",
       "      <th colspan=\"7\" halign=\"left\">Does not meet the credit policy. Status:Fully Paid</th>\n",
       "      <th colspan=\"7\" halign=\"left\">Fully Paid</th>\n",
       "      <th colspan=\"7\" halign=\"left\">In Grace Period</th>\n",
       "      <th colspan=\"7\" halign=\"left\">Late (16-30 days)</th>\n",
       "      <th colspan=\"7\" halign=\"left\">Late (31-120 days)</th>\n",
       "    </tr>\n",
       "    <tr>\n",
       "      <th>grade</th>\n",
       "      <th>A</th>\n",
       "      <th>B</th>\n",
       "      <th>C</th>\n",
       "      <th>D</th>\n",
       "      <th>E</th>\n",
       "      <th>F</th>\n",
       "      <th>G</th>\n",
       "      <th>A</th>\n",
       "      <th>B</th>\n",
       "      <th>C</th>\n",
       "      <th>D</th>\n",
       "      <th>E</th>\n",
       "      <th>F</th>\n",
       "      <th>G</th>\n",
       "      <th>A</th>\n",
       "      <th>B</th>\n",
       "      <th>C</th>\n",
       "      <th>D</th>\n",
       "      <th>E</th>\n",
       "      <th>F</th>\n",
       "      <th>G</th>\n",
       "      <th>A</th>\n",
       "      <th>B</th>\n",
       "      <th>C</th>\n",
       "      <th>D</th>\n",
       "      <th>E</th>\n",
       "      <th>F</th>\n",
       "      <th>G</th>\n",
       "      <th>A</th>\n",
       "      <th>B</th>\n",
       "      <th>C</th>\n",
       "      <th>D</th>\n",
       "      <th>E</th>\n",
       "      <th>F</th>\n",
       "      <th>G</th>\n",
       "      <th>A</th>\n",
       "      <th>B</th>\n",
       "      <th>C</th>\n",
       "      <th>D</th>\n",
       "      <th>E</th>\n",
       "      <th>F</th>\n",
       "      <th>G</th>\n",
       "      <th>A</th>\n",
       "      <th>B</th>\n",
       "      <th>C</th>\n",
       "      <th>D</th>\n",
       "      <th>E</th>\n",
       "      <th>F</th>\n",
       "      <th>G</th>\n",
       "      <th>A</th>\n",
       "      <th>B</th>\n",
       "      <th>C</th>\n",
       "      <th>D</th>\n",
       "      <th>E</th>\n",
       "      <th>F</th>\n",
       "      <th>G</th>\n",
       "      <th>A</th>\n",
       "      <th>B</th>\n",
       "      <th>C</th>\n",
       "      <th>D</th>\n",
       "      <th>E</th>\n",
       "      <th>F</th>\n",
       "      <th>G</th>\n",
       "    </tr>\n",
       "    <tr>\n",
       "      <th>home_ownership</th>\n",
       "      <th></th>\n",
       "      <th></th>\n",
       "      <th></th>\n",
       "      <th></th>\n",
       "      <th></th>\n",
       "      <th></th>\n",
       "      <th></th>\n",
       "      <th></th>\n",
       "      <th></th>\n",
       "      <th></th>\n",
       "      <th></th>\n",
       "      <th></th>\n",
       "      <th></th>\n",
       "      <th></th>\n",
       "      <th></th>\n",
       "      <th></th>\n",
       "      <th></th>\n",
       "      <th></th>\n",
       "      <th></th>\n",
       "      <th></th>\n",
       "      <th></th>\n",
       "      <th></th>\n",
       "      <th></th>\n",
       "      <th></th>\n",
       "      <th></th>\n",
       "      <th></th>\n",
       "      <th></th>\n",
       "      <th></th>\n",
       "      <th></th>\n",
       "      <th></th>\n",
       "      <th></th>\n",
       "      <th></th>\n",
       "      <th></th>\n",
       "      <th></th>\n",
       "      <th></th>\n",
       "      <th></th>\n",
       "      <th></th>\n",
       "      <th></th>\n",
       "      <th></th>\n",
       "      <th></th>\n",
       "      <th></th>\n",
       "      <th></th>\n",
       "      <th></th>\n",
       "      <th></th>\n",
       "      <th></th>\n",
       "      <th></th>\n",
       "      <th></th>\n",
       "      <th></th>\n",
       "      <th></th>\n",
       "      <th></th>\n",
       "      <th></th>\n",
       "      <th></th>\n",
       "      <th></th>\n",
       "      <th></th>\n",
       "      <th></th>\n",
       "      <th></th>\n",
       "      <th></th>\n",
       "      <th></th>\n",
       "      <th></th>\n",
       "      <th></th>\n",
       "      <th></th>\n",
       "      <th></th>\n",
       "      <th></th>\n",
       "    </tr>\n",
       "  </thead>\n",
       "  <tbody>\n",
       "    <tr>\n",
       "      <th>ANY</th>\n",
       "      <td>0</td>\n",
       "      <td>0</td>\n",
       "      <td>0</td>\n",
       "      <td>0</td>\n",
       "      <td>0</td>\n",
       "      <td>0</td>\n",
       "      <td>0</td>\n",
       "      <td>0</td>\n",
       "      <td>0</td>\n",
       "      <td>0</td>\n",
       "      <td>0</td>\n",
       "      <td>0</td>\n",
       "      <td>0</td>\n",
       "      <td>0</td>\n",
       "      <td>0</td>\n",
       "      <td>0</td>\n",
       "      <td>0</td>\n",
       "      <td>0</td>\n",
       "      <td>0</td>\n",
       "      <td>0</td>\n",
       "      <td>0</td>\n",
       "      <td>0</td>\n",
       "      <td>0</td>\n",
       "      <td>0</td>\n",
       "      <td>0</td>\n",
       "      <td>0</td>\n",
       "      <td>0</td>\n",
       "      <td>0</td>\n",
       "      <td>0</td>\n",
       "      <td>0</td>\n",
       "      <td>0</td>\n",
       "      <td>0</td>\n",
       "      <td>0</td>\n",
       "      <td>0</td>\n",
       "      <td>0</td>\n",
       "      <td>0</td>\n",
       "      <td>1</td>\n",
       "      <td>0</td>\n",
       "      <td>0</td>\n",
       "      <td>0</td>\n",
       "      <td>0</td>\n",
       "      <td>0</td>\n",
       "      <td>0</td>\n",
       "      <td>0</td>\n",
       "      <td>0</td>\n",
       "      <td>0</td>\n",
       "      <td>0</td>\n",
       "      <td>0</td>\n",
       "      <td>0</td>\n",
       "      <td>0</td>\n",
       "      <td>0</td>\n",
       "      <td>0</td>\n",
       "      <td>0</td>\n",
       "      <td>0</td>\n",
       "      <td>0</td>\n",
       "      <td>0</td>\n",
       "      <td>0</td>\n",
       "      <td>0</td>\n",
       "      <td>0</td>\n",
       "      <td>0</td>\n",
       "      <td>0</td>\n",
       "      <td>0</td>\n",
       "      <td>0</td>\n",
       "    </tr>\n",
       "    <tr>\n",
       "      <th>MORTGAGE</th>\n",
       "      <td>1294</td>\n",
       "      <td>4187</td>\n",
       "      <td>5290</td>\n",
       "      <td>4012</td>\n",
       "      <td>2534</td>\n",
       "      <td>1146</td>\n",
       "      <td>336</td>\n",
       "      <td>20774</td>\n",
       "      <td>33627</td>\n",
       "      <td>32524</td>\n",
       "      <td>18415</td>\n",
       "      <td>8411</td>\n",
       "      <td>2642</td>\n",
       "      <td>645</td>\n",
       "      <td>12</td>\n",
       "      <td>74</td>\n",
       "      <td>102</td>\n",
       "      <td>90</td>\n",
       "      <td>53</td>\n",
       "      <td>13</td>\n",
       "      <td>7</td>\n",
       "      <td>5</td>\n",
       "      <td>42</td>\n",
       "      <td>68</td>\n",
       "      <td>83</td>\n",
       "      <td>67</td>\n",
       "      <td>47</td>\n",
       "      <td>36</td>\n",
       "      <td>53</td>\n",
       "      <td>143</td>\n",
       "      <td>223</td>\n",
       "      <td>211</td>\n",
       "      <td>157</td>\n",
       "      <td>59</td>\n",
       "      <td>62</td>\n",
       "      <td>21069</td>\n",
       "      <td>30696</td>\n",
       "      <td>21999</td>\n",
       "      <td>11834</td>\n",
       "      <td>5208</td>\n",
       "      <td>1923</td>\n",
       "      <td>492</td>\n",
       "      <td>93</td>\n",
       "      <td>353</td>\n",
       "      <td>386</td>\n",
       "      <td>312</td>\n",
       "      <td>209</td>\n",
       "      <td>83</td>\n",
       "      <td>25</td>\n",
       "      <td>28</td>\n",
       "      <td>123</td>\n",
       "      <td>167</td>\n",
       "      <td>141</td>\n",
       "      <td>90</td>\n",
       "      <td>48</td>\n",
       "      <td>10</td>\n",
       "      <td>185</td>\n",
       "      <td>624</td>\n",
       "      <td>968</td>\n",
       "      <td>734</td>\n",
       "      <td>431</td>\n",
       "      <td>157</td>\n",
       "      <td>43</td>\n",
       "    </tr>\n",
       "    <tr>\n",
       "      <th>NONE</th>\n",
       "      <td>0</td>\n",
       "      <td>4</td>\n",
       "      <td>1</td>\n",
       "      <td>2</td>\n",
       "      <td>0</td>\n",
       "      <td>0</td>\n",
       "      <td>0</td>\n",
       "      <td>0</td>\n",
       "      <td>0</td>\n",
       "      <td>0</td>\n",
       "      <td>0</td>\n",
       "      <td>1</td>\n",
       "      <td>1</td>\n",
       "      <td>0</td>\n",
       "      <td>0</td>\n",
       "      <td>0</td>\n",
       "      <td>0</td>\n",
       "      <td>0</td>\n",
       "      <td>0</td>\n",
       "      <td>0</td>\n",
       "      <td>0</td>\n",
       "      <td>0</td>\n",
       "      <td>0</td>\n",
       "      <td>0</td>\n",
       "      <td>0</td>\n",
       "      <td>0</td>\n",
       "      <td>1</td>\n",
       "      <td>0</td>\n",
       "      <td>4</td>\n",
       "      <td>0</td>\n",
       "      <td>0</td>\n",
       "      <td>0</td>\n",
       "      <td>0</td>\n",
       "      <td>0</td>\n",
       "      <td>0</td>\n",
       "      <td>6</td>\n",
       "      <td>10</td>\n",
       "      <td>9</td>\n",
       "      <td>7</td>\n",
       "      <td>0</td>\n",
       "      <td>3</td>\n",
       "      <td>1</td>\n",
       "      <td>0</td>\n",
       "      <td>0</td>\n",
       "      <td>0</td>\n",
       "      <td>0</td>\n",
       "      <td>0</td>\n",
       "      <td>0</td>\n",
       "      <td>0</td>\n",
       "      <td>0</td>\n",
       "      <td>0</td>\n",
       "      <td>0</td>\n",
       "      <td>0</td>\n",
       "      <td>0</td>\n",
       "      <td>0</td>\n",
       "      <td>0</td>\n",
       "      <td>0</td>\n",
       "      <td>0</td>\n",
       "      <td>0</td>\n",
       "      <td>0</td>\n",
       "      <td>0</td>\n",
       "      <td>0</td>\n",
       "      <td>0</td>\n",
       "    </tr>\n",
       "    <tr>\n",
       "      <th>OTHER</th>\n",
       "      <td>2</td>\n",
       "      <td>10</td>\n",
       "      <td>4</td>\n",
       "      <td>6</td>\n",
       "      <td>3</td>\n",
       "      <td>2</td>\n",
       "      <td>0</td>\n",
       "      <td>0</td>\n",
       "      <td>0</td>\n",
       "      <td>0</td>\n",
       "      <td>0</td>\n",
       "      <td>2</td>\n",
       "      <td>1</td>\n",
       "      <td>0</td>\n",
       "      <td>0</td>\n",
       "      <td>0</td>\n",
       "      <td>0</td>\n",
       "      <td>0</td>\n",
       "      <td>0</td>\n",
       "      <td>0</td>\n",
       "      <td>0</td>\n",
       "      <td>0</td>\n",
       "      <td>2</td>\n",
       "      <td>3</td>\n",
       "      <td>1</td>\n",
       "      <td>2</td>\n",
       "      <td>0</td>\n",
       "      <td>3</td>\n",
       "      <td>1</td>\n",
       "      <td>2</td>\n",
       "      <td>5</td>\n",
       "      <td>8</td>\n",
       "      <td>5</td>\n",
       "      <td>2</td>\n",
       "      <td>4</td>\n",
       "      <td>23</td>\n",
       "      <td>37</td>\n",
       "      <td>32</td>\n",
       "      <td>15</td>\n",
       "      <td>5</td>\n",
       "      <td>2</td>\n",
       "      <td>0</td>\n",
       "      <td>0</td>\n",
       "      <td>0</td>\n",
       "      <td>0</td>\n",
       "      <td>0</td>\n",
       "      <td>0</td>\n",
       "      <td>0</td>\n",
       "      <td>0</td>\n",
       "      <td>0</td>\n",
       "      <td>0</td>\n",
       "      <td>0</td>\n",
       "      <td>0</td>\n",
       "      <td>0</td>\n",
       "      <td>0</td>\n",
       "      <td>0</td>\n",
       "      <td>0</td>\n",
       "      <td>0</td>\n",
       "      <td>0</td>\n",
       "      <td>0</td>\n",
       "      <td>0</td>\n",
       "      <td>0</td>\n",
       "      <td>0</td>\n",
       "    </tr>\n",
       "    <tr>\n",
       "      <th>OWN</th>\n",
       "      <td>220</td>\n",
       "      <td>776</td>\n",
       "      <td>1033</td>\n",
       "      <td>907</td>\n",
       "      <td>480</td>\n",
       "      <td>244</td>\n",
       "      <td>76</td>\n",
       "      <td>3196</td>\n",
       "      <td>6109</td>\n",
       "      <td>5957</td>\n",
       "      <td>3573</td>\n",
       "      <td>1746</td>\n",
       "      <td>549</td>\n",
       "      <td>142</td>\n",
       "      <td>3</td>\n",
       "      <td>7</td>\n",
       "      <td>30</td>\n",
       "      <td>13</td>\n",
       "      <td>9</td>\n",
       "      <td>6</td>\n",
       "      <td>1</td>\n",
       "      <td>0</td>\n",
       "      <td>4</td>\n",
       "      <td>9</td>\n",
       "      <td>14</td>\n",
       "      <td>12</td>\n",
       "      <td>4</td>\n",
       "      <td>6</td>\n",
       "      <td>2</td>\n",
       "      <td>17</td>\n",
       "      <td>36</td>\n",
       "      <td>39</td>\n",
       "      <td>31</td>\n",
       "      <td>6</td>\n",
       "      <td>7</td>\n",
       "      <td>2936</td>\n",
       "      <td>4986</td>\n",
       "      <td>3819</td>\n",
       "      <td>2278</td>\n",
       "      <td>884</td>\n",
       "      <td>359</td>\n",
       "      <td>80</td>\n",
       "      <td>25</td>\n",
       "      <td>67</td>\n",
       "      <td>94</td>\n",
       "      <td>70</td>\n",
       "      <td>36</td>\n",
       "      <td>13</td>\n",
       "      <td>4</td>\n",
       "      <td>3</td>\n",
       "      <td>37</td>\n",
       "      <td>39</td>\n",
       "      <td>26</td>\n",
       "      <td>13</td>\n",
       "      <td>7</td>\n",
       "      <td>3</td>\n",
       "      <td>37</td>\n",
       "      <td>139</td>\n",
       "      <td>194</td>\n",
       "      <td>145</td>\n",
       "      <td>97</td>\n",
       "      <td>38</td>\n",
       "      <td>11</td>\n",
       "    </tr>\n",
       "    <tr>\n",
       "      <th>RENT</th>\n",
       "      <td>1011</td>\n",
       "      <td>4180</td>\n",
       "      <td>5593</td>\n",
       "      <td>4821</td>\n",
       "      <td>2693</td>\n",
       "      <td>1293</td>\n",
       "      <td>315</td>\n",
       "      <td>11221</td>\n",
       "      <td>24273</td>\n",
       "      <td>24870</td>\n",
       "      <td>15472</td>\n",
       "      <td>7069</td>\n",
       "      <td>2504</td>\n",
       "      <td>502</td>\n",
       "      <td>15</td>\n",
       "      <td>68</td>\n",
       "      <td>126</td>\n",
       "      <td>109</td>\n",
       "      <td>68</td>\n",
       "      <td>18</td>\n",
       "      <td>8</td>\n",
       "      <td>3</td>\n",
       "      <td>37</td>\n",
       "      <td>68</td>\n",
       "      <td>99</td>\n",
       "      <td>77</td>\n",
       "      <td>41</td>\n",
       "      <td>27</td>\n",
       "      <td>30</td>\n",
       "      <td>107</td>\n",
       "      <td>217</td>\n",
       "      <td>236</td>\n",
       "      <td>185</td>\n",
       "      <td>87</td>\n",
       "      <td>49</td>\n",
       "      <td>12421</td>\n",
       "      <td>25232</td>\n",
       "      <td>19959</td>\n",
       "      <td>11955</td>\n",
       "      <td>4472</td>\n",
       "      <td>1640</td>\n",
       "      <td>346</td>\n",
       "      <td>58</td>\n",
       "      <td>261</td>\n",
       "      <td>420</td>\n",
       "      <td>331</td>\n",
       "      <td>197</td>\n",
       "      <td>88</td>\n",
       "      <td>21</td>\n",
       "      <td>27</td>\n",
       "      <td>89</td>\n",
       "      <td>153</td>\n",
       "      <td>117</td>\n",
       "      <td>72</td>\n",
       "      <td>20</td>\n",
       "      <td>5</td>\n",
       "      <td>110</td>\n",
       "      <td>605</td>\n",
       "      <td>895</td>\n",
       "      <td>812</td>\n",
       "      <td>438</td>\n",
       "      <td>182</td>\n",
       "      <td>55</td>\n",
       "    </tr>\n",
       "  </tbody>\n",
       "</table>\n",
       "</div>"
      ],
      "text/plain": [
       "loan_status    Charged Off                                    Current         \\\n",
       "grade                    A     B     C     D     E     F    G       A      B   \n",
       "home_ownership                                                                 \n",
       "ANY                      0     0     0     0     0     0    0       0      0   \n",
       "MORTGAGE              1294  4187  5290  4012  2534  1146  336   20774  33627   \n",
       "NONE                     0     4     1     2     0     0    0       0      0   \n",
       "OTHER                    2    10     4     6     3     2    0       0      0   \n",
       "OWN                    220   776  1033   907   480   244   76    3196   6109   \n",
       "RENT                  1011  4180  5593  4821  2693  1293  315   11221  24273   \n",
       "\n",
       "loan_status                                   Default                        \\\n",
       "grade               C      D     E     F    G       A   B    C    D   E   F   \n",
       "home_ownership                                                                \n",
       "ANY                 0      0     0     0    0       0   0    0    0   0   0   \n",
       "MORTGAGE        32524  18415  8411  2642  645      12  74  102   90  53  13   \n",
       "NONE                0      0     1     1    0       0   0    0    0   0   0   \n",
       "OTHER               0      0     2     1    0       0   0    0    0   0   0   \n",
       "OWN              5957   3573  1746   549  142       3   7   30   13   9   6   \n",
       "RENT            24870  15472  7069  2504  502      15  68  126  109  68  18   \n",
       "\n",
       "loan_status       Does not meet the credit policy. Status:Charged Off          \\\n",
       "grade           G                                                   A   B   C   \n",
       "home_ownership                                                                  \n",
       "ANY             0                                                  0    0   0   \n",
       "MORTGAGE        7                                                  5   42  68   \n",
       "NONE            0                                                  0    0   0   \n",
       "OTHER           0                                                  0    2   3   \n",
       "OWN             1                                                  0    4   9   \n",
       "RENT            8                                                  3   37  68   \n",
       "\n",
       "loan_status                     \\\n",
       "grade            D   E   F   G   \n",
       "home_ownership                   \n",
       "ANY              0   0   0   0   \n",
       "MORTGAGE        83  67  47  36   \n",
       "NONE             0   0   1   0   \n",
       "OTHER            1   2   0   3   \n",
       "OWN             14  12   4   6   \n",
       "RENT            99  77  41  27   \n",
       "\n",
       "loan_status    Does not meet the credit policy. Status:Fully Paid            \\\n",
       "grade                                                           A    B    C   \n",
       "home_ownership                                                                \n",
       "ANY                                                             0    0    0   \n",
       "MORTGAGE                                                       53  143  223   \n",
       "NONE                                                            4    0    0   \n",
       "OTHER                                                           1    2    5   \n",
       "OWN                                                             2   17   36   \n",
       "RENT                                                           30  107  217   \n",
       "\n",
       "loan_status                      Fully Paid                                   \\\n",
       "grade             D    E   F   G          A      B      C      D     E     F   \n",
       "home_ownership                                                                 \n",
       "ANY               0    0   0   0          0      1      0      0     0     0   \n",
       "MORTGAGE        211  157  59  62      21069  30696  21999  11834  5208  1923   \n",
       "NONE              0    0   0   0          6     10      9      7     0     3   \n",
       "OTHER             8    5   2   4         23     37     32     15     5     2   \n",
       "OWN              39   31   6   7       2936   4986   3819   2278   884   359   \n",
       "RENT            236  185  87  49      12421  25232  19959  11955  4472  1640   \n",
       "\n",
       "loan_status         In Grace Period                              \\\n",
       "grade             G               A    B    C    D    E   F   G   \n",
       "home_ownership                                                    \n",
       "ANY               0               0    0    0    0    0   0   0   \n",
       "MORTGAGE        492              93  353  386  312  209  83  25   \n",
       "NONE              1               0    0    0    0    0   0   0   \n",
       "OTHER             0               0    0    0    0    0   0   0   \n",
       "OWN              80              25   67   94   70   36  13   4   \n",
       "RENT            346              58  261  420  331  197  88  21   \n",
       "\n",
       "loan_status    Late (16-30 days)                             \\\n",
       "grade                          A    B    C    D   E   F   G   \n",
       "home_ownership                                                \n",
       "ANY                            0    0    0    0   0   0   0   \n",
       "MORTGAGE                      28  123  167  141  90  48  10   \n",
       "NONE                           0    0    0    0   0   0   0   \n",
       "OTHER                          0    0    0    0   0   0   0   \n",
       "OWN                            3   37   39   26  13   7   3   \n",
       "RENT                          27   89  153  117  72  20   5   \n",
       "\n",
       "loan_status    Late (31-120 days)                               \n",
       "grade                           A    B    C    D    E    F   G  \n",
       "home_ownership                                                  \n",
       "ANY                             0    0    0    0    0    0   0  \n",
       "MORTGAGE                      185  624  968  734  431  157  43  \n",
       "NONE                            0    0    0    0    0    0   0  \n",
       "OTHER                           0    0    0    0    0    0   0  \n",
       "OWN                            37  139  194  145   97   38  11  \n",
       "RENT                          110  605  895  812  438  182  55  "
      ]
     },
     "execution_count": 14,
     "metadata": {},
     "output_type": "execute_result"
    }
   ],
   "source": [
    "pd.crosstab(data['home_ownership'], \n",
    "            [data['loan_status'], data['grade']]\n",
    "           )"
   ]
  },
  {
   "cell_type": "markdown",
   "id": "8d10b67a",
   "metadata": {},
   "source": [
    "#### *cross table of home ownership, loan status, and average percent income*"
   ]
  },
  {
   "cell_type": "code",
   "execution_count": 17,
   "id": "58410caa",
   "metadata": {},
   "outputs": [
    {
     "data": {
      "text/html": [
       "<div>\n",
       "<style scoped>\n",
       "    .dataframe tbody tr th:only-of-type {\n",
       "        vertical-align: middle;\n",
       "    }\n",
       "\n",
       "    .dataframe tbody tr th {\n",
       "        vertical-align: top;\n",
       "    }\n",
       "\n",
       "    .dataframe thead th {\n",
       "        text-align: right;\n",
       "    }\n",
       "</style>\n",
       "<table border=\"1\" class=\"dataframe\">\n",
       "  <thead>\n",
       "    <tr style=\"text-align: right;\">\n",
       "      <th>loan_status</th>\n",
       "      <th>Charged Off</th>\n",
       "      <th>Current</th>\n",
       "      <th>Default</th>\n",
       "      <th>Does not meet the credit policy. Status:Charged Off</th>\n",
       "      <th>Does not meet the credit policy. Status:Fully Paid</th>\n",
       "      <th>Fully Paid</th>\n",
       "      <th>In Grace Period</th>\n",
       "      <th>Late (16-30 days)</th>\n",
       "      <th>Late (31-120 days)</th>\n",
       "    </tr>\n",
       "    <tr>\n",
       "      <th>home_ownership</th>\n",
       "      <th></th>\n",
       "      <th></th>\n",
       "      <th></th>\n",
       "      <th></th>\n",
       "      <th></th>\n",
       "      <th></th>\n",
       "      <th></th>\n",
       "      <th></th>\n",
       "      <th></th>\n",
       "    </tr>\n",
       "  </thead>\n",
       "  <tbody>\n",
       "    <tr>\n",
       "      <th>ANY</th>\n",
       "      <td>NaN</td>\n",
       "      <td>NaN</td>\n",
       "      <td>NaN</td>\n",
       "      <td>NaN</td>\n",
       "      <td>NaN</td>\n",
       "      <td>35680.00</td>\n",
       "      <td>NaN</td>\n",
       "      <td>NaN</td>\n",
       "      <td>NaN</td>\n",
       "    </tr>\n",
       "    <tr>\n",
       "      <th>MORTGAGE</th>\n",
       "      <td>74293.55</td>\n",
       "      <td>84473.02</td>\n",
       "      <td>75169.58</td>\n",
       "      <td>91328.28</td>\n",
       "      <td>92756.31</td>\n",
       "      <td>84013.96</td>\n",
       "      <td>84074.56</td>\n",
       "      <td>82412.25</td>\n",
       "      <td>79571.61</td>\n",
       "    </tr>\n",
       "    <tr>\n",
       "      <th>NONE</th>\n",
       "      <td>48685.71</td>\n",
       "      <td>80000.00</td>\n",
       "      <td>NaN</td>\n",
       "      <td>72000.00</td>\n",
       "      <td>NaN</td>\n",
       "      <td>65529.19</td>\n",
       "      <td>NaN</td>\n",
       "      <td>NaN</td>\n",
       "      <td>NaN</td>\n",
       "    </tr>\n",
       "    <tr>\n",
       "      <th>OTHER</th>\n",
       "      <td>59696.70</td>\n",
       "      <td>65993.33</td>\n",
       "      <td>NaN</td>\n",
       "      <td>38220.55</td>\n",
       "      <td>69151.48</td>\n",
       "      <td>70492.03</td>\n",
       "      <td>NaN</td>\n",
       "      <td>NaN</td>\n",
       "      <td>NaN</td>\n",
       "    </tr>\n",
       "    <tr>\n",
       "      <th>OWN</th>\n",
       "      <td>58723.39</td>\n",
       "      <td>67221.07</td>\n",
       "      <td>54850.97</td>\n",
       "      <td>77313.30</td>\n",
       "      <td>60047.82</td>\n",
       "      <td>65548.92</td>\n",
       "      <td>68870.57</td>\n",
       "      <td>63051.15</td>\n",
       "      <td>64114.38</td>\n",
       "    </tr>\n",
       "    <tr>\n",
       "      <th>RENT</th>\n",
       "      <td>56881.56</td>\n",
       "      <td>63247.98</td>\n",
       "      <td>59271.40</td>\n",
       "      <td>47858.53</td>\n",
       "      <td>53523.71</td>\n",
       "      <td>62730.58</td>\n",
       "      <td>64532.56</td>\n",
       "      <td>62270.98</td>\n",
       "      <td>60023.41</td>\n",
       "    </tr>\n",
       "  </tbody>\n",
       "</table>\n",
       "</div>"
      ],
      "text/plain": [
       "loan_status     Charged Off   Current   Default  \\\n",
       "home_ownership                                    \n",
       "ANY                     NaN       NaN       NaN   \n",
       "MORTGAGE           74293.55  84473.02  75169.58   \n",
       "NONE               48685.71  80000.00       NaN   \n",
       "OTHER              59696.70  65993.33       NaN   \n",
       "OWN                58723.39  67221.07  54850.97   \n",
       "RENT               56881.56  63247.98  59271.40   \n",
       "\n",
       "loan_status     Does not meet the credit policy. Status:Charged Off  \\\n",
       "home_ownership                                                        \n",
       "ANY                                                           NaN     \n",
       "MORTGAGE                                                 91328.28     \n",
       "NONE                                                     72000.00     \n",
       "OTHER                                                    38220.55     \n",
       "OWN                                                      77313.30     \n",
       "RENT                                                     47858.53     \n",
       "\n",
       "loan_status     Does not meet the credit policy. Status:Fully Paid  \\\n",
       "home_ownership                                                       \n",
       "ANY                                                           NaN    \n",
       "MORTGAGE                                                 92756.31    \n",
       "NONE                                                          NaN    \n",
       "OTHER                                                    69151.48    \n",
       "OWN                                                      60047.82    \n",
       "RENT                                                     53523.71    \n",
       "\n",
       "loan_status     Fully Paid  In Grace Period  Late (16-30 days)  \\\n",
       "home_ownership                                                   \n",
       "ANY               35680.00              NaN                NaN   \n",
       "MORTGAGE          84013.96         84074.56           82412.25   \n",
       "NONE              65529.19              NaN                NaN   \n",
       "OTHER             70492.03              NaN                NaN   \n",
       "OWN               65548.92         68870.57           63051.15   \n",
       "RENT              62730.58         64532.56           62270.98   \n",
       "\n",
       "loan_status     Late (31-120 days)  \n",
       "home_ownership                      \n",
       "ANY                            NaN  \n",
       "MORTGAGE                  79571.61  \n",
       "NONE                           NaN  \n",
       "OTHER                          NaN  \n",
       "OWN                       64114.38  \n",
       "RENT                      60023.41  "
      ]
     },
     "execution_count": 17,
     "metadata": {},
     "output_type": "execute_result"
    }
   ],
   "source": [
    "pd.crosstab(data['home_ownership'], data['loan_status'], values=data['annual_inc'], aggfunc='mean').round(2)"
   ]
  },
  {
   "cell_type": "markdown",
   "id": "b0a0f5a4",
   "metadata": {},
   "source": [
    "#### *a box plot of percentage income by loan status* "
   ]
  },
  {
   "cell_type": "code",
   "execution_count": 21,
   "id": "254a5997",
   "metadata": {},
   "outputs": [
    {
     "data": {
      "image/png": "[encoded data removed]",
      "text/plain": [
       "<Figure size 640x480 with 1 Axes>"
      ]
     },
     "metadata": {},
     "output_type": "display_data"
    }
   ],
   "source": [
    "data.boxplot(column=['annual_inc'], by='loan_status')\n",
    "plt.title('Average Percent Income by Loan Status')\n",
    "plt.suptitle('')\n",
    "plt.xticks(rotation = 90)\n",
    "plt.show()"
   ]
  },
  {
   "cell_type": "markdown",
   "id": "78db98d2",
   "metadata": {},
   "source": [
    "#### *cross table for loan status, home ownership, and the max employment length* "
   ]
  },
  {
   "cell_type": "code",
   "execution_count": 22,
   "id": "5e7e3e90",
   "metadata": {},
   "outputs": [
    {
     "data": {
      "text/html": [
       "<div>\n",
       "<style scoped>\n",
       "    .dataframe tbody tr th:only-of-type {\n",
       "        vertical-align: middle;\n",
       "    }\n",
       "\n",
       "    .dataframe tbody tr th {\n",
       "        vertical-align: top;\n",
       "    }\n",
       "\n",
       "    .dataframe thead th {\n",
       "        text-align: right;\n",
       "    }\n",
       "</style>\n",
       "<table border=\"1\" class=\"dataframe\">\n",
       "  <thead>\n",
       "    <tr style=\"text-align: right;\">\n",
       "      <th>home_ownership</th>\n",
       "      <th>ANY</th>\n",
       "      <th>MORTGAGE</th>\n",
       "      <th>NONE</th>\n",
       "      <th>OTHER</th>\n",
       "      <th>OWN</th>\n",
       "      <th>RENT</th>\n",
       "    </tr>\n",
       "    <tr>\n",
       "      <th>loan_status</th>\n",
       "      <th></th>\n",
       "      <th></th>\n",
       "      <th></th>\n",
       "      <th></th>\n",
       "      <th></th>\n",
       "      <th></th>\n",
       "    </tr>\n",
       "  </thead>\n",
       "  <tbody>\n",
       "    <tr>\n",
       "      <th>Charged Off</th>\n",
       "      <td>NaN</td>\n",
       "      <td>10.0</td>\n",
       "      <td>10.0</td>\n",
       "      <td>10.0</td>\n",
       "      <td>10.0</td>\n",
       "      <td>10.0</td>\n",
       "    </tr>\n",
       "    <tr>\n",
       "      <th>Current</th>\n",
       "      <td>NaN</td>\n",
       "      <td>10.0</td>\n",
       "      <td>10.0</td>\n",
       "      <td>10.0</td>\n",
       "      <td>10.0</td>\n",
       "      <td>10.0</td>\n",
       "    </tr>\n",
       "    <tr>\n",
       "      <th>Default</th>\n",
       "      <td>NaN</td>\n",
       "      <td>10.0</td>\n",
       "      <td>NaN</td>\n",
       "      <td>NaN</td>\n",
       "      <td>10.0</td>\n",
       "      <td>10.0</td>\n",
       "    </tr>\n",
       "    <tr>\n",
       "      <th>Does not meet the credit policy. Status:Charged Off</th>\n",
       "      <td>NaN</td>\n",
       "      <td>10.0</td>\n",
       "      <td>6.0</td>\n",
       "      <td>10.0</td>\n",
       "      <td>10.0</td>\n",
       "      <td>10.0</td>\n",
       "    </tr>\n",
       "    <tr>\n",
       "      <th>Does not meet the credit policy. Status:Fully Paid</th>\n",
       "      <td>NaN</td>\n",
       "      <td>10.0</td>\n",
       "      <td>0.0</td>\n",
       "      <td>10.0</td>\n",
       "      <td>10.0</td>\n",
       "      <td>10.0</td>\n",
       "    </tr>\n",
       "    <tr>\n",
       "      <th>Fully Paid</th>\n",
       "      <td>5.0</td>\n",
       "      <td>10.0</td>\n",
       "      <td>10.0</td>\n",
       "      <td>10.0</td>\n",
       "      <td>10.0</td>\n",
       "      <td>10.0</td>\n",
       "    </tr>\n",
       "    <tr>\n",
       "      <th>In Grace Period</th>\n",
       "      <td>NaN</td>\n",
       "      <td>10.0</td>\n",
       "      <td>NaN</td>\n",
       "      <td>NaN</td>\n",
       "      <td>10.0</td>\n",
       "      <td>10.0</td>\n",
       "    </tr>\n",
       "    <tr>\n",
       "      <th>Late (16-30 days)</th>\n",
       "      <td>NaN</td>\n",
       "      <td>10.0</td>\n",
       "      <td>NaN</td>\n",
       "      <td>NaN</td>\n",
       "      <td>10.0</td>\n",
       "      <td>10.0</td>\n",
       "    </tr>\n",
       "    <tr>\n",
       "      <th>Late (31-120 days)</th>\n",
       "      <td>NaN</td>\n",
       "      <td>10.0</td>\n",
       "      <td>NaN</td>\n",
       "      <td>NaN</td>\n",
       "      <td>10.0</td>\n",
       "      <td>10.0</td>\n",
       "    </tr>\n",
       "  </tbody>\n",
       "</table>\n",
       "</div>"
      ],
      "text/plain": [
       "home_ownership                                      ANY  MORTGAGE  NONE  \\\n",
       "loan_status                                                               \n",
       "Charged Off                                         NaN      10.0  10.0   \n",
       "Current                                             NaN      10.0  10.0   \n",
       "Default                                             NaN      10.0   NaN   \n",
       "Does not meet the credit policy. Status:Charged...  NaN      10.0   6.0   \n",
       "Does not meet the credit policy. Status:Fully Paid  NaN      10.0   0.0   \n",
       "Fully Paid                                          5.0      10.0  10.0   \n",
       "In Grace Period                                     NaN      10.0   NaN   \n",
       "Late (16-30 days)                                   NaN      10.0   NaN   \n",
       "Late (31-120 days)                                  NaN      10.0   NaN   \n",
       "\n",
       "home_ownership                                      OTHER   OWN  RENT  \n",
       "loan_status                                                            \n",
       "Charged Off                                          10.0  10.0  10.0  \n",
       "Current                                              10.0  10.0  10.0  \n",
       "Default                                               NaN  10.0  10.0  \n",
       "Does not meet the credit policy. Status:Charged...   10.0  10.0  10.0  \n",
       "Does not meet the credit policy. Status:Fully Paid   10.0  10.0  10.0  \n",
       "Fully Paid                                           10.0  10.0  10.0  \n",
       "In Grace Period                                       NaN  10.0  10.0  \n",
       "Late (16-30 days)                                     NaN  10.0  10.0  \n",
       "Late (31-120 days)                                    NaN  10.0  10.0  "
      ]
     },
     "execution_count": 22,
     "metadata": {},
     "output_type": "execute_result"
    }
   ],
   "source": [
    "pd.crosstab(data['loan_status'], data['home_ownership'], values=data['emp_length_int'], aggfunc='max')"
   ]
  },
  {
   "cell_type": "markdown",
   "id": "67ef990a",
   "metadata": {},
   "source": [
    "# General Preprocessing"
   ]
  },
  {
   "cell_type": "markdown",
   "id": "37f015eb",
   "metadata": {},
   "source": [
    "## Correcting Data Types"
   ]
  },
  {
   "cell_type": "code",
   "execution_count": null,
   "id": "96b70f25",
   "metadata": {},
   "outputs": [],
   "source": [
    "data['emp_length'].unique()"
   ]
  },
  {
   "cell_type": "code",
   "execution_count": 9,
   "id": "0556f915",
   "metadata": {},
   "outputs": [],
   "source": [
    "data['emp_length_int'] = data['emp_length'].str.replace('\\+ years','')\n",
    "data['emp_length_int'] = data['emp_length_int'].str.replace('< 1 year',str(0))\n",
    "data['emp_length_int'] = data['emp_length_int'].str.replace('n/a',str(0))\n",
    "data['emp_length_int'] = data['emp_length_int'].str.replace(' years','')\n",
    "data['emp_length_int'] = data['emp_length_int'].str.replace(' year','')\n",
    "\n",
    "data['emp_length_int'] = pd.to_numeric(data['emp_length_int'])\n",
    "data.drop(columns=['emp_length'], inplace=True)"
   ]
  },
  {
   "cell_type": "markdown",
   "id": "5351e2e9",
   "metadata": {},
   "source": [
    "For most credit risk models, especially for **probability of default**, columns like **person_emp_length** and **person_home_ownership** are common to begin investigating."
   ]
  },
  {
   "cell_type": "code",
   "execution_count": 10,
   "id": "d7f0ecd3",
   "metadata": {},
   "outputs": [
    {
     "data": {
      "text/html": [
       "<div>\n",
       "<style scoped>\n",
       "    .dataframe tbody tr th:only-of-type {\n",
       "        vertical-align: middle;\n",
       "    }\n",
       "\n",
       "    .dataframe tbody tr th {\n",
       "        vertical-align: top;\n",
       "    }\n",
       "\n",
       "    .dataframe thead th {\n",
       "        text-align: right;\n",
       "    }\n",
       "</style>\n",
       "<table border=\"1\" class=\"dataframe\">\n",
       "  <thead>\n",
       "    <tr style=\"text-align: right;\">\n",
       "      <th>home_ownership</th>\n",
       "      <th>ANY</th>\n",
       "      <th>MORTGAGE</th>\n",
       "      <th>NONE</th>\n",
       "      <th>OTHER</th>\n",
       "      <th>OWN</th>\n",
       "      <th>RENT</th>\n",
       "      <th>All</th>\n",
       "    </tr>\n",
       "    <tr>\n",
       "      <th>emp_length_int</th>\n",
       "      <th></th>\n",
       "      <th></th>\n",
       "      <th></th>\n",
       "      <th></th>\n",
       "      <th></th>\n",
       "      <th></th>\n",
       "      <th></th>\n",
       "    </tr>\n",
       "  </thead>\n",
       "  <tbody>\n",
       "    <tr>\n",
       "      <th>0.0</th>\n",
       "      <td>0</td>\n",
       "      <td>12610</td>\n",
       "      <td>8</td>\n",
       "      <td>32</td>\n",
       "      <td>2772</td>\n",
       "      <td>20843</td>\n",
       "      <td>36265</td>\n",
       "    </tr>\n",
       "    <tr>\n",
       "      <th>1.0</th>\n",
       "      <td>0</td>\n",
       "      <td>11020</td>\n",
       "      <td>2</td>\n",
       "      <td>22</td>\n",
       "      <td>2397</td>\n",
       "      <td>16181</td>\n",
       "      <td>29622</td>\n",
       "    </tr>\n",
       "    <tr>\n",
       "      <th>2.0</th>\n",
       "      <td>0</td>\n",
       "      <td>16583</td>\n",
       "      <td>4</td>\n",
       "      <td>22</td>\n",
       "      <td>3298</td>\n",
       "      <td>21466</td>\n",
       "      <td>41373</td>\n",
       "    </tr>\n",
       "    <tr>\n",
       "      <th>3.0</th>\n",
       "      <td>0</td>\n",
       "      <td>15768</td>\n",
       "      <td>2</td>\n",
       "      <td>17</td>\n",
       "      <td>2973</td>\n",
       "      <td>17836</td>\n",
       "      <td>36596</td>\n",
       "    </tr>\n",
       "    <tr>\n",
       "      <th>4.0</th>\n",
       "      <td>0</td>\n",
       "      <td>12542</td>\n",
       "      <td>1</td>\n",
       "      <td>12</td>\n",
       "      <td>2272</td>\n",
       "      <td>13196</td>\n",
       "      <td>28023</td>\n",
       "    </tr>\n",
       "    <tr>\n",
       "      <th>5.0</th>\n",
       "      <td>1</td>\n",
       "      <td>14604</td>\n",
       "      <td>2</td>\n",
       "      <td>11</td>\n",
       "      <td>2653</td>\n",
       "      <td>13503</td>\n",
       "      <td>30774</td>\n",
       "    </tr>\n",
       "    <tr>\n",
       "      <th>6.0</th>\n",
       "      <td>0</td>\n",
       "      <td>13247</td>\n",
       "      <td>5</td>\n",
       "      <td>11</td>\n",
       "      <td>2144</td>\n",
       "      <td>10705</td>\n",
       "      <td>26112</td>\n",
       "    </tr>\n",
       "    <tr>\n",
       "      <th>7.0</th>\n",
       "      <td>0</td>\n",
       "      <td>13736</td>\n",
       "      <td>2</td>\n",
       "      <td>4</td>\n",
       "      <td>2181</td>\n",
       "      <td>10257</td>\n",
       "      <td>26180</td>\n",
       "    </tr>\n",
       "    <tr>\n",
       "      <th>8.0</th>\n",
       "      <td>0</td>\n",
       "      <td>12222</td>\n",
       "      <td>1</td>\n",
       "      <td>4</td>\n",
       "      <td>1828</td>\n",
       "      <td>8340</td>\n",
       "      <td>22395</td>\n",
       "    </tr>\n",
       "    <tr>\n",
       "      <th>9.0</th>\n",
       "      <td>0</td>\n",
       "      <td>9885</td>\n",
       "      <td>4</td>\n",
       "      <td>4</td>\n",
       "      <td>1483</td>\n",
       "      <td>6512</td>\n",
       "      <td>17888</td>\n",
       "    </tr>\n",
       "    <tr>\n",
       "      <th>10.0</th>\n",
       "      <td>0</td>\n",
       "      <td>93795</td>\n",
       "      <td>18</td>\n",
       "      <td>40</td>\n",
       "      <td>14017</td>\n",
       "      <td>42179</td>\n",
       "      <td>150049</td>\n",
       "    </tr>\n",
       "    <tr>\n",
       "      <th>All</th>\n",
       "      <td>1</td>\n",
       "      <td>226012</td>\n",
       "      <td>49</td>\n",
       "      <td>179</td>\n",
       "      <td>38018</td>\n",
       "      <td>181018</td>\n",
       "      <td>445277</td>\n",
       "    </tr>\n",
       "  </tbody>\n",
       "</table>\n",
       "</div>"
      ],
      "text/plain": [
       "home_ownership  ANY  MORTGAGE  NONE  OTHER    OWN    RENT     All\n",
       "emp_length_int                                                   \n",
       "0.0               0     12610     8     32   2772   20843   36265\n",
       "1.0               0     11020     2     22   2397   16181   29622\n",
       "2.0               0     16583     4     22   3298   21466   41373\n",
       "3.0               0     15768     2     17   2973   17836   36596\n",
       "4.0               0     12542     1     12   2272   13196   28023\n",
       "5.0               1     14604     2     11   2653   13503   30774\n",
       "6.0               0     13247     5     11   2144   10705   26112\n",
       "7.0               0     13736     2      4   2181   10257   26180\n",
       "8.0               0     12222     1      4   1828    8340   22395\n",
       "9.0               0      9885     4      4   1483    6512   17888\n",
       "10.0              0     93795    18     40  14017   42179  150049\n",
       "All               1    226012    49    179  38018  181018  445277"
      ]
     },
     "execution_count": 10,
     "metadata": {},
     "output_type": "execute_result"
    }
   ],
   "source": [
    "pd.crosstab(data['emp_length_int'], data['home_ownership'], margins=True)"
   ]
  },
  {
   "cell_type": "code",
   "execution_count": null,
   "id": "7cd974df",
   "metadata": {},
   "outputs": [],
   "source": []
  },
  {
   "cell_type": "code",
   "execution_count": null,
   "id": "25c94147",
   "metadata": {},
   "outputs": [],
   "source": []
  },
  {
   "cell_type": "code",
   "execution_count": null,
   "id": "0bf798ef",
   "metadata": {},
   "outputs": [],
   "source": [
    "data['term'].unique()"
   ]
  },
  {
   "cell_type": "code",
   "execution_count": null,
   "id": "0b3b64c6",
   "metadata": {},
   "outputs": [],
   "source": [
    "data['term_int'] = data['term'].str.replace(' months', '')\n",
    "data['term_int'] = pd.to_numeric(data['term_int'])\n",
    "data.drop(columns=['term'], inplace=True)"
   ]
  },
  {
   "cell_type": "code",
   "execution_count": null,
   "id": "66f201b4",
   "metadata": {},
   "outputs": [],
   "source": [
    "d_str = ['earliest_cr_line', 'issue_d', 'last_pymnt_d', 'next_pymnt_d', 'last_credit_pull_d']\n",
    "\n",
    "data['earliest_cr_line_date'] = pd.to_datetime(data[d_str[0]], format='%b-%y')\n",
    "data['issue_d_date'] = pd.to_datetime(data[d_str[1]], format='%b-%y')\n",
    "data['last_pymnt_d_date'] = pd.to_datetime(data[d_str[2]], format='%b-%y')\n",
    "data['next_pymnt_d_date'] = pd.to_datetime(data[d_str[3]], format='%b-%y')\n",
    "data['last_credit_pull_d_date'] = pd.to_datetime(data[d_str[4]], format='%b-%y')"
   ]
  },
  {
   "cell_type": "markdown",
   "id": "1aa8bea7",
   "metadata": {},
   "source": [
    "## General Feature Extraction"
   ]
  },
  {
   "cell_type": "code",
   "execution_count": null,
   "id": "d5942bca",
   "metadata": {},
   "outputs": [],
   "source": [
    "time_passed_days = pd.to_datetime('2023-06-01') - data['earliest_cr_line_date']\n",
    "data['mths_since_earliest_cr_line'] = round(pd.to_numeric(time_passed_days/np.timedelta64(1,'M')))"
   ]
  },
  {
   "cell_type": "code",
   "execution_count": null,
   "id": "5c23f9d4",
   "metadata": {},
   "outputs": [],
   "source": [
    "data['mths_since_earliest_cr_line'].describe()"
   ]
  },
  {
   "cell_type": "markdown",
   "id": "96cdf01d",
   "metadata": {},
   "source": [
    "There is a negative value in the min section, which is impossible to have a negative value for months differences\n",
    "\n",
    "Since we have 466.285 and only 1169 records with negative values, we can impute the value with other since it won't affect much to our analysis"
   ]
  },
  {
   "cell_type": "code",
   "execution_count": null,
   "id": "45b7a80b",
   "metadata": {},
   "outputs": [],
   "source": [
    "data['mths_since_earliest_cr_line'][data.mths_since_earliest_cr_line < 0] = data['mths_since_earliest_cr_line'].max()"
   ]
  },
  {
   "cell_type": "code",
   "execution_count": null,
   "id": "7378b742",
   "metadata": {},
   "outputs": [],
   "source": [
    "issue_time_passed_days = pd.to_datetime('2023-06-01') - data['issue_d_date']\n",
    "data['mths_since_issue_date'] = round(pd.to_numeric(time_passed_days/np.timedelta64(1,'M')))\n",
    "\n",
    "data['mths_since_issue_date'][data.mths_since_issue_date < 0] = data['mths_since_issue_date'].max()\n",
    "data['mths_since_issue_date'].describe()"
   ]
  },
  {
   "cell_type": "markdown",
   "id": "e10a457b",
   "metadata": {},
   "source": [
    "## Deleting Unnecessary Feature (NaN Feature)"
   ]
  },
  {
   "cell_type": "code",
   "execution_count": null,
   "id": "c37b6117",
   "metadata": {},
   "outputs": [],
   "source": [
    "empty_features = ['annual_inc_joint','dti_joint','verification_status_joint','open_acc_6m','open_il_6m','open_il_12m','open_il_24m','mths_since_rcnt_il','total_bal_il','il_util','open_rv_12m','open_rv_24m','max_bal_bc','all_util',\n",
    "                  'inq_fi','total_cu_tl','inq_last_12m']\n",
    "data.drop(columns=empty_features, inplace=True)"
   ]
  },
  {
   "cell_type": "markdown",
   "id": "6dbeae2f",
   "metadata": {},
   "source": [
    "## Handling Missing Value"
   ]
  },
  {
   "cell_type": "code",
   "execution_count": null,
   "id": "e241eb55",
   "metadata": {},
   "outputs": [],
   "source": [
    "possible_knn_features = [\n",
    "    'total_rev_hi_lim', 'annual_inc', 'revol_util','tot_cur_bal'\n",
    "]\n",
    "\n",
    "missing_nums_data = [\n",
    "            'mths_since_earliest_cr_line','acc_now_delinq','total_acc', \n",
    "            'pub_rec', 'open_acc', 'inq_last_6mths', 'delinq_2yrs', 'emp_length_int', \n",
    "            'mths_since_last_delinq', 'collections_12_mths_ex_med', 'collections_12_mths_ex_med', \n",
    "            'mths_since_last_major_derog', 'acc_now_delinq', 'tot_coll_amt', 'mths_since_issue_date', 'mths_since_last_record'\n",
    "            ]"
   ]
  },
  {
   "cell_type": "code",
   "execution_count": null,
   "id": "d8e31c70",
   "metadata": {},
   "outputs": [],
   "source": [
    "from sklearn.impute import KNNImputer\n",
    "\n",
    "nums_data = data[possible_knn_features].copy()\n",
    "\n",
    "KNNImputer = KNNImputer(n_neighbors=5)\n",
    "impute_nums_data = pd.DataFrame(KNNImputer.fit_transform(nums_data), columns=nums_data.columns)"
   ]
  },
  {
   "cell_type": "code",
   "execution_count": null,
   "id": "3c8a93e0",
   "metadata": {},
   "outputs": [],
   "source": [
    "for i in range(len(missing_nums_data)):\n",
    "    data[missing_nums_data[i]].fillna(0, inplace=True)"
   ]
  },
  {
   "cell_type": "code",
   "execution_count": null,
   "id": "988aec41",
   "metadata": {},
   "outputs": [],
   "source": [
    "missing_cats_data = ['emp_title', 'desc', 'title']"
   ]
  },
  {
   "cell_type": "code",
   "execution_count": null,
   "id": "2ee8a479",
   "metadata": {},
   "outputs": [],
   "source": [
    "from sklearn.impute import SimpleImputer\n",
    "\n",
    "cats_data = data[missing_cats_data].copy()\n",
    "\n",
    "imputer = SimpleImputer(strategy='constant', fill_value='missing')\n",
    "impute_cats_data = pd.DataFrame(imputer.fit_transform(cats_data), columns = cats_data.columns)"
   ]
  },
  {
   "cell_type": "code",
   "execution_count": null,
   "id": "1de96bee",
   "metadata": {},
   "outputs": [],
   "source": [
    "imputed_data = impute_nums_data.join(impute_cats_data)"
   ]
  },
  {
   "cell_type": "code",
   "execution_count": null,
   "id": "e4f2363c",
   "metadata": {},
   "outputs": [],
   "source": [
    "data = data.join(imputed_data)"
   ]
  },
  {
   "cell_type": "markdown",
   "id": "c2a6c030",
   "metadata": {},
   "source": [
    "# Export Clean Dataset"
   ]
  },
  {
   "cell_type": "code",
   "execution_count": null,
   "id": "e6dbbeed",
   "metadata": {},
   "outputs": [],
   "source": [
    "data = pd.read_csv('cleaned_data.csv')"
   ]
  },
  {
   "cell_type": "markdown",
   "id": "7d8f7a0d",
   "metadata": {},
   "source": [
    "# Defining WoE and IV Calculation"
   ]
  },
  {
   "cell_type": "code",
   "execution_count": null,
   "id": "f606d35a",
   "metadata": {},
   "outputs": [],
   "source": [
    "def woe_discreat(X_train, discreat_var_name, y_train):\n",
    "    df = pd.concat([X_train[discreat_var_name], y_train], axis=1)\n",
    "    \n",
    "    #Calculate the number of observations and the proportion of good values (which is 1)\n",
    "    #Since the good_bad feature only range from 0-1, calculate the mean good_bad will gives us the same result of the proportion of the good values (1)\n",
    "    n_obs = df.groupby(discreat_var_name, as_index = False).agg(n_obs = (discreat_var_name, 'count'))\n",
    "    prop_good = df.groupby(discreat_var_name, as_index = False).agg(prop_good = (y_train.name,'mean'))\n",
    "    \n",
    "    df = pd.concat([n_obs, prop_good], axis=1)\n",
    "    \n",
    "    #Removing the duplicate feature (only return feature from index 0,1,and 3)\n",
    "    df = df.iloc[:,[0,1,3]]\n",
    "    \n",
    "    #calculate the percentage of observations\n",
    "    df['prop_n_obs'] = df['n_obs']/df['n_obs'].sum()\n",
    "    \n",
    "    #calculate the n_good and the n_bad using the following formula\n",
    "    df['n_good'] = df['prop_good'] * df['n_obs']\n",
    "    df['n_bad'] = (1-df['prop_good']) * df['n_obs']\n",
    "    \n",
    "    #calculate the percentage of the n_good and the n_bad\n",
    "    df['prcnt_good'] = df['n_good']/df['n_good'].sum()\n",
    "    df['prcnt_bad'] = df['n_bad']/df['n_bad'].sum()\n",
    "    \n",
    "    #calculate the WoE Score\n",
    "    df['woe'] = np.log(df['prcnt_good'] / df['prcnt_bad'])\n",
    "    \n",
    "    #calculate Information Value (IV)\n",
    "    df['IV'] = (df['prcnt_good'] - df['prcnt_bad'])*df['woe']\n",
    "    df['IV'] = df['IV'].sum()\n",
    "    \n",
    "    #calculate the difference of good loan and the woe\n",
    "    df['diff_prop_good'] = df['prop_good'].diff().abs()\n",
    "    df['diff_woe'] = df['woe'].diff().abs()\n",
    "    \n",
    "    df = df.sort_values(by='woe')\n",
    "    \n",
    "    return df"
   ]
  },
  {
   "cell_type": "code",
   "execution_count": null,
   "id": "7fd83deb",
   "metadata": {},
   "outputs": [],
   "source": [
    "def plot_woe(df_woe, rotation_of_axis_labels=0):\n",
    "    x = np.array(df_woe.iloc[:, 0].apply(str)) #retrieve the grade feature\n",
    "    y = df_woe['woe']\n",
    "    \n",
    "    plt.figure(figsize=(18,6))\n",
    "    plt.plot(x,y, marker = 'o', linestyle='--', color='k')\n",
    "    plt.xlabel(df_woe.columns[0])\n",
    "    plt.ylabel('Weight of Evidence')\n",
    "    \n",
    "    plt.title(str('Weight of Evidence by' + df_woe.columns[0]))\n",
    "    plt.xticks(rotation = rotation_of_axis_labels)\n",
    "    plt.grid()"
   ]
  },
  {
   "cell_type": "code",
   "execution_count": null,
   "id": "94be4413",
   "metadata": {},
   "outputs": [],
   "source": [
    "def woe_ordered_continuous(X_train, cont_var_name, y_train):\n",
    "    df = pd.concat([X_train[cont_var_name], y_train], axis=1)\n",
    "    \n",
    "    #Calculate the number of observations and the proportion of good values (which is 1)\n",
    "    #Since the good_bad feature only range from 0-1, calculate the mean good_bad will gives us the same result of the proportion of the good values (1)\n",
    "    n_obs = df.groupby(cont_var_name, as_index = False).agg(n_obs = (cont_var_name, 'count'))\n",
    "    prop_good = df.groupby(cont_var_name, as_index = False).agg(prop_good = (y_train.name,'mean'))\n",
    "    \n",
    "    df = pd.concat([n_obs, prop_good], axis=1)\n",
    "    \n",
    "    #Removing the duplicate feature (only return feature from index 0,1,and 3)\n",
    "    df = df.iloc[:,[0,1,3]]\n",
    "    \n",
    "    #calculate the percentage of observations\n",
    "    df['prop_n_obs'] = df['n_obs']/df['n_obs'].sum()\n",
    "    \n",
    "    #calculate the n_good and the n_bad using the following formula\n",
    "    df['n_good'] = df['prop_good'] * df['n_obs']\n",
    "    df['n_bad'] = (1-df['prop_good']) * df['n_obs']\n",
    "    \n",
    "    #calculate the percentage of the n_good and the n_bad\n",
    "    df['prcnt_good'] = df['n_good']/df['n_good'].sum()\n",
    "    df['prcnt_bad'] = df['n_bad']/df['n_bad'].sum()\n",
    "    \n",
    "    #calculate the WoE Score\n",
    "    df['woe'] = np.log(df['prcnt_good'] / df['prcnt_bad'])\n",
    "    \n",
    "    #calculate Information Value (IV)\n",
    "    df['IV'] = (df['prcnt_good'] - df['prcnt_bad'])*df['woe']\n",
    "    df['IV'] = df['IV'].sum()\n",
    "    \n",
    "    #calculate the difference of good loan and the woe\n",
    "    df['diff_prop_good'] = df['prop_good'].diff().abs()\n",
    "    df['diff_woe'] = df['woe'].diff().abs()\n",
    "    \n",
    "    return df"
   ]
  },
  {
   "cell_type": "markdown",
   "id": "621db7cb",
   "metadata": {},
   "source": [
    "# EL = PD x LGD x EAD"
   ]
  },
  {
   "cell_type": "markdown",
   "id": "8d8f3ab7",
   "metadata": {},
   "source": [
    "# Probability of Default (PD)"
   ]
  },
  {
   "cell_type": "markdown",
   "id": "43bf3dfa",
   "metadata": {},
   "source": [
    "## Splitting Data (80/20)"
   ]
  },
  {
   "cell_type": "code",
   "execution_count": null,
   "id": "01c6f30c",
   "metadata": {},
   "outputs": [],
   "source": [
    "# Determine which is the good and bad value from the loan_status\n",
    "data['good_bad'] = np.where(data['loan_status'].isin(['Charged Off', 'Late (16-30 days)','Default',\n",
    "                                                     'Does not meet the credit policy. Status:Charged Off']),0,1)"
   ]
  },
  {
   "cell_type": "code",
   "execution_count": null,
   "id": "4bc7a568",
   "metadata": {},
   "outputs": [],
   "source": [
    "X = data.drop(columns=['good_bad'])\n",
    "y = data['good_bad']"
   ]
  },
  {
   "cell_type": "code",
   "execution_count": null,
   "id": "def54537",
   "metadata": {},
   "outputs": [],
   "source": [
    "from sklearn.model_selection import train_test_split\n",
    "\n",
    "X_train_pd, X_test_pd, y_train_pd, y_test_pd = train_test_split(X,y,test_size=0.2, random_state=42)"
   ]
  },
  {
   "cell_type": "markdown",
   "id": "a7878d04",
   "metadata": {},
   "source": [
    "## Encoding Categorical Values"
   ]
  },
  {
   "cell_type": "code",
   "execution_count": null,
   "id": "88b3b5fb",
   "metadata": {},
   "outputs": [],
   "source": [
    "cat_discreat = ['grade', 'home_ownership','verification_status','purpose','addr_state', 'initial_list_status']"
   ]
  },
  {
   "cell_type": "code",
   "execution_count": null,
   "id": "da073cc5",
   "metadata": {},
   "outputs": [],
   "source": [
    "data_dummies_train = [pd.get_dummies(X_train_pd[cat_discreat[0]], prefix='grade', prefix_sep=':'),\n",
    "                pd.get_dummies(X_train_pd[cat_discreat[1]], prefix='home_ownership', prefix_sep=':'),\n",
    "                pd.get_dummies(X_train_pd[cat_discreat[2]], prefix='ver_status', prefix_sep=':'),\n",
    "                pd.get_dummies(X_train_pd[cat_discreat[3]], prefix='purpose', prefix_sep=':'),\n",
    "                pd.get_dummies(X_train_pd[cat_discreat[4]], prefix='addr', prefix_sep=':'),\n",
    "                pd.get_dummies(X_train_pd[cat_discreat[5]], prefix='list_status', prefix_sep=':')\n",
    "               ]\n",
    "\n",
    "data_dummies_test = [pd.get_dummies(X_test_pd[cat_discreat[0]], prefix='grade', prefix_sep=':'),\n",
    "                pd.get_dummies(X_test_pd[cat_discreat[1]], prefix='home_ownership', prefix_sep=':'),\n",
    "                pd.get_dummies(X_test_pd[cat_discreat[2]], prefix='ver_status', prefix_sep=':'),\n",
    "                pd.get_dummies(X_test_pd[cat_discreat[3]], prefix='purpose', prefix_sep=':'),\n",
    "                pd.get_dummies(X_test_pd[cat_discreat[4]], prefix='addr', prefix_sep=':'),\n",
    "                pd.get_dummies(X_test_pd[cat_discreat[5]], prefix='list_status', prefix_sep=':')\n",
    "               ]"
   ]
  },
  {
   "cell_type": "code",
   "execution_count": null,
   "id": "4f070249",
   "metadata": {},
   "outputs": [],
   "source": [
    "#Convert into dataframe\n",
    "data_dummies_train = pd.concat(data_dummies_train, axis=1)\n",
    "\n",
    "data_dummies_test = pd.concat(data_dummies_test, axis=1)"
   ]
  },
  {
   "cell_type": "code",
   "execution_count": null,
   "id": "dbd0b0e3",
   "metadata": {},
   "outputs": [],
   "source": [
    "X_train_pd = pd.concat([X_train_pd, data_dummies_train], axis=1)\n",
    "X_test_pd = pd.concat([X_test_pd, data_dummies_test], axis=1)"
   ]
  },
  {
   "cell_type": "code",
   "execution_count": null,
   "id": "d51813c5",
   "metadata": {},
   "outputs": [],
   "source": [
    "X_train_pd.head(2)"
   ]
  },
  {
   "cell_type": "markdown",
   "id": "f2274caf",
   "metadata": {},
   "source": [
    "## Feature Selection using WoE and IV - Categorical Features"
   ]
  },
  {
   "cell_type": "code",
   "execution_count": null,
   "id": "a4de924a",
   "metadata": {},
   "outputs": [],
   "source": [
    "cat_discreat"
   ]
  },
  {
   "cell_type": "code",
   "execution_count": null,
   "id": "df3d6648",
   "metadata": {},
   "outputs": [],
   "source": [
    "woe_discreat(X_train_pd, 'grade', y_train_pd)"
   ]
  },
  {
   "cell_type": "code",
   "execution_count": null,
   "id": "a88713e7",
   "metadata": {},
   "outputs": [],
   "source": [
    "woe_discreat(X_train_pd, 'home_ownership', y_train_pd)"
   ]
  },
  {
   "cell_type": "code",
   "execution_count": null,
   "id": "a6994687",
   "metadata": {},
   "outputs": [],
   "source": [
    "woe_discreat(X_train_pd, 'verification_status', y_train_pd)"
   ]
  },
  {
   "cell_type": "code",
   "execution_count": null,
   "id": "640f71ff",
   "metadata": {
    "scrolled": true
   },
   "outputs": [],
   "source": [
    "woe_discreat(X_train_pd, 'purpose', y_train_pd)"
   ]
  },
  {
   "cell_type": "code",
   "execution_count": null,
   "id": "5d932f04",
   "metadata": {
    "scrolled": true
   },
   "outputs": [],
   "source": [
    "woe_discreat(X_train_pd, 'addr_state', y_train_pd)"
   ]
  },
  {
   "cell_type": "code",
   "execution_count": null,
   "id": "2b4d0cf7",
   "metadata": {},
   "outputs": [],
   "source": [
    "woe_discreat(X_train_pd, 'initial_list_status', y_train_pd)"
   ]
  },
  {
   "cell_type": "markdown",
   "id": "bb597254",
   "metadata": {},
   "source": [
    "The following are the selected feature with the **IV** score **> 0.02**:\n",
    "1. grade\n",
    "2. home_ownership\n",
    "3. verification_status\n",
    "4. purpose\n",
    "5. addr_state\n",
    "6. initial_list_status"
   ]
  },
  {
   "cell_type": "markdown",
   "id": "81cd2409",
   "metadata": {},
   "source": [
    "## Feature Extraction - Categorical Features"
   ]
  },
  {
   "cell_type": "code",
   "execution_count": null,
   "id": "54d2477d",
   "metadata": {},
   "outputs": [],
   "source": [
    "#Create a dummy variable to grouped the home_ownership values\n",
    "\n",
    "X_train_pd['home_ownership:RENT_OTHER_NONE_ANY'] = sum([\n",
    "    X_train_pd['home_ownership:RENT'], X_train_pd['home_ownership:OTHER'],\n",
    "    X_train_pd['home_ownership:NONE'], X_train_pd['home_ownership:ANY']\n",
    "])\n",
    "\n",
    "X_test_pd['home_ownership:RENT_OTHER_NONE_ANY'] = sum([\n",
    "    X_test_pd['home_ownership:RENT'], X_test_pd['home_ownership:OTHER'],\n",
    "    X_test_pd['home_ownership:NONE']\n",
    "])"
   ]
  },
  {
   "cell_type": "code",
   "execution_count": null,
   "id": "0e29b409",
   "metadata": {},
   "outputs": [],
   "source": [
    "#Create a dummy variable to grouped the addr_state values\n",
    "X_train_pd['adrr_state:NE_IA_NV_FL_AL_NM_HI_MO'] = sum([\n",
    "    X_train_pd['addr:NE'], X_train_pd['addr:IA'], X_train_pd['addr:NV'], X_train_pd['addr:FL'], X_train_pd['addr:AL'],\n",
    "    X_train_pd['addr:NM'], X_train_pd['addr:HI'], X_train_pd['addr:MO']\n",
    "])\n",
    "\n",
    "X_train_pd['adrr_state:CA'] = X_train_pd['addr:CA']\n",
    "\n",
    "X_train_pd['adrr_state:KY_VA'] = sum([\n",
    "    X_train_pd['addr:KY'], X_train_pd['addr:VA']\n",
    "])\n",
    "\n",
    "X_train_pd['adrr_state:NY'] = X_train_pd['addr:NY']\n",
    "\n",
    "X_train_pd['adrr_state:NC_UT'] = sum([\n",
    "    X_train_pd['addr:NC'], X_train_pd['addr:UT']\n",
    "])\n",
    "\n",
    "X_train_pd['adrr_state:MD_NJ_LA_OK_MI_TN'] = sum([\n",
    "    X_train_pd['addr:MD'], X_train_pd['addr:NJ'], X_train_pd['addr:LA'], X_train_pd['addr:OK'], X_train_pd['addr:MI'],\n",
    "    X_train_pd['addr:TN']\n",
    "])\n",
    "\n",
    "X_train_pd['adrr_state:MN_AZ_DE_PA_AR_OH'] = sum([\n",
    "    X_train_pd['addr:MN'], X_train_pd['addr:AZ'], X_train_pd['addr:DE'], X_train_pd['addr:PA'], X_train_pd['addr:AR'],\n",
    "    X_train_pd['addr:OH']\n",
    "])\n",
    "\n",
    "X_train_pd['adrr_state:WA_MA_IN_GA_RI_OR'] = sum([\n",
    "    X_train_pd['addr:WA'], X_train_pd['addr:MA'], X_train_pd['addr:IN'], X_train_pd['addr:GA'], X_train_pd['addr:RI'],\n",
    "    X_train_pd['addr:OR']\n",
    "])\n",
    "\n",
    "X_train_pd['adrr_state:WI_SD_CT'] = sum([\n",
    "    X_train_pd['addr:WI'], X_train_pd['addr:SD'], X_train_pd['addr:CT']\n",
    "])\n",
    "\n",
    "X_train_pd['adrr_state:TX'] = X_train_pd['addr:TX']\n",
    "\n",
    "X_train_pd['adrr_state:KS_IL_MT'] = sum([\n",
    "    X_train_pd['addr:KS'], X_train_pd['addr:IL'], X_train_pd['addr:MT']\n",
    "])\n",
    "\n",
    "X_train_pd['adrr_state:CO_SC_VT_AK'] = sum([\n",
    "    X_train_pd['addr:CO'], X_train_pd['addr:SC'], X_train_pd['addr:VT'], X_train_pd['addr:AK']\n",
    "])\n",
    "\n",
    "X_train_pd['adrr_state:MS_NH_WY_WV_DC_ME_ID'] = sum([\n",
    "    X_train_pd['addr:MS'], X_train_pd['addr:NH'], X_train_pd['addr:WY'], X_train_pd['addr:WV'], X_train_pd['addr:DC'],\n",
    "    X_train_pd['addr:ME'], X_train_pd['addr:ID']\n",
    "])"
   ]
  },
  {
   "cell_type": "code",
   "execution_count": null,
   "id": "a2869012",
   "metadata": {},
   "outputs": [],
   "source": [
    "#Create a dummy variable to grouped the addr_state values\n",
    "X_test_pd['adrr_state:NE_IA_NV_FL_AL_NM_HI_MO'] = sum([\n",
    "    X_test_pd['addr:NE'], X_test_pd['addr:IA'], X_test_pd['addr:NV'], X_test_pd['addr:FL'], X_test_pd['addr:AL'],\n",
    "    X_test_pd['addr:NM'], X_test_pd['addr:HI'], X_test_pd['addr:MO']\n",
    "])\n",
    "\n",
    "X_test_pd['adrr_state:CA'] = X_test_pd['addr:CA']\n",
    "\n",
    "X_test_pd['adrr_state:KY_VA'] = sum([\n",
    "    X_test_pd['addr:KY'], X_test_pd['addr:VA']\n",
    "])\n",
    "\n",
    "X_test_pd['adrr_state:NY'] = X_test_pd['addr:NY']\n",
    "\n",
    "X_test_pd['adrr_state:NC_UT'] = sum([\n",
    "    X_test_pd['addr:NC'], X_test_pd['addr:UT']\n",
    "])\n",
    "\n",
    "X_test_pd['adrr_state:MD_NJ_LA_OK_MI_TN'] = sum([\n",
    "    X_test_pd['addr:MD'], X_test_pd['addr:NJ'], X_test_pd['addr:LA'], X_test_pd['addr:OK'], X_test_pd['addr:MI'],\n",
    "    X_test_pd['addr:TN']\n",
    "])\n",
    "\n",
    "X_test_pd['adrr_state:MN_AZ_DE_PA_AR_OH'] = sum([\n",
    "    X_test_pd['addr:MN'], X_test_pd['addr:AZ'], X_test_pd['addr:DE'], X_test_pd['addr:PA'], X_test_pd['addr:AR'],\n",
    "    X_test_pd['addr:OH']\n",
    "])\n",
    "\n",
    "X_test_pd['adrr_state:WA_MA_IN_GA_RI_OR'] = sum([\n",
    "    X_test_pd['addr:WA'], X_test_pd['addr:MA'], X_test_pd['addr:IN'], X_test_pd['addr:GA'], X_test_pd['addr:RI'],\n",
    "    X_test_pd['addr:OR']\n",
    "])\n",
    "\n",
    "X_test_pd['adrr_state:WI_SD_CT'] = sum([\n",
    "    X_test_pd['addr:WI'], X_test_pd['addr:SD'], X_test_pd['addr:CT']\n",
    "])\n",
    "\n",
    "X_test_pd['adrr_state:TX'] = X_test_pd['addr:TX']\n",
    "\n",
    "X_test_pd['adrr_state:KS_IL_MT'] = sum([\n",
    "    X_test_pd['addr:KS'], X_test_pd['addr:IL'], X_test_pd['addr:MT']\n",
    "])\n",
    "\n",
    "X_test_pd['adrr_state:CO_SC_VT_AK'] = sum([\n",
    "    X_test_pd['addr:CO'], X_test_pd['addr:SC'], X_test_pd['addr:VT'], X_test_pd['addr:AK']\n",
    "])\n",
    "\n",
    "X_test_pd['adrr_state:MS_NH_WY_WV_DC_ME_ID'] = sum([\n",
    "    X_test_pd['addr:MS'], X_test_pd['addr:NH'], X_test_pd['addr:WY'], X_test_pd['addr:WV'], X_test_pd['addr:DC'],\n",
    "    X_test_pd['addr:ME'], X_test_pd['addr:ID']\n",
    "])"
   ]
  },
  {
   "cell_type": "code",
   "execution_count": null,
   "id": "417863ea",
   "metadata": {},
   "outputs": [],
   "source": [
    "X_train_pd['purpose:small_business_educational_moving'] = sum([\n",
    "    X_train_pd['purpose:small_business'], X_train_pd['purpose:educational'], X_train_pd['purpose:moving']\n",
    "])\n",
    "\n",
    "X_train_pd['purpose:renewable_energy_other_house'] = sum([\n",
    "    X_train_pd['purpose:renewable_energy'], X_train_pd['purpose:other'], X_train_pd['purpose:house']\n",
    "])\n",
    "\n",
    "X_train_pd['purpose:medical_wedding_vacation'] = sum([\n",
    "    X_train_pd['purpose:medical'], X_train_pd['purpose:wedding'], X_train_pd['purpose:vacation']\n",
    "])\n",
    "\n",
    "X_train_pd['purpose:debt_consolidation'] = X_train_pd['purpose:debt_consolidation']\n",
    "\n",
    "X_train_pd['purpose:home_improvement_major_purchase_car'] = sum([\n",
    "    X_train_pd['purpose:home_improvement'], X_train_pd['purpose:major_purchase'], X_train_pd['purpose:car']\n",
    "])\n",
    "\n",
    "X_train_pd['purpose:credit_card'] = X_train_pd['purpose:credit_card']"
   ]
  },
  {
   "cell_type": "code",
   "execution_count": null,
   "id": "5e78b9ea",
   "metadata": {},
   "outputs": [],
   "source": [
    "X_test_pd['purpose:small_business_educational_moving'] = sum([\n",
    "    X_test_pd['purpose:small_business'], X_test_pd['purpose:educational'], X_test_pd['purpose:moving']\n",
    "])\n",
    "\n",
    "X_test_pd['purpose:renewable_energy_other_house'] = sum([\n",
    "    X_test_pd['purpose:renewable_energy'], X_test_pd['purpose:other'], X_test_pd['purpose:house']\n",
    "])\n",
    "\n",
    "X_test_pd['purpose:medical_wedding_vacation'] = sum([\n",
    "    X_test_pd['purpose:medical'], X_test_pd['purpose:wedding'], X_test_pd['purpose:vacation']\n",
    "])\n",
    "\n",
    "X_test_pd['purpose:debt_consolidation'] = X_test_pd['purpose:debt_consolidation']\n",
    "\n",
    "X_test_pd['purpose:home_improvement_major_purchase_car'] = sum([\n",
    "    X_test_pd['purpose:home_improvement'], X_test_pd['purpose:major_purchase'], X_test_pd['purpose:car']\n",
    "])\n",
    "\n",
    "X_test_pd['purpose:credit_card'] = X_test_pd['purpose:credit_card']"
   ]
  },
  {
   "cell_type": "code",
   "execution_count": null,
   "id": "7fce5ea5",
   "metadata": {},
   "outputs": [],
   "source": []
  },
  {
   "cell_type": "code",
   "execution_count": null,
   "id": "de08dc70",
   "metadata": {},
   "outputs": [],
   "source": []
  },
  {
   "cell_type": "code",
   "execution_count": null,
   "id": "35447f03",
   "metadata": {},
   "outputs": [],
   "source": []
  },
  {
   "cell_type": "code",
   "execution_count": null,
   "id": "5f87ee88",
   "metadata": {},
   "outputs": [],
   "source": []
  },
  {
   "cell_type": "markdown",
   "id": "eaa078ae",
   "metadata": {},
   "source": [
    "## Feature Selection using WoE and IV - Numerical Features"
   ]
  },
  {
   "cell_type": "code",
   "execution_count": null,
   "id": "7a30274c",
   "metadata": {},
   "outputs": [],
   "source": [
    "woe_ordered_continuous(X_train_pd, 'term_int', y_train_pd)"
   ]
  },
  {
   "cell_type": "code",
   "execution_count": null,
   "id": "5dcf1cf7",
   "metadata": {
    "scrolled": true
   },
   "outputs": [],
   "source": [
    "woe_ordered_continuous(X_train_pd, 'emp_length_int', y_train_pd)"
   ]
  },
  {
   "cell_type": "code",
   "execution_count": null,
   "id": "e71d6ad9",
   "metadata": {},
   "outputs": [],
   "source": [
    "plot_woe(woe_ordered_continuous(X_train_pd, 'emp_length_int', y_train_pd), 90)"
   ]
  },
  {
   "cell_type": "code",
   "execution_count": null,
   "id": "a1e9fd9a",
   "metadata": {},
   "outputs": [],
   "source": [
    "train_temp = X_train_pd.copy()\n",
    "test_temp = y_train_pd.copy()"
   ]
  },
  {
   "cell_type": "code",
   "execution_count": null,
   "id": "d1c7742c",
   "metadata": {
    "scrolled": true
   },
   "outputs": [],
   "source": [
    "train_temp['mths_since_issue_date_factor'] = pd.cut(train_temp['mths_since_issue_date'], 50)\n",
    "woe_ordered_continuous(train_temp, 'mths_since_issue_date_factor', test_temp)"
   ]
  },
  {
   "cell_type": "code",
   "execution_count": null,
   "id": "1723abea",
   "metadata": {
    "scrolled": true
   },
   "outputs": [],
   "source": [
    "train_temp['int_rate_factor'] = pd.cut(train_temp['int_rate'], 50)\n",
    "woe_ordered_continuous(train_temp, 'int_rate_factor', test_temp)"
   ]
  },
  {
   "cell_type": "code",
   "execution_count": null,
   "id": "3b504f8a",
   "metadata": {},
   "outputs": [],
   "source": [
    "plot_woe(woe_ordered_continuous(train_temp, 'int_rate_factor', test_temp), 90)"
   ]
  },
  {
   "cell_type": "code",
   "execution_count": null,
   "id": "33db00f4",
   "metadata": {},
   "outputs": [],
   "source": []
  },
  {
   "cell_type": "code",
   "execution_count": null,
   "id": "5e904713",
   "metadata": {},
   "outputs": [],
   "source": []
  },
  {
   "cell_type": "code",
   "execution_count": null,
   "id": "f68f9025",
   "metadata": {
    "scrolled": true
   },
   "outputs": [],
   "source": [
    "train_temp['funded_amnt_factor'] = pd.cut(train_temp['funded_amnt'], 50)\n",
    "woe_ordered_continuous(train_temp, 'funded_amnt_factor', test_temp)"
   ]
  },
  {
   "cell_type": "code",
   "execution_count": null,
   "id": "ad6432ec",
   "metadata": {
    "scrolled": true
   },
   "outputs": [],
   "source": [
    "train_temp['mths_since_earliest_cr_line_factor'] = pd.cut(train_temp['mths_since_earliest_cr_line'], 50)\n",
    "woe_ordered_continuous(train_temp, 'mths_since_earliest_cr_line_factor', test_temp)"
   ]
  },
  {
   "cell_type": "code",
   "execution_count": null,
   "id": "664309ab",
   "metadata": {
    "scrolled": true
   },
   "outputs": [],
   "source": [
    "train_temp['installment_factor'] = pd.cut(train_temp['installment'], 50)\n",
    "woe_ordered_continuous(train_temp, 'installment_factor', test_temp)"
   ]
  },
  {
   "cell_type": "code",
   "execution_count": null,
   "id": "d727fe69",
   "metadata": {
    "scrolled": true
   },
   "outputs": [],
   "source": [
    "train_temp['delinq_2yrs_factor'] = pd.cut(train_temp['delinq_2yrs'].loc[train_temp.delinq_2yrs < 1], 10)\n",
    "woe_ordered_continuous(train_temp, 'delinq_2yrs_factor', test_temp)"
   ]
  },
  {
   "cell_type": "code",
   "execution_count": null,
   "id": "3fcad52c",
   "metadata": {},
   "outputs": [],
   "source": [
    "plot_woe(woe_ordered_continuous(train_temp, 'delinq_2yrs_factor', test_temp), 90)"
   ]
  },
  {
   "cell_type": "code",
   "execution_count": null,
   "id": "dbc5db2d",
   "metadata": {},
   "outputs": [],
   "source": []
  },
  {
   "cell_type": "code",
   "execution_count": null,
   "id": "cb95077f",
   "metadata": {},
   "outputs": [],
   "source": []
  },
  {
   "cell_type": "code",
   "execution_count": null,
   "id": "ba944bc6",
   "metadata": {
    "scrolled": true
   },
   "outputs": [],
   "source": [
    "train_temp['inq_last_6mths_factor'] = pd.cut(train_temp['inq_last_6mths'], 50)\n",
    "woe_ordered_continuous(train_temp, 'inq_last_6mths_factor', test_temp)"
   ]
  },
  {
   "cell_type": "code",
   "execution_count": null,
   "id": "c602f846",
   "metadata": {
    "scrolled": true
   },
   "outputs": [],
   "source": [
    "train_temp['inq_last_6mths'].value_counts()"
   ]
  },
  {
   "cell_type": "code",
   "execution_count": null,
   "id": "443aef5d",
   "metadata": {},
   "outputs": [],
   "source": []
  },
  {
   "cell_type": "code",
   "execution_count": null,
   "id": "99ca4138",
   "metadata": {
    "scrolled": true
   },
   "outputs": [],
   "source": [
    "train_temp['open_acc_factor'] = pd.cut(train_temp['open_acc'], 50)\n",
    "woe_ordered_continuous(train_temp, 'open_acc_factor', test_temp)"
   ]
  },
  {
   "cell_type": "code",
   "execution_count": null,
   "id": "a28e64a8",
   "metadata": {},
   "outputs": [],
   "source": []
  },
  {
   "cell_type": "code",
   "execution_count": null,
   "id": "5b5d676d",
   "metadata": {},
   "outputs": [],
   "source": []
  },
  {
   "cell_type": "code",
   "execution_count": null,
   "id": "a5d75cef",
   "metadata": {
    "scrolled": true
   },
   "outputs": [],
   "source": [
    "train_temp['pub_rec_factor'] = pd.cut(train_temp['pub_rec'], 50)\n",
    "woe_ordered_continuous(train_temp, 'pub_rec_factor', test_temp)"
   ]
  },
  {
   "cell_type": "code",
   "execution_count": null,
   "id": "96d05085",
   "metadata": {
    "scrolled": true
   },
   "outputs": [],
   "source": [
    "train_temp['pub_rec'].value_counts()"
   ]
  },
  {
   "cell_type": "code",
   "execution_count": null,
   "id": "a9771a8a",
   "metadata": {},
   "outputs": [],
   "source": []
  },
  {
   "cell_type": "code",
   "execution_count": null,
   "id": "a6d50454",
   "metadata": {},
   "outputs": [],
   "source": []
  },
  {
   "cell_type": "code",
   "execution_count": null,
   "id": "e12b9301",
   "metadata": {
    "scrolled": true
   },
   "outputs": [],
   "source": [
    "train_temp['acc_now_delinq_factor'] = pd.cut(train_temp['acc_now_delinq'], 50)\n",
    "woe_ordered_continuous(train_temp, 'acc_now_delinq_factor', test_temp)"
   ]
  },
  {
   "cell_type": "code",
   "execution_count": null,
   "id": "006cd196",
   "metadata": {},
   "outputs": [],
   "source": [
    "train_temp['acc_now_delinq'].value_counts()"
   ]
  },
  {
   "cell_type": "code",
   "execution_count": null,
   "id": "8d0a7077",
   "metadata": {},
   "outputs": [],
   "source": []
  },
  {
   "cell_type": "code",
   "execution_count": null,
   "id": "08551a77",
   "metadata": {},
   "outputs": [],
   "source": []
  },
  {
   "cell_type": "code",
   "execution_count": null,
   "id": "fc6bdc47",
   "metadata": {},
   "outputs": [],
   "source": []
  },
  {
   "cell_type": "code",
   "execution_count": null,
   "id": "4323f2aa",
   "metadata": {
    "scrolled": true
   },
   "outputs": [],
   "source": [
    "train_temp['annual_inc_factor'] = pd.cut(train_temp['annual_inc'].loc[train_temp.annual_inc < 144000], 50)\n",
    "woe_ordered_continuous(train_temp, 'annual_inc_factor', test_temp)"
   ]
  },
  {
   "cell_type": "code",
   "execution_count": null,
   "id": "75cc5efa",
   "metadata": {},
   "outputs": [],
   "source": [
    "plot_woe(woe_ordered_continuous(train_temp, 'annual_inc_factor', test_temp), 90)"
   ]
  },
  {
   "cell_type": "code",
   "execution_count": null,
   "id": "f7030976",
   "metadata": {},
   "outputs": [],
   "source": []
  },
  {
   "cell_type": "code",
   "execution_count": null,
   "id": "9832b5e0",
   "metadata": {},
   "outputs": [],
   "source": []
  },
  {
   "cell_type": "code",
   "execution_count": null,
   "id": "49d260f8",
   "metadata": {
    "scrolled": true
   },
   "outputs": [],
   "source": [
    "train_temp['mths_since_last_delinq_factor'] = pd.cut(train_temp['mths_since_last_delinq'], 50)\n",
    "woe_ordered_continuous(train_temp, 'mths_since_last_delinq_factor', test_temp)"
   ]
  },
  {
   "cell_type": "code",
   "execution_count": null,
   "id": "e58c915e",
   "metadata": {},
   "outputs": [],
   "source": [
    "plot_woe(woe_ordered_continuous(train_temp, 'mths_since_last_delinq_factor', test_temp), 90)"
   ]
  },
  {
   "cell_type": "code",
   "execution_count": null,
   "id": "8b4b2b26",
   "metadata": {},
   "outputs": [],
   "source": []
  },
  {
   "cell_type": "code",
   "execution_count": null,
   "id": "9ebde281",
   "metadata": {},
   "outputs": [],
   "source": []
  },
  {
   "cell_type": "code",
   "execution_count": null,
   "id": "fee5a0d0",
   "metadata": {},
   "outputs": [],
   "source": []
  },
  {
   "cell_type": "code",
   "execution_count": null,
   "id": "ab17592d",
   "metadata": {},
   "outputs": [],
   "source": []
  },
  {
   "cell_type": "code",
   "execution_count": null,
   "id": "c497395d",
   "metadata": {
    "scrolled": true
   },
   "outputs": [],
   "source": [
    "train_temp['dti_factor'] = pd.cut(train_temp['dti'], 50)\n",
    "woe_ordered_continuous(train_temp, 'dti_factor', test_temp)"
   ]
  },
  {
   "cell_type": "code",
   "execution_count": null,
   "id": "6ed7b224",
   "metadata": {},
   "outputs": [],
   "source": [
    "plot_woe(woe_ordered_continuous(train_temp, 'dti_factor', test_temp), 90)"
   ]
  },
  {
   "cell_type": "code",
   "execution_count": null,
   "id": "bdcf95aa",
   "metadata": {},
   "outputs": [],
   "source": []
  },
  {
   "cell_type": "code",
   "execution_count": null,
   "id": "164546a9",
   "metadata": {},
   "outputs": [],
   "source": []
  },
  {
   "cell_type": "code",
   "execution_count": null,
   "id": "43d63b69",
   "metadata": {},
   "outputs": [],
   "source": []
  },
  {
   "cell_type": "code",
   "execution_count": null,
   "id": "8fdc332f",
   "metadata": {},
   "outputs": [],
   "source": []
  },
  {
   "cell_type": "code",
   "execution_count": null,
   "id": "9607d5f2",
   "metadata": {},
   "outputs": [],
   "source": []
  },
  {
   "cell_type": "code",
   "execution_count": null,
   "id": "673ca5c7",
   "metadata": {
    "scrolled": true
   },
   "outputs": [],
   "source": [
    "train_temp['mths_since_last_record_factor'] = pd.cut(train_temp['mths_since_last_record'], 50)\n",
    "woe_ordered_continuous(train_temp, 'mths_since_last_record_factor', test_temp)"
   ]
  },
  {
   "cell_type": "markdown",
   "id": "281cce27",
   "metadata": {},
   "source": [
    "## Feature Extraction - Numerical Features"
   ]
  },
  {
   "cell_type": "markdown",
   "id": "162558e1",
   "metadata": {},
   "source": [
    "The following are the selected feature with the **IV** score **> 0.02**:\n",
    "1. term_int\n",
    "2. int_rate\n",
    "3. delinq_2yrs_factor\n",
    "4. inq_last_6mths\n",
    "5. open_acc\n",
    "6. pub_rec\n",
    "7. acc_now_delinq\n",
    "8. annual_inc\n",
    "9. mths_since_last_delinq\n",
    "10. dti"
   ]
  },
  {
   "cell_type": "code",
   "execution_count": null,
   "id": "e5715dc7",
   "metadata": {},
   "outputs": [],
   "source": [
    "#term_int\n",
    "X_train_pd['term_int:36'] = np.where(X_train_pd['term_int']==36, 1, 0)\n",
    "X_train_pd['term_int:60'] = np.where(X_train_pd['term_int']==60, 1, 0)\n",
    "\n",
    "X_test_pd['term_int:36'] = np.where(X_test_pd['term_int']==36, 1, 0)\n",
    "X_test_pd['term_int:60'] = np.where(X_test_pd['term_int']==60, 1, 0)"
   ]
  },
  {
   "cell_type": "code",
   "execution_count": null,
   "id": "75204685",
   "metadata": {},
   "outputs": [],
   "source": [
    "#int_rate\n",
    "X_train_pd['int_rate:<=10'] = np.where(X_train_pd['int_rate']<=10, 1, 0)\n",
    "X_train_pd['int_rate:10-15'] = np.where((X_train_pd['int_rate']>10) & (X_train_pd['int_rate']<=15), 1, 0)\n",
    "X_train_pd['int_rate:15-20'] = np.where((X_train_pd['int_rate']>15) & (X_train_pd['int_rate']<=20), 1, 0)\n",
    "X_train_pd['int_rate:>=20'] = np.where(X_train_pd['int_rate']>20, 1, 0)\n",
    "\n",
    "X_test_pd['int_rate:<=10'] = np.where(X_test_pd['int_rate']<=10, 1, 0)\n",
    "X_test_pd['int_rate:10-15'] = np.where((X_test_pd['int_rate']>10) & (X_test_pd['int_rate']<=15), 1, 0)\n",
    "X_test_pd['int_rate:15-20'] = np.where((X_test_pd['int_rate']>15) & (X_test_pd['int_rate']<=20), 1, 0)\n",
    "X_test_pd['int_rate:>=20'] = np.where(X_test_pd['int_rate']>20, 1, 0)\n"
   ]
  },
  {
   "cell_type": "code",
   "execution_count": null,
   "id": "46c58019",
   "metadata": {},
   "outputs": [],
   "source": [
    "#delinq_2yrs\n",
    "X_train_pd['delinq_2yrs:<=1'] = np.where(X_train_pd['delinq_2yrs']<=1, 1, 0)\n",
    "X_train_pd['delinq_2yrs:>1'] = np.where(X_train_pd['delinq_2yrs']>1, 1, 0)\n",
    "\n",
    "X_test_pd['delinq_2yrs:<=1'] = np.where(X_test_pd['delinq_2yrs']<=1, 1, 0)\n",
    "X_test_pd['delinq_2yrs:>1'] = np.where(X_test_pd['delinq_2yrs']>1, 1, 0)"
   ]
  },
  {
   "cell_type": "code",
   "execution_count": null,
   "id": "664932a5",
   "metadata": {},
   "outputs": [],
   "source": [
    "X_train_pd[['delinq_2yrs', 'delinq_2yrs:<=1', 'delinq_2yrs:>1']].sample(10)"
   ]
  },
  {
   "cell_type": "code",
   "execution_count": null,
   "id": "fae7c252",
   "metadata": {},
   "outputs": [],
   "source": [
    "#inq_last_6mths\n",
    "X_train_pd['inq_last_6mths:<=1'] = np.where(X_train_pd['inq_last_6mths']<=1, 1, 0)\n",
    "X_train_pd['inq_last_6mths:>1'] = np.where(X_train_pd['inq_last_6mths']>1, 1, 0)\n",
    "\n",
    "X_test_pd['inq_last_6mths:<=1'] = np.where(X_test_pd['inq_last_6mths']<=1, 1, 0)\n",
    "X_test_pd['inq_last_6mths:>1'] = np.where(X_test_pd['inq_last_6mths']>1, 1, 0)"
   ]
  },
  {
   "cell_type": "code",
   "execution_count": null,
   "id": "a3a50934",
   "metadata": {},
   "outputs": [],
   "source": [
    "#open_acc\n",
    "X_train_pd['open_acc:<=8'] = np.where(X_train_pd['open_acc']<=8, 1, 0)\n",
    "X_train_pd['open_acc:8-14'] = np.where((X_train_pd['open_acc']>8) & (X_train_pd['open_acc']<=14), 1, 0)\n",
    "X_train_pd['open_acc:>14'] = np.where(X_train_pd['open_acc']>14, 1, 0)\n",
    "\n",
    "X_test_pd['open_acc:<=8'] = np.where(X_test_pd['open_acc']<=8, 1, 0)\n",
    "X_test_pd['open_acc:8-14'] = np.where((X_test_pd['open_acc']>8) & (X_test_pd['open_acc']<=14), 1, 0)\n",
    "X_test_pd['open_acc:>14'] = np.where(X_test_pd['open_acc']>14, 1, 0)"
   ]
  },
  {
   "cell_type": "code",
   "execution_count": null,
   "id": "7196e7bd",
   "metadata": {},
   "outputs": [],
   "source": [
    "#pub_rec\n",
    "X_train_pd['pub_rec:<=1'] = np.where(X_train_pd['pub_rec']<=1, 1, 0)\n",
    "X_train_pd['pub_rec:>1'] = np.where(X_train_pd['pub_rec']>1, 1, 0)\n",
    "\n",
    "X_test_pd['pub_rec:<=1'] = np.where(X_test_pd['pub_rec']<=1, 1, 0)\n",
    "X_test_pd['pub_rec:>1'] = np.where(X_test_pd['pub_rec']>1, 1, 0)"
   ]
  },
  {
   "cell_type": "code",
   "execution_count": null,
   "id": "f2977787",
   "metadata": {},
   "outputs": [],
   "source": [
    "#annual_inc\n",
    "X_train_pd['annual_inc:<20k'] = np.where(X_train_pd['annual_inc'] < 20000, 1, 0)\n",
    "X_train_pd['annual_inc:20k-30k'] = np.where(\n",
    "    ((X_train_pd['annual_inc']>=20000) & (X_train_pd['annual_inc']<30000)), 1, 0\n",
    ")\n",
    "\n",
    "X_train_pd['annual_inc:30k-40k'] = np.where(\n",
    "     ((X_train_pd['annual_inc']>=30000) & (X_train_pd['annual_inc']<40000)), 1, 0\n",
    ")\n",
    "\n",
    "X_train_pd['annual_inc:40k-50k'] = np.where(\n",
    "     ((X_train_pd['annual_inc']>=40000) & (X_train_pd['annual_inc']<50000)), 1, 0\n",
    ")\n",
    "\n",
    "X_train_pd['annual_inc:50k-60k'] = np.where(\n",
    "    ((X_train_pd['annual_inc']>=50000) & (X_train_pd['annual_inc']<60000)), 1, 0\n",
    ")\n",
    "\n",
    "X_train_pd['annual_inc:60k-70k'] = np.where(\n",
    "     ((X_train_pd['annual_inc']>=60000) & (X_train_pd['annual_inc']<70000)), 1, 0\n",
    ")\n",
    "\n",
    "X_train_pd['annual_inc:70k-80k'] = np.where(\n",
    "    ((X_train_pd['annual_inc']>=70000) & (X_train_pd['annual_inc']<80000)), 1, 0\n",
    ")\n",
    "\n",
    "X_train_pd['annual_inc:80k-90k'] = np.where(\n",
    "     ((X_train_pd['annual_inc']>=80000) & (X_train_pd['annual_inc']<90000)), 1, 0\n",
    ")\n",
    "\n",
    "X_train_pd['annual_inc:90k-100k'] = np.where(\n",
    "     ((X_train_pd['annual_inc']>=90000) & (X_train_pd['annual_inc']<100000)), 1, 0\n",
    ")\n",
    "\n",
    "X_train_pd['annual_inc:100k-120k'] = np.where(\n",
    "     ((X_train_pd['annual_inc']>=100000) & (X_train_pd['annual_inc']<120000)), 1, 0\n",
    ")\n",
    "\n",
    "X_train_pd['annual_inc:120k-140k'] = np.where(\n",
    "     ((X_train_pd['annual_inc']>=120000) & (X_train_pd['annual_inc']<140000)), 1, 0\n",
    ")\n",
    "\n",
    "X_train_pd['annual_inc:>140k'] = np.where(X_train_pd['annual_inc'] >= 140000, 1, 0)"
   ]
  },
  {
   "cell_type": "code",
   "execution_count": null,
   "id": "d4c5788b",
   "metadata": {},
   "outputs": [],
   "source": [
    "#annual_inc\n",
    "X_test_pd['annual_inc:<20k'] = np.where(X_test_pd['annual_inc'] < 20000, 1, 0)\n",
    "X_test_pd['annual_inc:20k-30k'] = np.where(\n",
    "    ((X_test_pd['annual_inc']>=20000) & (X_test_pd['annual_inc']<30000)), 1, 0\n",
    ")\n",
    "\n",
    "X_test_pd['annual_inc:30k-40k'] = np.where(\n",
    "     ((X_test_pd['annual_inc']>=30000) & (X_test_pd['annual_inc']<40000)), 1, 0\n",
    ")\n",
    "\n",
    "X_test_pd['annual_inc:40k-50k'] = np.where(\n",
    "     ((X_test_pd['annual_inc']>=40000) & (X_test_pd['annual_inc']<50000)), 1, 0\n",
    ")\n",
    "\n",
    "X_test_pd['annual_inc:50k-60k'] = np.where(\n",
    "    ((X_test_pd['annual_inc']>=50000) & (X_test_pd['annual_inc']<60000)), 1, 0\n",
    ")\n",
    "\n",
    "X_test_pd['annual_inc:60k-70k'] = np.where(\n",
    "     ((X_test_pd['annual_inc']>=60000) & (X_test_pd['annual_inc']<70000)), 1, 0\n",
    ")\n",
    "\n",
    "X_test_pd['annual_inc:70k-80k'] = np.where(\n",
    "    ((X_test_pd['annual_inc']>=70000) & (X_test_pd['annual_inc']<80000)), 1, 0\n",
    ")\n",
    "\n",
    "X_test_pd['annual_inc:80k-90k'] = np.where(\n",
    "     ((X_test_pd['annual_inc']>=80000) & (X_test_pd['annual_inc']<90000)), 1, 0\n",
    ")\n",
    "\n",
    "X_test_pd['annual_inc:90k-100k'] = np.where(\n",
    "     ((X_test_pd['annual_inc']>=90000) & (X_test_pd['annual_inc']<100000)), 1, 0\n",
    ")\n",
    "\n",
    "X_test_pd['annual_inc:100k-120k'] = np.where(\n",
    "     ((X_test_pd['annual_inc']>=100000) & (X_test_pd['annual_inc']<120000)), 1, 0\n",
    ")\n",
    "\n",
    "X_test_pd['annual_inc:120k-140k'] = np.where(\n",
    "     ((X_test_pd['annual_inc']>=120000) & (X_test_pd['annual_inc']<140000)), 1, 0\n",
    ")\n",
    "\n",
    "X_test_pd['annual_inc:>140k'] = np.where(X_test_pd['annual_inc'] >= 140000, 1, 0)"
   ]
  },
  {
   "cell_type": "code",
   "execution_count": null,
   "id": "5d3c2d31",
   "metadata": {},
   "outputs": [],
   "source": [
    "#mths_since_last_delinq\n",
    "X_train_pd['mths_since_last_delinq:<=4'] = np.where(X_train_pd['mths_since_last_delinq']<=4, 1, 0)\n",
    "X_train_pd['mths_since_last_delinq:4-30'] = np.where((X_train_pd['mths_since_last_delinq']>4) & (X_train_pd['mths_since_last_delinq']<=30), 1, 0)\n",
    "X_train_pd['mths_since_last_delinq:>30'] = np.where(X_train_pd['mths_since_last_delinq']>30, 1, 0)\n",
    "\n",
    "X_test_pd['mths_since_last_delinq:<=4'] = np.where(X_test_pd['mths_since_last_delinq']<=4, 1, 0)\n",
    "X_test_pd['mths_since_last_delinq:4-30'] = np.where((X_test_pd['mths_since_last_delinq']>4) & (X_test_pd['mths_since_last_delinq']<=30), 1, 0)\n",
    "X_test_pd['mths_since_last_delinq:>30'] = np.where(X_test_pd['mths_since_last_delinq']>30, 1, 0)"
   ]
  },
  {
   "cell_type": "code",
   "execution_count": null,
   "id": "de4abf23",
   "metadata": {},
   "outputs": [],
   "source": [
    "#dti\n",
    "X_train_pd['dti:<=10'] = np.where(X_train_pd['dti']<=10, 1, 0)\n",
    "X_train_pd['dti:10-15'] = np.where((X_train_pd['dti']>10) & (X_train_pd['dti']<=15), 1, 0)\n",
    "X_train_pd['dti:15-20'] = np.where((X_train_pd['dti']>15) & (X_train_pd['dti']<=20), 1, 0)\n",
    "X_train_pd['dti:20-25'] = np.where((X_train_pd['dti']>20) & (X_train_pd['dti']<=25), 1, 0)\n",
    "X_train_pd['dti:>25'] = np.where(X_train_pd['dti']>25, 1, 0)\n",
    "\n",
    "X_test_pd['dti:<=10'] = np.where(X_test_pd['dti']<=10, 1, 0)\n",
    "X_test_pd['dti:10-15'] = np.where((X_test_pd['dti']>10) & (X_test_pd['dti']<=15), 1, 0)\n",
    "X_test_pd['dti:15-20'] = np.where((X_test_pd['dti']>15) & (X_test_pd['dti']<=20), 1, 0)\n",
    "X_test_pd['dti:20-25'] = np.where((X_test_pd['dti']>20) & (X_test_pd['dti']<=25), 1, 0)\n",
    "X_test_pd['dti:>25'] = np.where(X_test_pd['dti']>25, 1, 0)"
   ]
  },
  {
   "cell_type": "code",
   "execution_count": null,
   "id": "6709a050",
   "metadata": {},
   "outputs": [],
   "source": [
    "selected_features= [\n",
    "    'grade:A','grade:B','grade:C','grade:D','grade:E','grade:F','grade:G',\n",
    "    'home_ownership:RENT_OTHER_NONE_ANY', 'home_ownership:MORTGAGE', 'home_ownership:OWN',\n",
    "    'ver_status:Not Verified', 'ver_status:Source Verified', 'ver_status:Verified',\n",
    "    'purpose:small_business_educational_moving', 'purpose:renewable_energy_other_house', 'purpose:medical_wedding_vacation', 'purpose:debt_consolidation', 'purpose:home_improvement_major_purchase_car', 'purpose:credit_card',\n",
    "    'adrr_state:NE_IA_NV_FL_AL_NM_HI_MO', 'adrr_state:CA', 'adrr_state:KY_VA', 'adrr_state:NY', 'adrr_state:NC_UT', 'adrr_state:MD_NJ_LA_OK_MI_TN', 'adrr_state:MN_AZ_DE_PA_AR_OH', 'adrr_state:WA_MA_IN_GA_RI_OR', 'adrr_state:WI_SD_CT', 'adrr_state:TX', 'adrr_state:KS_IL_MT', 'adrr_state:CO_SC_VT_AK', 'adrr_state:MS_NH_WY_WV_DC_ME_ID',\n",
    "    'list_status:f', 'list_status:w',\n",
    "    \n",
    "    'term_int:36', 'term_int:60',\n",
    "    'int_rate:<=10', 'int_rate:10-15', 'int_rate:15-20', 'int_rate:>=20',\n",
    "    'delinq_2yrs:<=1', 'delinq_2yrs:>1',\n",
    "    'inq_last_6mths:<=1', 'inq_last_6mths:>1',\n",
    "    'open_acc:<=8', 'open_acc:8-14', 'open_acc:>14',\n",
    "    'pub_rec:<=1', 'pub_rec:>1',\n",
    "    'annual_inc:<20k', 'annual_inc:20k-30k', 'annual_inc:30k-40k', 'annual_inc:40k-50k', 'annual_inc:50k-60k', 'annual_inc:60k-70k', 'annual_inc:70k-80k', 'annual_inc:80k-90k', 'annual_inc:90k-100k', 'annual_inc:100k-120k', 'annual_inc:120k-140k', 'annual_inc:>140k',\n",
    "    'mths_since_last_delinq:<=4', 'mths_since_last_delinq:4-30', 'mths_since_last_delinq:>30',\n",
    "    'dti:<=10', 'dti:10-15', 'dti:15-20','dti:20-25', 'dti:>25'\n",
    "]"
   ]
  },
  {
   "cell_type": "code",
   "execution_count": null,
   "id": "8911407c",
   "metadata": {},
   "outputs": [],
   "source": [
    "selected_dummy_train = X_train_pd[selected_features]\n",
    "selected_dummy_test = X_test_pd[selected_features]"
   ]
  },
  {
   "cell_type": "code",
   "execution_count": null,
   "id": "87b190d3",
   "metadata": {},
   "outputs": [],
   "source": [
    "selected_dummy_train.head(2)"
   ]
  },
  {
   "cell_type": "code",
   "execution_count": null,
   "id": "0c607bfa",
   "metadata": {},
   "outputs": [],
   "source": []
  },
  {
   "cell_type": "code",
   "execution_count": null,
   "id": "d63f08dc",
   "metadata": {},
   "outputs": [],
   "source": []
  },
  {
   "cell_type": "code",
   "execution_count": null,
   "id": "4b7ee2eb",
   "metadata": {},
   "outputs": [],
   "source": []
  },
  {
   "cell_type": "markdown",
   "id": "520ee77c",
   "metadata": {},
   "source": [
    "# PD Model Fitting"
   ]
  },
  {
   "cell_type": "markdown",
   "id": "ea34ab3f",
   "metadata": {},
   "source": [
    "## Modify Logistic Regression Model (with P-Value)"
   ]
  },
  {
   "cell_type": "code",
   "execution_count": null,
   "id": "5af3c342",
   "metadata": {},
   "outputs": [],
   "source": [
    "from sklearn import linear_model\n",
    "import scipy.stats as stat\n",
    "\n",
    "class LogisticRegression_with_p_values:\n",
    "    \n",
    "    def __init__(self,*args,**kwargs):\n",
    "        self.model = linear_model.LogisticRegression(*args,**kwargs)\n",
    "\n",
    "    #In order to fit function run properly, make sure there is no Zero-Sum value in our dataset.\n",
    "    def fit(self,X,y):\n",
    "        self.model.fit(X,y)\n",
    "        denom = (2.0 * (1.0 + np.cosh(self.model.decision_function(X))))\n",
    "        denom = np.tile(denom,(X.shape[1],1)).T\n",
    "        F_ij = np.dot((X / denom).T,X)\n",
    "        Cramer_Rao = np.linalg.inv(F_ij)\n",
    "        sigma_estimates = np.sqrt(np.diagonal(Cramer_Rao))\n",
    "        z_scores = self.model.coef_[0] / sigma_estimates\n",
    "        p_values = [stat.norm.sf(abs(x)) * 2 for x in z_scores]\n",
    "        self.coef_ = self.model.coef_\n",
    "        self.intercept_ = self.model.intercept_\n",
    "        self.p_values = p_values"
   ]
  },
  {
   "cell_type": "code",
   "execution_count": null,
   "id": "0e88505b",
   "metadata": {},
   "outputs": [],
   "source": [
    "reg = LogisticRegression_with_p_values()\n",
    "reg.fit(selected_dummy_train, y_train_pd)"
   ]
  },
  {
   "cell_type": "code",
   "execution_count": null,
   "id": "62a89f25",
   "metadata": {
    "scrolled": true
   },
   "outputs": [],
   "source": [
    "pd.options.display.max_rows = None\n",
    "pd.options.display.float_format = \"{:,.5f}\".format\n",
    "\n",
    "feature_name = selected_dummy_train.columns.values\n",
    "\n",
    "summary_table = pd.DataFrame(columns=['Feature Name'], data=feature_name)\n",
    "summary_table['Coefficients'] = np.transpose(reg.coef_)\n",
    "\n",
    "#Let's insert the intercept score at the first row\n",
    "summary_table.index = summary_table.index+1\n",
    "summary_table.loc[0] = ['Intercept', reg.intercept_[0]]\n",
    "\n",
    "#Sorting the summary table by the index\n",
    "summary_table = summary_table.sort_index()\n",
    "p_values = reg.p_values\n",
    "\n",
    "#Since we only have the p_value for our independent variable, therefore we can just add NaN value at the intercept rows \n",
    "p_values = np.append(np.nan, np.array(p_values))\n",
    "\n",
    "summary_table['p_values'] = p_values\n",
    "summary_table['significant'] = np.where(summary_table['p_values'] < 0.05, 'True', 'False')\n",
    "\n",
    "# summary_table['decimal_p_values'] = summary_table['p_values'].astype(float)\n",
    "summary_table"
   ]
  },
  {
   "cell_type": "code",
   "execution_count": null,
   "id": "81ab94dc",
   "metadata": {},
   "outputs": [],
   "source": [
    "selected_features = [\n",
    "    'purpose:small_business_educational_moving', 'purpose:renewable_energy_other_house', 'purpose:medical_wedding_vacation', 'purpose:debt_consolidation', 'purpose:home_improvement_major_purchase_car', 'purpose:credit_card',\n",
    "    'int_rate:<=10', 'int_rate:10-15', 'int_rate:15-20', 'int_rate:>=20',\n",
    "    'inq_last_6mths:<=1', 'inq_last_6mths:>1',\n",
    "    'pub_rec:<=1', 'pub_rec:>1',\n",
    "    'annual_inc:<20k', 'annual_inc:20k-30k', 'annual_inc:30k-40k', 'annual_inc:40k-50k', 'annual_inc:50k-60k', 'annual_inc:60k-70k', 'annual_inc:70k-80k', 'annual_inc:80k-90k', 'annual_inc:90k-100k', 'annual_inc:100k-120k', 'annual_inc:120k-140k', 'annual_inc:>140k',\n",
    "]"
   ]
  },
  {
   "cell_type": "code",
   "execution_count": null,
   "id": "cb92a662",
   "metadata": {},
   "outputs": [],
   "source": [
    "selected_dummy_train = X_train_pd[selected_features]\n",
    "selected_dummy_test = X_test_pd[selected_features]"
   ]
  },
  {
   "cell_type": "code",
   "execution_count": null,
   "id": "b1c15522",
   "metadata": {},
   "outputs": [],
   "source": [
    "reg = LogisticRegression_with_p_values()\n",
    "reg.fit(selected_dummy_train, y_train_pd)"
   ]
  },
  {
   "cell_type": "code",
   "execution_count": null,
   "id": "f731d440",
   "metadata": {
    "scrolled": true
   },
   "outputs": [],
   "source": [
    "pd.options.display.max_rows = None\n",
    "pd.options.display.float_format = \"{:,.5f}\".format\n",
    "\n",
    "feature_name = selected_dummy_train.columns.values\n",
    "\n",
    "summary_table = pd.DataFrame(columns=['Feature Name'], data=feature_name)\n",
    "summary_table['Coefficients'] = np.transpose(reg.coef_)\n",
    "\n",
    "#Let's insert the intercept score at the first row\n",
    "summary_table.index = summary_table.index+1\n",
    "summary_table.loc[0] = ['Intercept', reg.intercept_[0]]\n",
    "\n",
    "#Sorting the summary table by the index\n",
    "summary_table = summary_table.sort_index()\n",
    "p_values = reg.p_values\n",
    "\n",
    "#Since we only have the p_value for our independent variable, therefore we can just add NaN value at the intercept rows \n",
    "p_values = np.append(np.nan, np.array(p_values))\n",
    "\n",
    "summary_table['p_values'] = p_values\n",
    "summary_table['significant'] = np.where(summary_table['p_values'] < 0.05, 'True', 'False')\n",
    "\n",
    "# summary_table['decimal_p_values'] = summary_table['p_values'].astype(float)\n",
    "summary_table"
   ]
  },
  {
   "cell_type": "code",
   "execution_count": null,
   "id": "62fba115",
   "metadata": {},
   "outputs": [],
   "source": [
    "y_hat_test = reg.model.predict(selected_dummy_test)\n",
    "y_hat_test"
   ]
  },
  {
   "cell_type": "code",
   "execution_count": null,
   "id": "183c1d5e",
   "metadata": {},
   "outputs": [],
   "source": [
    "y_hat_test_proba = reg.model.predict_proba(selected_dummy_test)\n",
    "y_hat_test_proba"
   ]
  },
  {
   "cell_type": "code",
   "execution_count": null,
   "id": "46c28205",
   "metadata": {},
   "outputs": [],
   "source": [
    "#let just store the prob_good_borrower value into the y_hat_test_proba variable\n",
    "y_hat_test_proba = y_hat_test_proba[:][:,1]"
   ]
  },
  {
   "cell_type": "code",
   "execution_count": null,
   "id": "e91fad6b",
   "metadata": {},
   "outputs": [],
   "source": [
    "data_test_temp = y_test_pd"
   ]
  },
  {
   "cell_type": "code",
   "execution_count": null,
   "id": "643df0e0",
   "metadata": {},
   "outputs": [],
   "source": [
    "data_test_temp.shape"
   ]
  },
  {
   "cell_type": "code",
   "execution_count": null,
   "id": "96f2d283",
   "metadata": {},
   "outputs": [],
   "source": [
    "y_hat_test_proba.shape"
   ]
  },
  {
   "cell_type": "code",
   "execution_count": null,
   "id": "1465ec21",
   "metadata": {},
   "outputs": [],
   "source": [
    "pd.DataFrame(data_test_temp).head()"
   ]
  },
  {
   "cell_type": "code",
   "execution_count": null,
   "id": "aa68f4b7",
   "metadata": {},
   "outputs": [],
   "source": [
    "pd.DataFrame(y_hat_test_proba).head()"
   ]
  },
  {
   "cell_type": "code",
   "execution_count": null,
   "id": "aa44d296",
   "metadata": {},
   "outputs": [],
   "source": [
    "data_test_temp.reset_index(drop=True, inplace=True)\n",
    "\n",
    "frame = [data_test_temp, pd.DataFrame(y_hat_test_proba)]\n",
    "data_actual_predicted_proba = pd.concat(frame, axis=1)\n",
    "\n",
    "data_actual_predicted_proba.columns=['data_target_test','y_hat_test_proba']\n",
    "data_actual_predicted_proba.index = X_test_pd.index"
   ]
  },
  {
   "cell_type": "code",
   "execution_count": null,
   "id": "9f921e8b",
   "metadata": {},
   "outputs": [],
   "source": [
    "data_actual_predicted_proba.head()"
   ]
  },
  {
   "cell_type": "code",
   "execution_count": null,
   "id": "89b87430",
   "metadata": {},
   "outputs": [],
   "source": []
  },
  {
   "cell_type": "code",
   "execution_count": null,
   "id": "bc5d960c",
   "metadata": {},
   "outputs": [],
   "source": []
  },
  {
   "cell_type": "code",
   "execution_count": null,
   "id": "30b7b368",
   "metadata": {},
   "outputs": [],
   "source": []
  },
  {
   "cell_type": "markdown",
   "id": "ba91623a",
   "metadata": {},
   "source": [
    "# Model Evaluation"
   ]
  },
  {
   "cell_type": "markdown",
   "id": "ddb169e6",
   "metadata": {},
   "source": [
    "## AUCROC Curve"
   ]
  },
  {
   "cell_type": "code",
   "execution_count": null,
   "id": "7e2ca3e0",
   "metadata": {},
   "outputs": [],
   "source": [
    "tr = 0.8\n",
    "data_actual_predicted_proba['y_hat_test'] = np.where(data_actual_predicted_proba['y_hat_test_proba']> tr, 1, 0)"
   ]
  },
  {
   "cell_type": "code",
   "execution_count": null,
   "id": "387fddff",
   "metadata": {},
   "outputs": [],
   "source": [
    "conf_metrics = pd.crosstab(data_actual_predicted_proba['data_target_test'], data_actual_predicted_proba['y_hat_test'],\n",
    "           rownames=['Actual'], colnames=['Predicted'])\n",
    "\n",
    "conf_metrics"
   ]
  },
  {
   "cell_type": "code",
   "execution_count": null,
   "id": "1c1c77f9",
   "metadata": {},
   "outputs": [],
   "source": [
    "from sklearn.metrics import roc_auc_score, roc_curve\n",
    "fpr, tpr, threshold = roc_curve(data_actual_predicted_proba['data_target_test'], data_actual_predicted_proba['y_hat_test_proba'])\n",
    "\n",
    "sns.set()\n",
    "plt.plot(fpr,tpr)\n",
    "plt.plot(fpr, fpr, linestyle='--', color='k')\n",
    "plt.xlabel('False positive rate')\n",
    "plt.ylabel('True positive rate')\n",
    "plt.title('ROC Curve')"
   ]
  },
  {
   "cell_type": "code",
   "execution_count": null,
   "id": "a8826fc2",
   "metadata": {},
   "outputs": [],
   "source": [
    "auc_roc = roc_auc_score(data_actual_predicted_proba['data_target_test'], data_actual_predicted_proba['y_hat_test_proba'])\n",
    "auc_roc"
   ]
  },
  {
   "cell_type": "markdown",
   "id": "bfea5718",
   "metadata": {},
   "source": [
    "A binary classifier is **useful only** when it achieves ROC-AUC score **greater than 0.5 and as near to 1 as possible**. If a classifier yields a score **less than 0.5**, it simply means that the **model is performing worse** than a random classifier, and hence, is of no use."
   ]
  },
  {
   "cell_type": "code",
   "execution_count": null,
   "id": "498aefe7",
   "metadata": {},
   "outputs": [],
   "source": []
  },
  {
   "cell_type": "markdown",
   "id": "01b5b0fe",
   "metadata": {},
   "source": [
    "## Gini"
   ]
  },
  {
   "cell_type": "code",
   "execution_count": null,
   "id": "c19ccf05",
   "metadata": {},
   "outputs": [],
   "source": [
    "data_actual_predicted_proba.sample(10)"
   ]
  },
  {
   "cell_type": "code",
   "execution_count": null,
   "id": "3f795ce3",
   "metadata": {},
   "outputs": [],
   "source": [
    "#In order plotting the Gini plot, we need to order the dataframe that contains the target and the probabilities\n",
    "#estimated in ascending order.\n",
    "\n",
    "data_actual_predicted_proba = data_actual_predicted_proba.sort_values('y_hat_test_proba').reset_index()"
   ]
  },
  {
   "cell_type": "code",
   "execution_count": null,
   "id": "50a6f8ee",
   "metadata": {},
   "outputs": [],
   "source": [
    "# What we need?\n",
    "# 1. the cummulative % of total population\n",
    "# 2. the cummulative % of good borrowers\n",
    "# 3. the cummulative % of bad borrowers\n",
    "\n",
    "data_actual_predicted_proba['Cummulative N Population'] = data_actual_predicted_proba.index+1\n",
    "data_actual_predicted_proba['Cummulative N Good'] = data_actual_predicted_proba['data_target_test'].cumsum()\n",
    "data_actual_predicted_proba['Cummulative N Bad'] = data_actual_predicted_proba['Cummulative N Population'] - data_actual_predicted_proba['data_target_test'].cumsum()"
   ]
  },
  {
   "cell_type": "code",
   "execution_count": null,
   "id": "6cf44af8",
   "metadata": {},
   "outputs": [],
   "source": [
    "data_actual_predicted_proba['Cummulative % Population'] = data_actual_predicted_proba['Cummulative N Population'] / (data_actual_predicted_proba.shape[0])\n",
    "data_actual_predicted_proba['Cummulative % Good'] = data_actual_predicted_proba['Cummulative N Good'] / data_actual_predicted_proba['data_target_test'].sum()\n",
    "data_actual_predicted_proba['Cummulative % Bad'] = data_actual_predicted_proba['Cummulative N Bad'] / (data_actual_predicted_proba.shape[0] - data_actual_predicted_proba['data_target_test'].sum())"
   ]
  },
  {
   "cell_type": "code",
   "execution_count": null,
   "id": "aa76104b",
   "metadata": {},
   "outputs": [],
   "source": [
    "data_actual_predicted_proba.sample(10)"
   ]
  },
  {
   "cell_type": "code",
   "execution_count": null,
   "id": "fea2afd1",
   "metadata": {},
   "outputs": [],
   "source": [
    "plt.plot(data_actual_predicted_proba['Cummulative % Population'], data_actual_predicted_proba['Cummulative % Bad'])\n",
    "plt.plot(data_actual_predicted_proba['Cummulative % Population'], data_actual_predicted_proba['Cummulative % Population'], linestyle='--', color='k')\n",
    "plt.xlabel('Cummulative % Population')\n",
    "plt.ylabel('Cummulative % Defaulted')\n",
    "plt.title('Gini')"
   ]
  },
  {
   "cell_type": "code",
   "execution_count": null,
   "id": "abf18a5c",
   "metadata": {},
   "outputs": [],
   "source": [
    "gini = auc_roc*2-1\n",
    "gini"
   ]
  },
  {
   "cell_type": "markdown",
   "id": "d4a303ae",
   "metadata": {},
   "source": [
    "## Kolmogorov-Smirnov"
   ]
  },
  {
   "cell_type": "code",
   "execution_count": null,
   "id": "606e5f7e",
   "metadata": {},
   "outputs": [],
   "source": [
    "plt.plot(data_actual_predicted_proba['y_hat_test_proba'], data_actual_predicted_proba['Cummulative % Bad'], color='r')\n",
    "plt.plot(data_actual_predicted_proba['y_hat_test_proba'], data_actual_predicted_proba['Cummulative % Good'], color='g')\n",
    "\n",
    "plt.xlabel('Estimated Probability for being Good')\n",
    "plt.ylabel('Cummulative %')\n",
    "plt.title('Kolmogorov-Smirnov')"
   ]
  },
  {
   "cell_type": "code",
   "execution_count": null,
   "id": "f3e1f6dd",
   "metadata": {},
   "outputs": [],
   "source": [
    "KS = max(data_actual_predicted_proba['Cummulative % Bad'] - data_actual_predicted_proba['Cummulative % Good'])\n",
    "KS"
   ]
  },
  {
   "cell_type": "markdown",
   "id": "b3ee9a52",
   "metadata": {},
   "source": [
    "# Creating Scorecard"
   ]
  },
  {
   "cell_type": "code",
   "execution_count": null,
   "id": "5f140008",
   "metadata": {
    "scrolled": true
   },
   "outputs": [],
   "source": [
    "scorecard = summary_table\n",
    "scorecard['Original Feature Name'] = scorecard['Feature Name'].str.split(':').str[0]\n",
    "\n",
    "scorecard"
   ]
  },
  {
   "cell_type": "code",
   "execution_count": null,
   "id": "1bed4925",
   "metadata": {},
   "outputs": [],
   "source": [
    "#Create a scorecard\n",
    "min_score=300\n",
    "max_score=850\n",
    "\n",
    "#The minimum credit assessment is reached when a borrower falls into the 'worst' categories for all variables\n",
    "#The maximum credit assessment is reached when a borrower falls into the 'best' categories for all variables\n",
    "min_sum_coef = scorecard.groupby('Original Feature Name')['Coefficients'].min().sum()\n",
    "max_sum_coef = scorecard.groupby('Original Feature Name')['Coefficients'].max().sum()\n",
    "\n",
    "print(min_sum_coef)\n",
    "print(max_sum_coef)"
   ]
  },
  {
   "cell_type": "code",
   "execution_count": null,
   "id": "e8fe8de2",
   "metadata": {
    "scrolled": true
   },
   "outputs": [],
   "source": [
    "#var_score = var_coef*( (max_score - min_score) / (max_sum_coef - min_sum_coef) )\n",
    "\n",
    "scorecard['Score'] = scorecard['Coefficients']*(max_score-min_score)/(max_sum_coef-min_sum_coef)\n",
    "scorecard['Score'][0] = ((scorecard['Coefficients'][0]-min_sum_coef)/(max_sum_coef-min_sum_coef))*(max_score - min_score) + min_score"
   ]
  },
  {
   "cell_type": "code",
   "execution_count": null,
   "id": "b84d9e41",
   "metadata": {
    "scrolled": true
   },
   "outputs": [],
   "source": [
    "scorecard['Score Preliminary'] = scorecard['Score'].round()\n",
    "scorecard"
   ]
  },
  {
   "cell_type": "code",
   "execution_count": null,
   "id": "10321c94",
   "metadata": {},
   "outputs": [],
   "source": [
    "min_sum_score_prelim = scorecard.groupby('Original Feature Name')['Score Preliminary'].min().sum()\n",
    "max_sum_score_prelim = scorecard.groupby('Original Feature Name')['Score Preliminary'].max().sum()\n",
    "\n",
    "print(min_sum_score_prelim)\n",
    "print(max_sum_score_prelim)"
   ]
  },
  {
   "cell_type": "code",
   "execution_count": null,
   "id": "42a740d8",
   "metadata": {
    "scrolled": true
   },
   "outputs": [],
   "source": [
    "#if max score is 1 point above the desired max score, it is due to the rounding of the score\n",
    "#to fix this, we can just substract the max_score with 1. It is the best practice to substract from the positive variable that was rounded the most\n",
    "\n",
    "scorecard['Difference'] = scorecard['Score Preliminary'] - scorecard['Score']\n",
    "scorecard.sort_values('Difference', ascending=False)"
   ]
  },
  {
   "cell_type": "code",
   "execution_count": null,
   "id": "3788b308",
   "metadata": {
    "scrolled": true
   },
   "outputs": [],
   "source": [
    "#Begin the substraction process\n",
    "scorecard['Score Final'] = scorecard['Score Preliminary']\n",
    "scorecard['Score Final'][24] = 49\n",
    "\n",
    "min_sum_score_final = scorecard.groupby('Original Feature Name')['Score Final'].min().sum()\n",
    "max_sum_score_final = scorecard.groupby('Original Feature Name')['Score Final'].max().sum()\n",
    "\n",
    "print(min_sum_score_final)\n",
    "print(max_sum_score_final)"
   ]
  },
  {
   "cell_type": "markdown",
   "id": "f119026d",
   "metadata": {},
   "source": [
    "# Calculating Credit Score"
   ]
  },
  {
   "cell_type": "code",
   "execution_count": null,
   "id": "3764c37c",
   "metadata": {},
   "outputs": [],
   "source": [
    "selected_dummy_test_intercept = selected_dummy_test\n",
    "selected_dummy_test_intercept.insert(0, 'Intercept', 1)\n",
    "\n",
    "#make sure to set the order of the X_test as the same as the Feature Name in our scorecard\n",
    "selected_dummy_test_intercept = selected_dummy_test_intercept[scorecard['Feature Name'].values]\n",
    "selected_dummy_test_intercept.head()"
   ]
  },
  {
   "cell_type": "code",
   "execution_count": null,
   "id": "ee715f31",
   "metadata": {},
   "outputs": [],
   "source": [
    "scorecard_score = scorecard['Score Final']"
   ]
  },
  {
   "cell_type": "code",
   "execution_count": null,
   "id": "142da396",
   "metadata": {},
   "outputs": [],
   "source": [
    "selected_dummy_test_intercept.shape"
   ]
  },
  {
   "cell_type": "code",
   "execution_count": null,
   "id": "64a64da2",
   "metadata": {},
   "outputs": [],
   "source": [
    "scorecard_score.shape"
   ]
  },
  {
   "cell_type": "code",
   "execution_count": null,
   "id": "ec46437f",
   "metadata": {},
   "outputs": [],
   "source": [
    "#the dimenssion between X_test_with_ref_and_intercept and scorecard_scores need to be the same (The X_Test dimenssion is 2, so we need to reshape the dimenssion of the scorecard_scores to be the same)\n",
    "scorecard_score = scorecard_score.values.reshape(27,1)"
   ]
  },
  {
   "cell_type": "code",
   "execution_count": null,
   "id": "bdb7f288",
   "metadata": {},
   "outputs": [],
   "source": [
    "y_scores = selected_dummy_test_intercept.dot(scorecard_score)\n",
    "y_scores.head()"
   ]
  },
  {
   "cell_type": "markdown",
   "id": "b3ede060",
   "metadata": {},
   "source": [
    "## Convert Scorecard into PD"
   ]
  },
  {
   "cell_type": "code",
   "execution_count": null,
   "id": "1b9b1af4",
   "metadata": {},
   "outputs": [],
   "source": [
    "# Convert Credit Score to PD (Probability of Default)\n",
    "sum_of_coef_from_score = ((y_scores-min_score)/(max_score - min_score))*(max_sum_coef - min_sum_coef) + min_sum_coef\n",
    "\n",
    "y_hat_proba_from_score = np.exp(sum_of_coef_from_score) / (np.exp(sum_of_coef_from_score) + 1)\n",
    "y_hat_proba_from_score.head()"
   ]
  },
  {
   "cell_type": "code",
   "execution_count": null,
   "id": "e11b8ccf",
   "metadata": {},
   "outputs": [],
   "source": [
    "cutoffs = pd.concat([pd.DataFrame(threshold), pd.DataFrame(fpr), pd.DataFrame(tpr)], axis=1)\n",
    "cutoffs.columns = ['threshold','fpr','tpr']\n",
    "cutoffs.head()"
   ]
  },
  {
   "cell_type": "code",
   "execution_count": null,
   "id": "889affd0",
   "metadata": {},
   "outputs": [],
   "source": [
    "# Adjusting the first row of the cutoffs\n",
    "cutoffs['threshold'][0] = 1-1/np.power(10,6)\n",
    "\n",
    "cutoffs['Score'] = ((np.log(cutoffs['threshold']/(1-cutoffs['threshold']))- min_sum_coef) * ((max_score - min_score)/ (max_sum_coef - min_sum_coef)) + min_score).round()\n",
    "cutoffs['Score'][0] = max_score\n",
    "cutoffs.head()"
   ]
  },
  {
   "cell_type": "markdown",
   "id": "66102c26",
   "metadata": {},
   "source": [
    "Total = Number of Approved + Number of Rejected<br>\n",
    "Approval Rate = Number of Approved / Total<br>\n",
    "Rejected Rate = Number of Rejected / Total or 1 - Approval Rate"
   ]
  },
  {
   "cell_type": "code",
   "execution_count": null,
   "id": "4552fc08",
   "metadata": {},
   "outputs": [],
   "source": [
    "def n_approved(n):\n",
    "    return np.where(data_actual_predicted_proba['y_hat_test_proba'] >= n, 1, 0).sum()"
   ]
  },
  {
   "cell_type": "code",
   "execution_count": null,
   "id": "370c3cbd",
   "metadata": {},
   "outputs": [],
   "source": [
    "cutoffs['N Approved'] = cutoffs['threshold'].apply(n_approved)\n",
    "cutoffs['N Rejected'] = data_actual_predicted_proba['y_hat_test_proba'].shape[0] - cutoffs['N Approved']\n",
    "\n",
    "cutoffs['Approval Rate'] = cutoffs['N Approved'] / data_actual_predicted_proba['y_hat_test_proba'].shape[0]\n",
    "cutoffs['Rejected Rate'] = 1 - cutoffs['Approval Rate']"
   ]
  },
  {
   "cell_type": "code",
   "execution_count": null,
   "id": "3196fa65",
   "metadata": {},
   "outputs": [],
   "source": [
    "cutoffs.iloc[300:500, ]"
   ]
  },
  {
   "cell_type": "code",
   "execution_count": null,
   "id": "39eb60e3",
   "metadata": {},
   "outputs": [],
   "source": []
  },
  {
   "cell_type": "markdown",
   "id": "6bece766",
   "metadata": {},
   "source": [
    "# Applying PD Model Into Original Dataset"
   ]
  },
  {
   "cell_type": "code",
   "execution_count": null,
   "id": "6cc547f0",
   "metadata": {},
   "outputs": [],
   "source": [
    "#combine X_train and X_test\n",
    "frame = [selected_dummy_train, selected_dummy_test]\n",
    "dummy = pd.concat(frame, axis=0)\n",
    "\n",
    "dummy = dummy.drop(columns=['Intercept'])\n",
    "dummy = dummy.sort_index()"
   ]
  },
  {
   "cell_type": "code",
   "execution_count": null,
   "id": "2456810f",
   "metadata": {},
   "outputs": [],
   "source": [
    "data.shape"
   ]
  },
  {
   "cell_type": "code",
   "execution_count": null,
   "id": "06e4eee1",
   "metadata": {},
   "outputs": [],
   "source": [
    "dummy.shape"
   ]
  },
  {
   "cell_type": "code",
   "execution_count": null,
   "id": "059d9005",
   "metadata": {},
   "outputs": [],
   "source": [
    "dummy.head()"
   ]
  },
  {
   "cell_type": "code",
   "execution_count": null,
   "id": "9a90f954",
   "metadata": {},
   "outputs": [],
   "source": [
    "data.head(2)"
   ]
  },
  {
   "cell_type": "code",
   "execution_count": null,
   "id": "183ba326",
   "metadata": {},
   "outputs": [],
   "source": [
    "frame=[dummy, data]\n",
    "data_temp = pd.concat(frame, axis=1)"
   ]
  },
  {
   "cell_type": "code",
   "execution_count": null,
   "id": "5065187a",
   "metadata": {},
   "outputs": [],
   "source": [
    "data_temp.head()"
   ]
  },
  {
   "cell_type": "code",
   "execution_count": null,
   "id": "3164289f",
   "metadata": {},
   "outputs": [],
   "source": [
    "data_temp['PD'] = reg.model.predict_proba(data_temp[selected_features])[: ][:,0]"
   ]
  },
  {
   "cell_type": "code",
   "execution_count": null,
   "id": "29420483",
   "metadata": {},
   "outputs": [],
   "source": [
    "data_temp.head(2)"
   ]
  },
  {
   "cell_type": "code",
   "execution_count": null,
   "id": "49fc63e0",
   "metadata": {},
   "outputs": [],
   "source": []
  },
  {
   "cell_type": "code",
   "execution_count": null,
   "id": "b91af95e",
   "metadata": {},
   "outputs": [],
   "source": []
  },
  {
   "cell_type": "code",
   "execution_count": null,
   "id": "ad3fe5c7",
   "metadata": {},
   "outputs": [],
   "source": []
  },
  {
   "cell_type": "code",
   "execution_count": null,
   "id": "fc6dc569",
   "metadata": {},
   "outputs": [],
   "source": []
  },
  {
   "cell_type": "markdown",
   "id": "4c9edad3",
   "metadata": {},
   "source": [
    "# Loss Given Default"
   ]
  },
  {
   "cell_type": "markdown",
   "id": "3e756e21",
   "metadata": {},
   "source": [
    "LGD: the percentage of the exposure that was lost after the borrower defaulted.<br>\n",
    "EAD: the amount of exposure at the moment the borrower defaulted."
   ]
  },
  {
   "cell_type": "markdown",
   "id": "e599a9d8",
   "metadata": {},
   "source": [
    "## LGD Features"
   ]
  },
  {
   "cell_type": "code",
   "execution_count": null,
   "id": "acc3baa1",
   "metadata": {},
   "outputs": [],
   "source": [
    "data['recovery_rate'] = data['recoveries'] / data['funded_amnt']\n",
    "data['recovery_rate'].describe()"
   ]
  },
  {
   "cell_type": "code",
   "execution_count": null,
   "id": "6235cf73",
   "metadata": {},
   "outputs": [],
   "source": [
    "#The dependent variable for LGD is recovery_rate\n",
    "#Since the recovery rate should be bounded between 0 and 1, we need to adjust the maximum value of the recovery rate\n",
    "data['recovery_rate'] = np.where(data['recovery_rate'] > 1, 1, data['recovery_rate'])\n",
    "data['recovery_rate'] = np.where(data['recovery_rate'] < 0, 0, data['recovery_rate'])\n",
    "\n",
    "data['recovery_rate'].describe()"
   ]
  },
  {
   "cell_type": "code",
   "execution_count": null,
   "id": "954a60b2",
   "metadata": {},
   "outputs": [],
   "source": [
    "loan_data_default = data[data.loan_status.isin([\n",
    "    'Charged Off','Does not meet the credit policy. Status:Charged Off', 'Default'\n",
    "])]"
   ]
  },
  {
   "cell_type": "code",
   "execution_count": null,
   "id": "70f950d2",
   "metadata": {},
   "outputs": [],
   "source": [
    "loan_data_default.head(2)"
   ]
  },
  {
   "cell_type": "code",
   "execution_count": null,
   "id": "4811b612",
   "metadata": {},
   "outputs": [],
   "source": [
    "# loan_data_default['recovery_rate_0_1'] = np.where(loan_data_default['recovery_rate'] == 0, 0, 1)"
   ]
  },
  {
   "cell_type": "code",
   "execution_count": null,
   "id": "8f012aa6",
   "metadata": {},
   "outputs": [],
   "source": [
    "# loan_data_default.head(2)"
   ]
  },
  {
   "cell_type": "markdown",
   "id": "97548427",
   "metadata": {},
   "source": [
    "# Feature Selection - Based on IV"
   ]
  },
  {
   "cell_type": "markdown",
   "id": "3253f37d",
   "metadata": {},
   "source": [
    "The following are the selected feature with the **IV** score **> 0.02**:\n",
    "1. grade\n",
    "2. home_ownership\n",
    "3. verification_status\n",
    "4. purpose\n",
    "5. addr_state\n",
    "6. initial_list_status"
   ]
  },
  {
   "cell_type": "markdown",
   "id": "3415f29f",
   "metadata": {},
   "source": [
    "The following are the selected feature with the **IV** score **> 0.02**:\n",
    "1. term_int\n",
    "2. int_rate\n",
    "3. delinq_2yrs_factor\n",
    "4. inq_last_6mths\n",
    "5. open_acc\n",
    "6. pub_rec\n",
    "7. acc_now_delinq\n",
    "8. annual_inc\n",
    "9. mths_since_last_delinq\n",
    "10. dti"
   ]
  },
  {
   "cell_type": "code",
   "execution_count": null,
   "id": "af8dcd59",
   "metadata": {},
   "outputs": [],
   "source": [
    "# selected_features_lgd = [\n",
    "#     'grade','home_ownership','verification_status','purpose','initial_list_status',\n",
    "#     'term_int', 'int_rate','delinq_2yrs','inq_last_6mths','open_acc','pub_rec','acc_now_delinq',\n",
    "#     'annual_inc','mths_since_last_delinq', 'dti'\n",
    "# ]"
   ]
  },
  {
   "cell_type": "code",
   "execution_count": null,
   "id": "dc3cfa59",
   "metadata": {},
   "outputs": [],
   "source": [
    "loan_data_default = loan_data_default[~loan_data_default.addr_state.isin(['NE','IA','ID'])]"
   ]
  },
  {
   "cell_type": "code",
   "execution_count": null,
   "id": "ef0479f4",
   "metadata": {
    "scrolled": true
   },
   "outputs": [],
   "source": [
    "loan_data_default.head()"
   ]
  },
  {
   "cell_type": "code",
   "execution_count": null,
   "id": "436084d1",
   "metadata": {},
   "outputs": [],
   "source": [
    "loan_data_default.drop(columns=['id','member_id', 'pymnt_plan', 'url','zip_code','application_type','earliest_cr_line_date',\n",
    "                               'issue_d_date','last_pymnt_d_date','next_pymnt_d_date','last_credit_pull_d_date',\n",
    "                               'emp_title','desc','title','sub_grade','loan_status','total_rev_hi_lim',\n",
    "                               'tot_cur_bal','tot_coll_amt','total_rec_late_fee','total_rec_int',\n",
    "                               'total_pymnt_inv','total_pymnt','total_acc'], inplace=True)"
   ]
  },
  {
   "cell_type": "markdown",
   "id": "3cfee498",
   "metadata": {},
   "source": [
    "## Splitting Data (80/20)"
   ]
  },
  {
   "cell_type": "code",
   "execution_count": null,
   "id": "46dd321d",
   "metadata": {},
   "outputs": [],
   "source": [
    "from sklearn.model_selection import train_test_split\n",
    "\n",
    "# X = loan_data_default.drop(columns=['good_bad', 'recovery_rate', 'recovery_rate_0_1'])\n",
    "# y = loan_data_default['recovery_rate_0_1']\n",
    "X = loan_data_default.drop(columns=['recovery_rate'])\n",
    "y = loan_data_default['recovery_rate']\n",
    "\n",
    "X_train_lgd_1, X_test_lgd_1, y_train_lgd_1, y_test_lgd_1 = train_test_split(X,y, test_size=0.2, random_state=42)"
   ]
  },
  {
   "cell_type": "code",
   "execution_count": null,
   "id": "6ca9497a",
   "metadata": {},
   "outputs": [],
   "source": [
    "# X_train_lgd_temp = X_train_lgd_1[selected_features_lgd]\n",
    "# X_test_lgd_temp = X_test_lgd_1[selected_features_lgd]\n",
    "\n",
    "X_train_lgd_temp = X_train_lgd_1\n",
    "X_test_lgd_temp = X_test_lgd_1"
   ]
  },
  {
   "cell_type": "code",
   "execution_count": null,
   "id": "69e2e7da",
   "metadata": {},
   "outputs": [],
   "source": [
    "X_train_lgd_temp.head(2)"
   ]
  },
  {
   "cell_type": "code",
   "execution_count": null,
   "id": "6f529ee9",
   "metadata": {},
   "outputs": [],
   "source": [
    "data_dummies_train = [\n",
    "                pd.get_dummies(X_train_lgd_temp['grade'], prefix='grade', prefix_sep=':'),\n",
    "                pd.get_dummies(X_train_lgd_temp['home_ownership'], prefix='home_ownership', prefix_sep=':'),\n",
    "                pd.get_dummies(X_train_lgd_temp['verification_status'], prefix='verification_status', prefix_sep=':'),\n",
    "                pd.get_dummies(X_train_lgd_temp['purpose'], prefix='purpose', prefix_sep=':'),\n",
    "                pd.get_dummies(X_train_lgd_temp['addr_state'], prefix='addr_state', prefix_sep=':'),\n",
    "                pd.get_dummies(X_train_lgd_temp['initial_list_status'], prefix='initial_list_status', prefix_sep=':'),\n",
    "               ]\n",
    "\n",
    "data_dummies_test = [\n",
    "                pd.get_dummies(X_test_lgd_temp['grade'], prefix='grade', prefix_sep=':'),\n",
    "                pd.get_dummies(X_test_lgd_temp['home_ownership'], prefix='home_ownership', prefix_sep=':'),\n",
    "                pd.get_dummies(X_test_lgd_temp['verification_status'], prefix='verification_status', prefix_sep=':'),\n",
    "                pd.get_dummies(X_test_lgd_temp['purpose'], prefix='purpose', prefix_sep=':'),\n",
    "                pd.get_dummies(X_test_lgd_temp['addr_state'], prefix='addr_state', prefix_sep=':'),\n",
    "                pd.get_dummies(X_test_lgd_temp['initial_list_status'], prefix='initial_list_status', prefix_sep=':'),\n",
    "               ]\n",
    "\n",
    "#Convert into dataframe\n",
    "data_dummies_train = pd.concat(data_dummies_train, axis=1)\n",
    "data_dummies_test = pd.concat(data_dummies_test, axis=1)\n",
    "\n",
    "X_train_lgd_temp = pd.concat([X_train_lgd_temp, data_dummies_train], axis=1)\n",
    "X_test_lgd_temp = pd.concat([X_test_lgd_temp, data_dummies_test], axis=1)\n",
    "\n",
    "X_train_lgd_temp.drop(columns=['grade','home_ownership','verification_status','purpose','addr_state','initial_list_status'], inplace=True)\n",
    "X_test_lgd_temp.drop(columns=['grade','home_ownership','verification_status','purpose','addr_state','initial_list_status'], inplace=True)"
   ]
  },
  {
   "cell_type": "code",
   "execution_count": null,
   "id": "970ac19b",
   "metadata": {},
   "outputs": [],
   "source": [
    "X_train_lgd_temp.head(2)"
   ]
  },
  {
   "cell_type": "markdown",
   "id": "02332ede",
   "metadata": {},
   "source": [
    "# Preprocessing LGD Features"
   ]
  },
  {
   "cell_type": "markdown",
   "id": "ad807fe1",
   "metadata": {},
   "source": [
    "## Scaling Features"
   ]
  },
  {
   "cell_type": "code",
   "execution_count": null,
   "id": "e26b7589",
   "metadata": {},
   "outputs": [],
   "source": [
    "from sklearn.preprocessing import StandardScaler\n",
    "\n",
    "scaler = StandardScaler()\n",
    "std_x_train_lgd = scaler.fit_transform(X_train_lgd_temp)\n",
    "std_x_train_lgd = pd.DataFrame(std_x_train_lgd, columns=X_train_lgd_temp.columns)\n",
    "\n",
    "std_x_test_lgd = scaler.transform(X_test_lgd_temp)\n",
    "std_x_test_lgd = pd.DataFrame(std_x_test_lgd, columns=X_test_lgd_temp.columns)"
   ]
  },
  {
   "cell_type": "markdown",
   "id": "803c0931",
   "metadata": {},
   "source": [
    "# LGD Modeling"
   ]
  },
  {
   "cell_type": "code",
   "execution_count": null,
   "id": "c063a291",
   "metadata": {},
   "outputs": [],
   "source": [
    "# from sklearn import linear_model\n",
    "# import scipy.stats as stat\n",
    "\n",
    "# class LinearRegression(linear_model.LinearRegression):\n",
    "#     def __init__(self, fit_intercept=True, normalize=False, copy_X=True,\n",
    "#                  n_jobs=1, positive=False):\n",
    "#         self.fit_intercept = fit_intercept\n",
    "#         self.normalize = normalize\n",
    "#         self.copy_X = copy_X\n",
    "#         self.n_jobs = n_jobs\n",
    "#         self.positive = positive\n",
    "#     def fit(self, X, y, n_jobs=1):\n",
    "#         self = super(LinearRegression, self).fit(X, y, n_jobs)\n",
    "#         sse = np.sum((self.predict(X) - y) ** 2, axis=0) / float(X.shape[0] - X.shape[1])\n",
    "#         se = np.array([np.sqrt(np.diagonal(sse * np.linalg.inv(np.dot(X.T, X))))])\n",
    "#         self.t = self.coef_ / se\n",
    "#         self.p = np.squeeze(2 * (1 - stat.t.cdf(np.abs(self.t), y.shape[0] - X.shape[1])))\n",
    "#         return self"
   ]
  },
  {
   "cell_type": "code",
   "execution_count": null,
   "id": "94465975",
   "metadata": {},
   "outputs": [],
   "source": [
    "from sklearn.linear_model import LinearRegression\n",
    "\n",
    "reg_lgd = LinearRegression()\n",
    "reg_lgd.fit(std_x_train_lgd, y_train_lgd_1)\n",
    "# reg_lgd.fit(X_train_lgd_temp, y_train_lgd_1)"
   ]
  },
  {
   "cell_type": "markdown",
   "id": "be2363d9",
   "metadata": {},
   "source": [
    "# Model Evaluation"
   ]
  },
  {
   "cell_type": "code",
   "execution_count": null,
   "id": "a6b8fb28",
   "metadata": {},
   "outputs": [],
   "source": [
    "y_pred_lgd = reg_lgd.predict(std_x_test_lgd)\n",
    "# y_pred_lgd = reg_lgd.predict(X_test_lgd_temp)"
   ]
  },
  {
   "cell_type": "markdown",
   "id": "8c99d758",
   "metadata": {},
   "source": [
    "## R-Square"
   ]
  },
  {
   "cell_type": "code",
   "execution_count": null,
   "id": "81b455eb",
   "metadata": {},
   "outputs": [],
   "source": [
    "from sklearn.metrics import r2_score,mean_squared_error,mean_absolute_error\n",
    "\n",
    "print(\"R2 Score\")\n",
    "r2_score(y_test_lgd_1, y_pred_lgd)"
   ]
  },
  {
   "cell_type": "code",
   "execution_count": null,
   "id": "37e4eace",
   "metadata": {},
   "outputs": [],
   "source": [
    "sns.distplot(y_test_lgd_1 - y_pred_lgd)"
   ]
  },
  {
   "cell_type": "code",
   "execution_count": null,
   "id": "c4e6853c",
   "metadata": {},
   "outputs": [],
   "source": []
  },
  {
   "cell_type": "code",
   "execution_count": null,
   "id": "4917cad3",
   "metadata": {},
   "outputs": [],
   "source": []
  },
  {
   "cell_type": "code",
   "execution_count": null,
   "id": "17465e65",
   "metadata": {},
   "outputs": [],
   "source": []
  },
  {
   "cell_type": "code",
   "execution_count": null,
   "id": "76c6859d",
   "metadata": {},
   "outputs": [],
   "source": []
  },
  {
   "cell_type": "code",
   "execution_count": null,
   "id": "cd346f2e",
   "metadata": {},
   "outputs": [],
   "source": []
  },
  {
   "cell_type": "markdown",
   "id": "08a55b2c",
   "metadata": {},
   "source": [
    "# Exposure At Default"
   ]
  },
  {
   "cell_type": "markdown",
   "id": "9d0fba18",
   "metadata": {},
   "source": [
    "## EAD Features"
   ]
  },
  {
   "cell_type": "code",
   "execution_count": null,
   "id": "c79bb2b1",
   "metadata": {},
   "outputs": [],
   "source": [
    "loan_data_default.head()"
   ]
  },
  {
   "cell_type": "code",
   "execution_count": null,
   "id": "79492fa4",
   "metadata": {},
   "outputs": [],
   "source": [
    "loan_data_default['CCF'] = (loan_data_default['funded_amnt'] - loan_data_default['total_rec_prncp'])/loan_data_default['funded_amnt']\n",
    "loan_data_default['CCF'].describe()"
   ]
  },
  {
   "cell_type": "code",
   "execution_count": null,
   "id": "0abdf1dd",
   "metadata": {},
   "outputs": [],
   "source": [
    "loan_data_default.head(2)"
   ]
  },
  {
   "cell_type": "code",
   "execution_count": null,
   "id": "3d2669a5",
   "metadata": {},
   "outputs": [],
   "source": [
    "loan_data_default = loan_data_default[~loan_data_default.addr_state.isin(['NE','IA','ID'])]"
   ]
  },
  {
   "cell_type": "code",
   "execution_count": null,
   "id": "2622840f",
   "metadata": {},
   "outputs": [],
   "source": [
    "loan_data_default.drop(columns=['Unnamed: 0','policy_code'], inplace=True)"
   ]
  },
  {
   "cell_type": "code",
   "execution_count": null,
   "id": "82e9da00",
   "metadata": {},
   "outputs": [],
   "source": []
  },
  {
   "cell_type": "markdown",
   "id": "c528342d",
   "metadata": {},
   "source": [
    "## Splitting Data (80/20)"
   ]
  },
  {
   "cell_type": "code",
   "execution_count": null,
   "id": "ae6371a3",
   "metadata": {},
   "outputs": [],
   "source": [
    "X = loan_data_default.drop(columns=['CCF'])\n",
    "y = loan_data_default['CCF']\n",
    "\n",
    "X_train_ead, X_test_ead, y_train_ead, y_test_ead = train_test_split(X,y, test_size=0.2, random_state=42)"
   ]
  },
  {
   "cell_type": "code",
   "execution_count": null,
   "id": "c8fb1e01",
   "metadata": {},
   "outputs": [],
   "source": [
    "data_dummies_train = [\n",
    "                pd.get_dummies(X_train_ead['grade'], prefix='grade', prefix_sep=':'),\n",
    "                pd.get_dummies(X_train_ead['home_ownership'], prefix='home_ownership', prefix_sep=':'),\n",
    "                pd.get_dummies(X_train_ead['verification_status'], prefix='verification_status', prefix_sep=':'),\n",
    "                pd.get_dummies(X_train_ead['purpose'], prefix='purpose', prefix_sep=':'),\n",
    "                pd.get_dummies(X_train_ead['addr_state'], prefix='addr_state', prefix_sep=':'),\n",
    "                pd.get_dummies(X_train_ead['initial_list_status'], prefix='initial_list_status', prefix_sep=':'),\n",
    "               ]\n",
    "\n",
    "data_dummies_test = [\n",
    "                pd.get_dummies(X_test_ead['grade'], prefix='grade', prefix_sep=':'),\n",
    "                pd.get_dummies(X_test_ead['home_ownership'], prefix='home_ownership', prefix_sep=':'),\n",
    "                pd.get_dummies(X_test_ead['verification_status'], prefix='verification_status', prefix_sep=':'),\n",
    "                pd.get_dummies(X_test_ead['purpose'], prefix='purpose', prefix_sep=':'),\n",
    "                pd.get_dummies(X_test_ead['addr_state'], prefix='addr_state', prefix_sep=':'),\n",
    "                pd.get_dummies(X_test_ead['initial_list_status'], prefix='initial_list_status', prefix_sep=':'),\n",
    "               ]\n",
    "\n",
    "#Convert into dataframe\n",
    "data_dummies_train = pd.concat(data_dummies_train, axis=1)\n",
    "data_dummies_test = pd.concat(data_dummies_test, axis=1)\n",
    "\n",
    "X_train_ead = pd.concat([X_train_ead, data_dummies_train], axis=1)\n",
    "X_test_ead = pd.concat([X_test_ead, data_dummies_test], axis=1)\n",
    "\n",
    "X_train_ead.drop(columns=['grade','home_ownership','verification_status','purpose','addr_state','initial_list_status'], inplace=True)\n",
    "X_test_ead.drop(columns=['grade','home_ownership','verification_status','purpose','addr_state','initial_list_status'], inplace=True)"
   ]
  },
  {
   "cell_type": "code",
   "execution_count": null,
   "id": "8fef2a11",
   "metadata": {},
   "outputs": [],
   "source": [
    "X_train_ead.head(3)"
   ]
  },
  {
   "cell_type": "markdown",
   "id": "82532a98",
   "metadata": {},
   "source": [
    "# Preprocessing EAD Features"
   ]
  },
  {
   "cell_type": "markdown",
   "id": "a8bf49a9",
   "metadata": {},
   "source": [
    "## Scaling Features"
   ]
  },
  {
   "cell_type": "code",
   "execution_count": null,
   "id": "85d180c0",
   "metadata": {},
   "outputs": [],
   "source": [
    "from sklearn.preprocessing import StandardScaler\n",
    "\n",
    "scaler = StandardScaler()\n",
    "std_x_train_ead = scaler.fit_transform(X_train_ead)\n",
    "std_x_train_ead = pd.DataFrame(std_x_train_lgd, columns=X_train_lgd_temp.columns)\n",
    "\n",
    "std_x_test_ead = scaler.transform(X_test_ead)\n",
    "std_x_test_ead = pd.DataFrame(std_x_test_lgd, columns=X_test_lgd_temp.columns)"
   ]
  },
  {
   "cell_type": "markdown",
   "id": "04ba9e1a",
   "metadata": {},
   "source": [
    "# EAD Modeling"
   ]
  },
  {
   "cell_type": "code",
   "execution_count": null,
   "id": "6abccf74",
   "metadata": {},
   "outputs": [],
   "source": [
    "from sklearn.linear_model import LinearRegression\n",
    "\n",
    "reg_ead = LinearRegression()\n",
    "# reg_ead.fit(std_x_train_ead, y_train_ead)\n",
    "reg_ead.fit(X_train_ead, y_train_ead)"
   ]
  },
  {
   "cell_type": "markdown",
   "id": "4daf1d35",
   "metadata": {},
   "source": [
    "# Model Evaluation"
   ]
  },
  {
   "cell_type": "code",
   "execution_count": null,
   "id": "fc496733",
   "metadata": {},
   "outputs": [],
   "source": [
    "# y_pred_ead = reg_ead.predict(std_x_test_ead)\n",
    "y_pred_ead = reg_ead.predict(X_test_ead)"
   ]
  },
  {
   "cell_type": "code",
   "execution_count": null,
   "id": "b94e40a6",
   "metadata": {},
   "outputs": [],
   "source": [
    "from sklearn.metrics import r2_score,mean_squared_error,mean_absolute_error\n",
    "\n",
    "print(\"R2 Score\")\n",
    "r2_score(y_test_ead, y_pred_ead)"
   ]
  },
  {
   "cell_type": "code",
   "execution_count": null,
   "id": "b9c6beb9",
   "metadata": {},
   "outputs": [],
   "source": [
    "frame = [y_test_ead, pd.DataFrame(y_pred_ead)]\n",
    "pd.concat(frame, axis=1).corr()"
   ]
  },
  {
   "cell_type": "code",
   "execution_count": null,
   "id": "660211fc",
   "metadata": {},
   "outputs": [],
   "source": [
    "sns.distplot(y_test_ead - y_pred_ead)"
   ]
  },
  {
   "cell_type": "code",
   "execution_count": null,
   "id": "baa27a87",
   "metadata": {},
   "outputs": [],
   "source": []
  },
  {
   "cell_type": "code",
   "execution_count": null,
   "id": "9e1c682a",
   "metadata": {},
   "outputs": [],
   "source": []
  },
  {
   "cell_type": "code",
   "execution_count": null,
   "id": "eda545ac",
   "metadata": {},
   "outputs": [],
   "source": []
  },
  {
   "cell_type": "code",
   "execution_count": null,
   "id": "f29fa155",
   "metadata": {},
   "outputs": [],
   "source": []
  },
  {
   "cell_type": "code",
   "execution_count": null,
   "id": "fef697f2",
   "metadata": {},
   "outputs": [],
   "source": []
  },
  {
   "cell_type": "code",
   "execution_count": null,
   "id": "3b79f5c7",
   "metadata": {},
   "outputs": [],
   "source": []
  },
  {
   "cell_type": "markdown",
   "id": "189566c8",
   "metadata": {},
   "source": [
    "# Expected Loss - EL"
   ]
  },
  {
   "cell_type": "code",
   "execution_count": null,
   "id": "710d419c",
   "metadata": {},
   "outputs": [],
   "source": [
    "data_preprocesed = data.copy()"
   ]
  },
  {
   "cell_type": "code",
   "execution_count": null,
   "id": "996c8313",
   "metadata": {},
   "outputs": [],
   "source": [
    "data_preprocesed.drop(columns=['good_bad','recovery_rate'], inplace=True)"
   ]
  },
  {
   "cell_type": "code",
   "execution_count": null,
   "id": "57e1f14f",
   "metadata": {},
   "outputs": [],
   "source": [
    "data_preprocesed_lgd_ead = "
   ]
  },
  {
   "cell_type": "code",
   "execution_count": null,
   "id": "e52fe961",
   "metadata": {},
   "outputs": [],
   "source": [
    "data_preprocesed['recovery_rate'] = reg_lgd.predict(data_prep)"
   ]
  },
  {
   "cell_type": "code",
   "execution_count": null,
   "id": "a3383e19",
   "metadata": {},
   "outputs": [],
   "source": []
  },
  {
   "cell_type": "code",
   "execution_count": null,
   "id": "71f41267",
   "metadata": {},
   "outputs": [],
   "source": []
  },
  {
   "cell_type": "code",
   "execution_count": null,
   "id": "f142518e",
   "metadata": {},
   "outputs": [],
   "source": []
  },
  {
   "cell_type": "code",
   "execution_count": null,
   "id": "13c68d90",
   "metadata": {},
   "outputs": [],
   "source": []
  },
  {
   "cell_type": "code",
   "execution_count": null,
   "id": "7ede6706",
   "metadata": {},
   "outputs": [],
   "source": []
  },
  {
   "cell_type": "code",
   "execution_count": null,
   "id": "cd2244af",
   "metadata": {},
   "outputs": [],
   "source": [
    "loan_data_default.head(2)"
   ]
  },
  {
   "cell_type": "code",
   "execution_count": null,
   "id": "9dca2bca",
   "metadata": {},
   "outputs": [],
   "source": [
    "loan_data_default['LGD'] = 1-loan_data_default['recovery_rate']\n",
    "loan_data_default['LGD'].describe()"
   ]
  },
  {
   "cell_type": "code",
   "execution_count": null,
   "id": "fcb6034d",
   "metadata": {},
   "outputs": [],
   "source": [
    "loan_data_default['EAD'] = loan_data_default['CCF'] * loan_data_default['funded_amnt']\n",
    "loan_data_default['EAD'].describe()"
   ]
  },
  {
   "cell_type": "code",
   "execution_count": null,
   "id": "2db59d04",
   "metadata": {},
   "outputs": [],
   "source": [
    "loan_data_default.head(2)"
   ]
  },
  {
   "cell_type": "code",
   "execution_count": null,
   "id": "671776e0",
   "metadata": {},
   "outputs": [],
   "source": [
    "frame = [X_train_pd, X_test_pd]\n",
    "data_pd = pd.concat(frame, axis=0)\n",
    "\n",
    "# data_pd = data_pd[selected_features]"
   ]
  },
  {
   "cell_type": "code",
   "execution_count": null,
   "id": "7fefbaeb",
   "metadata": {},
   "outputs": [],
   "source": []
  },
  {
   "cell_type": "code",
   "execution_count": null,
   "id": "6e25a13c",
   "metadata": {},
   "outputs": [],
   "source": [
    "loan_data_default.shape"
   ]
  },
  {
   "cell_type": "code",
   "execution_count": null,
   "id": "b8d2f10e",
   "metadata": {},
   "outputs": [],
   "source": [
    "data_pd.shape"
   ]
  },
  {
   "cell_type": "code",
   "execution_count": null,
   "id": "35d3a525",
   "metadata": {},
   "outputs": [],
   "source": []
  },
  {
   "cell_type": "code",
   "execution_count": null,
   "id": "369dd73e",
   "metadata": {},
   "outputs": [],
   "source": []
  },
  {
   "cell_type": "code",
   "execution_count": null,
   "id": "1c5d69e1",
   "metadata": {},
   "outputs": [],
   "source": []
  },
  {
   "cell_type": "code",
   "execution_count": null,
   "id": "8672b00f",
   "metadata": {},
   "outputs": [],
   "source": [
    "data_pd['funded_amnt'].isna().sum()"
   ]
  },
  {
   "cell_type": "code",
   "execution_count": null,
   "id": "db26bbf2",
   "metadata": {},
   "outputs": [],
   "source": [
    "# Retrieve only the probability of default (PD=0)\n",
    "data_pd['PD'] = reg.model.predict_proba(data_pd[selected_features])[: ][:,0]"
   ]
  },
  {
   "cell_type": "code",
   "execution_count": null,
   "id": "41e8a0fe",
   "metadata": {},
   "outputs": [],
   "source": [
    "frame = [loan_data_default, data_pd]\n",
    "data_new = pd.concat(frame, axis=1)"
   ]
  },
  {
   "cell_type": "code",
   "execution_count": null,
   "id": "5d12d2a7",
   "metadata": {},
   "outputs": [],
   "source": [
    "data_new.head(2)"
   ]
  },
  {
   "cell_type": "code",
   "execution_count": null,
   "id": "7030abe6",
   "metadata": {},
   "outputs": [],
   "source": [
    "# data_new = data_new.dropna(how='any', axis=1)"
   ]
  },
  {
   "cell_type": "code",
   "execution_count": null,
   "id": "f8a9dcc3",
   "metadata": {},
   "outputs": [],
   "source": [
    "data_new['EL'] = data_new['PD'] * data_new['LGD'] * data_new['EAD']"
   ]
  },
  {
   "cell_type": "code",
   "execution_count": null,
   "id": "e3eaf71e",
   "metadata": {},
   "outputs": [],
   "source": [
    "data_new[['funded_amnt','PD','LGD','EAD','EL']].head(10)"
   ]
  },
  {
   "cell_type": "code",
   "execution_count": null,
   "id": "3320e975",
   "metadata": {},
   "outputs": [],
   "source": [
    "data_new.isna().sum()"
   ]
  },
  {
   "cell_type": "code",
   "execution_count": null,
   "id": "ac8bb01e",
   "metadata": {},
   "outputs": [],
   "source": []
  }
 ],
 "metadata": {
  "kernelspec": {
   "display_name": "Python 3 (ipykernel)",
   "language": "python",
   "name": "python3"
  },
  "language_info": {
   "codemirror_mode": {
    "name": "ipython",
    "version": 3
   },
   "file_extension": ".py",
   "mimetype": "text/x-python",
   "name": "python",
   "nbconvert_exporter": "python",
   "pygments_lexer": "ipython3",
   "version": "3.9.13"
  }
 },
 "nbformat": 4,
 "nbformat_minor": 5
}
